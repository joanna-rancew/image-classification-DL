{
  "cells": [
    {
      "cell_type": "markdown",
      "metadata": {
        "id": "WsfOOQOBx8xh"
      },
      "source": [
        "# Image Classification Problem\n",
        "The task of the challenge was to classify images of leaves within two classes: either healthy or unhealthy. The images were associated with respective labels. Each image of size 96 x 96 was stored on 3 RGB channels.\n"
      ]
    },
    {
      "cell_type": "markdown",
      "metadata": {
        "id": "YyOpsJNIAvjN"
      },
      "source": [
        "## Setup\n"
      ]
    },
    {
      "cell_type": "markdown",
      "metadata": {
        "id": "omSLbdLvhDRx"
      },
      "source": [
        "### Connect to Drive"
      ]
    },
    {
      "cell_type": "code",
      "execution_count": null,
      "metadata": {
        "colab": {
          "base_uri": "https://localhost:8080/"
        },
        "id": "AoaLQpvChLpb",
        "outputId": "3ac70c63-617a-47fd-ad4d-b9f4dc35b722"
      },
      "outputs": [
        {
          "name": "stdout",
          "output_type": "stream",
          "text": [
            "Mounted at /gdrive\n",
            "/gdrive/.shortcut-targets-by-id/1U3uzkd-O_denCNDC3IVwKl6jH3F_gdl7/ANN challenge\n"
          ]
        }
      ],
      "source": [
        "from google.colab import drive\n",
        "drive.mount('/gdrive')\n",
        "%cd /gdrive/My Drive/Colab Notebooks/ANN challenge"
      ]
    },
    {
      "cell_type": "markdown",
      "metadata": {
        "id": "MdD_8Vyswkwf"
      },
      "source": [
        "### Import libraries"
      ]
    },
    {
      "cell_type": "code",
      "execution_count": null,
      "metadata": {
        "id": "D_S1JfaW8bIN"
      },
      "outputs": [],
      "source": [
        "# Fix randomness and hide warnings\n",
        "seed = 42\n",
        "\n",
        "import os\n",
        "os.environ['TF_CPP_MIN_LOG_LEVEL'] = '3'\n",
        "os.environ['PYTHONHASHSEED'] = str(seed)\n",
        "os.environ['MPLCONFIGDIR'] = os.getcwd()+'/configs/'\n",
        "\n",
        "import warnings\n",
        "warnings.simplefilter(action='ignore', category=FutureWarning)\n",
        "warnings.simplefilter(action='ignore', category=Warning)\n",
        "\n",
        "import numpy as np\n",
        "np.random.seed(seed)\n",
        "\n",
        "import pandas as pd\n",
        "\n",
        "import logging\n",
        "\n",
        "import random\n",
        "random.seed(seed)"
      ]
    },
    {
      "cell_type": "code",
      "execution_count": null,
      "metadata": {
        "colab": {
          "base_uri": "https://localhost:8080/"
        },
        "id": "7TRtQ5GupYFB",
        "outputId": "cd48840d-0794-4482-af38-1ea6bba7e8cb"
      },
      "outputs": [
        {
          "name": "stdout",
          "output_type": "stream",
          "text": [
            "2.14.0\n"
          ]
        }
      ],
      "source": [
        "# Import tensorflow\n",
        "import tensorflow as tf\n",
        "from tensorflow import keras as tfk\n",
        "from tensorflow.keras import layers as tfkl\n",
        "tf.autograph.set_verbosity(0)\n",
        "tf.get_logger().setLevel(logging.ERROR)\n",
        "tf.compat.v1.logging.set_verbosity(tf.compat.v1.logging.ERROR)\n",
        "tf.random.set_seed(seed)\n",
        "tf.compat.v1.set_random_seed(seed)\n",
        "print(tf.__version__)"
      ]
    },
    {
      "cell_type": "code",
      "execution_count": null,
      "metadata": {
        "id": "GOZp5M5QM88W"
      },
      "outputs": [],
      "source": [
        "# Import other libraries\n",
        "import cv2\n",
        "from tensorflow.keras.applications.mobilenet import preprocess_input\n",
        "import matplotlib.pyplot as plt\n",
        "\n",
        "from sklearn.model_selection import train_test_split\n",
        "from sklearn.metrics import accuracy_score, f1_score, precision_score, recall_score, confusion_matrix\n",
        "import seaborn as sns\n"
      ]
    },
    {
      "cell_type": "markdown",
      "metadata": {
        "id": "X3V5fgJUAyva"
      },
      "source": [
        "## Dataset"
      ]
    },
    {
      "cell_type": "markdown",
      "metadata": {
        "id": "_EKV-sJangcN"
      },
      "source": [
        "### Load and process the dataset"
      ]
    },
    {
      "cell_type": "code",
      "execution_count": null,
      "metadata": {
        "id": "m37WpiQCn8jq"
      },
      "outputs": [],
      "source": [
        "# Conditional check for unzipping\n",
        "unzip = False\n",
        "\n",
        "# Unzip the 'public_data.zip' file if the 'unzip' flag is True\n",
        "if unzip:\n",
        "    !unzip public_data.zip\n"
      ]
    },
    {
      "cell_type": "markdown",
      "metadata": {
        "id": "9hBDeZSCcwAc"
      },
      "source": [
        "Loading the dataset."
      ]
    },
    {
      "cell_type": "code",
      "execution_count": null,
      "metadata": {
        "id": "CZQCQ6gQcvBL"
      },
      "outputs": [],
      "source": [
        "npz=np.load('public_data.npz', allow_pickle=True)\n",
        "\n",
        "data=npz['data']\n",
        "labels=npz['labels']\n",
        "data=data.astype(np.uint8)"
      ]
    },
    {
      "cell_type": "markdown",
      "metadata": {
        "id": "deve442EsZsH"
      },
      "source": [
        "#### Data Cleaning (skipped if running with preprocessed dataset)"
      ]
    },
    {
      "cell_type": "markdown",
      "metadata": {
        "id": "VK_QYjhHWeH8"
      },
      "source": [
        "##### Calculating similarity scores and average similarity score to find outliers based on histogram profile"
      ]
    },
    {
      "cell_type": "code",
      "execution_count": null,
      "metadata": {
        "id": "KsFQ8SaNPo5S"
      },
      "outputs": [],
      "source": [
        "def similarity(image1, image2):\n",
        "\n",
        "  hist_img1 = cv2.calcHist([image1], [0,1,2], None, [ 256,256, 256], [0, 256, 0, 256, 0, 256])\n",
        "  cv2.normalize(hist_img1, hist_img1, alpha=0, beta=1, norm_type=cv2.NORM_MINMAX)\n",
        "\n",
        "  hist_img2 = cv2.calcHist([image2], [0, 1, 2], None, [256, 256, 256], [0, 256, 0, 256, 0, 256])\n",
        "  cv2.normalize(hist_img2, hist_img2, alpha=0, beta=1, norm_type=cv2.NORM_MINMAX)\n",
        "\n",
        "  # Find the metric value\n",
        "  metric_val = cv2.compareHist(hist_img1, hist_img2, cv2.HISTCMP_CORREL)\n",
        "\n",
        "  return metric_val"
      ]
    },
    {
      "cell_type": "markdown",
      "metadata": {
        "id": "vKC7Sh1J6IsI"
      },
      "source": [
        "We compare histograms of the images in the dataset to look for outliers."
      ]
    },
    {
      "cell_type": "code",
      "execution_count": null,
      "metadata": {
        "id": "tTSB-9P8YXpc"
      },
      "outputs": [],
      "source": [
        "avg=[]\n",
        "# n=data.shape[0]\n",
        "n=20 #define how many images you want to inspect\n",
        "for i in range(n):\n",
        "  sum=0\n",
        "  hist_img1 = cv2.calcHist([data[i]], [0,1,2], None, [ 256,256, 256], [0, 256, 0, 256, 0, 256])\n",
        "  cv2.normalize(hist_img1, hist_img1, alpha=0, beta=1, norm_type=cv2.NORM_MINMAX)\n",
        "  for j in range(100):\n",
        "    hist_img2 = cv2.calcHist([data[j]], [0, 1, 2], None, [256, 256, 256], [0, 256, 0, 256, 0, 256])\n",
        "    cv2.normalize(hist_img2, hist_img2, alpha=0, beta=1, norm_type=cv2.NORM_MINMAX)\n",
        "\n",
        "    # Find the metric value\n",
        "    metric_val = cv2.compareHist(hist_img1, hist_img2, cv2.HISTCMP_CORREL)\n",
        "    sum=sum+abs(round(metric_val, 2))\n",
        "  avg.append(sum/data.shape[0])\n",
        "\n"
      ]
    },
    {
      "cell_type": "markdown",
      "metadata": {
        "id": "Z-jcjJXV4tpc"
      },
      "source": [
        "Plotting mean average similarity between each image and the rest of the dataset"
      ]
    },
    {
      "cell_type": "code",
      "execution_count": null,
      "metadata": {
        "colab": {
          "base_uri": "https://localhost:8080/",
          "height": 447
        },
        "id": "1CCQB2XWz650",
        "outputId": "ea588938-0753-44e8-e3ed-521695bebfda"
      },
      "outputs": [
        {
          "data": {
            "image/png": "[encoded data removed]",
            "text/plain": [
              "<Figure size 640x480 with 1 Axes>"
            ]
          },
          "metadata": {},
          "output_type": "display_data"
        },
        {
          "name": "stdout",
          "output_type": "stream",
          "text": [
            "0.001181057692307691\n"
          ]
        }
      ],
      "source": [
        "import statistics\n",
        "\n",
        "plt.plot(range(n),avg)\n",
        "plt.show()\n",
        "\n",
        "mean_avg=statistics.fmean(avg)\n",
        "print(mean_avg)\n"
      ]
    },
    {
      "cell_type": "markdown",
      "metadata": {
        "id": "oS3iJL8P5Gr1"
      },
      "source": [
        "We can observe that the tonal distributions (histograms) of some images deviate from other images in the database."
      ]
    },
    {
      "cell_type": "code",
      "execution_count": null,
      "metadata": {
        "colab": {
          "base_uri": "https://localhost:8080/",
          "height": 669
        },
        "id": "W_hKvrT4u2iU",
        "outputId": "2b8017b9-23d6-4844-cb33-b316601f4f1f"
      },
      "outputs": [
        {
          "data": {
            "text/html": [
              "\n",
              "  <div id=\"df-49ee81f5-a6f6-47f7-b362-acaf4b04864a\" class=\"colab-df-container\">\n",
              "    <div>\n",
              "<style scoped>\n",
              "    .dataframe tbody tr th:only-of-type {\n",
              "        vertical-align: middle;\n",
              "    }\n",
              "\n",
              "    .dataframe tbody tr th {\n",
              "        vertical-align: top;\n",
              "    }\n",
              "\n",
              "    .dataframe thead th {\n",
              "        text-align: right;\n",
              "    }\n",
              "</style>\n",
              "<table border=\"1\" class=\"dataframe\">\n",
              "  <thead>\n",
              "    <tr style=\"text-align: right;\">\n",
              "      <th></th>\n",
              "      <th>average</th>\n",
              "    </tr>\n",
              "  </thead>\n",
              "  <tbody>\n",
              "    <tr>\n",
              "      <th>0</th>\n",
              "      <td>0.000781</td>\n",
              "    </tr>\n",
              "    <tr>\n",
              "      <th>1</th>\n",
              "      <td>0.001371</td>\n",
              "    </tr>\n",
              "    <tr>\n",
              "      <th>2</th>\n",
              "      <td>0.001133</td>\n",
              "    </tr>\n",
              "    <tr>\n",
              "      <th>3</th>\n",
              "      <td>0.001267</td>\n",
              "    </tr>\n",
              "    <tr>\n",
              "      <th>4</th>\n",
              "      <td>0.001450</td>\n",
              "    </tr>\n",
              "    <tr>\n",
              "      <th>5</th>\n",
              "      <td>0.001135</td>\n",
              "    </tr>\n",
              "    <tr>\n",
              "      <th>6</th>\n",
              "      <td>0.001154</td>\n",
              "    </tr>\n",
              "    <tr>\n",
              "      <th>7</th>\n",
              "      <td>0.000933</td>\n",
              "    </tr>\n",
              "    <tr>\n",
              "      <th>8</th>\n",
              "      <td>0.001202</td>\n",
              "    </tr>\n",
              "    <tr>\n",
              "      <th>9</th>\n",
              "      <td>0.001090</td>\n",
              "    </tr>\n",
              "    <tr>\n",
              "      <th>10</th>\n",
              "      <td>0.001146</td>\n",
              "    </tr>\n",
              "    <tr>\n",
              "      <th>11</th>\n",
              "      <td>0.001254</td>\n",
              "    </tr>\n",
              "    <tr>\n",
              "      <th>12</th>\n",
              "      <td>0.001127</td>\n",
              "    </tr>\n",
              "    <tr>\n",
              "      <th>13</th>\n",
              "      <td>0.001069</td>\n",
              "    </tr>\n",
              "    <tr>\n",
              "      <th>14</th>\n",
              "      <td>0.001460</td>\n",
              "    </tr>\n",
              "    <tr>\n",
              "      <th>15</th>\n",
              "      <td>0.000813</td>\n",
              "    </tr>\n",
              "    <tr>\n",
              "      <th>16</th>\n",
              "      <td>0.001687</td>\n",
              "    </tr>\n",
              "    <tr>\n",
              "      <th>17</th>\n",
              "      <td>0.001100</td>\n",
              "    </tr>\n",
              "    <tr>\n",
              "      <th>18</th>\n",
              "      <td>0.001073</td>\n",
              "    </tr>\n",
              "    <tr>\n",
              "      <th>19</th>\n",
              "      <td>0.001377</td>\n",
              "    </tr>\n",
              "  </tbody>\n",
              "</table>\n",
              "</div>\n",
              "    <div class=\"colab-df-buttons\">\n",
              "\n",
              "  <div class=\"colab-df-container\">\n",
              "    <button class=\"colab-df-convert\" onclick=\"convertToInteractive('df-49ee81f5-a6f6-47f7-b362-acaf4b04864a')\"\n",
              "            title=\"Convert this dataframe to an interactive table.\"\n",
              "            style=\"display:none;\">\n",
              "\n",
              "  <svg xmlns=\"http://www.w3.org/2000/svg\" height=\"24px\" viewBox=\"0 -960 960 960\">\n",
              "    <path d=\"M120-120v-720h720v720H120Zm60-500h600v-160H180v160Zm220 220h160v-160H400v160Zm0 220h160v-160H400v160ZM180-400h160v-160H180v160Zm440 0h160v-160H620v160ZM180-180h160v-160H180v160Zm440 0h160v-160H620v160Z\"/>\n",
              "  </svg>\n",
              "    </button>\n",
              "\n",
              "  <style>\n",
              "    .colab-df-container {\n",
              "      display:flex;\n",
              "      gap: 12px;\n",
              "    }\n",
              "\n",
              "    .colab-df-convert {\n",
              "      background-color: #E8F0FE;\n",
              "      border: none;\n",
              "      border-radius: 50%;\n",
              "      cursor: pointer;\n",
              "      display: none;\n",
              "      fill: #1967D2;\n",
              "      height: 32px;\n",
              "      padding: 0 0 0 0;\n",
              "      width: 32px;\n",
              "    }\n",
              "\n",
              "    .colab-df-convert:hover {\n",
              "      background-color: #E2EBFA;\n",
              "      box-shadow: 0px 1px 2px rgba(60, 64, 67, 0.3), 0px 1px 3px 1px rgba(60, 64, 67, 0.15);\n",
              "      fill: #174EA6;\n",
              "    }\n",
              "\n",
              "    .colab-df-buttons div {\n",
              "      margin-bottom: 4px;\n",
              "    }\n",
              "\n",
              "    [theme=dark] .colab-df-convert {\n",
              "      background-color: #3B4455;\n",
              "      fill: #D2E3FC;\n",
              "    }\n",
              "\n",
              "    [theme=dark] .colab-df-convert:hover {\n",
              "      background-color: #434B5C;\n",
              "      box-shadow: 0px 1px 3px 1px rgba(0, 0, 0, 0.15);\n",
              "      filter: drop-shadow(0px 1px 2px rgba(0, 0, 0, 0.3));\n",
              "      fill: #FFFFFF;\n",
              "    }\n",
              "  </style>\n",
              "\n",
              "    <script>\n",
              "      const buttonEl =\n",
              "        document.querySelector('#df-49ee81f5-a6f6-47f7-b362-acaf4b04864a button.colab-df-convert');\n",
              "      buttonEl.style.display =\n",
              "        google.colab.kernel.accessAllowed ? 'block' : 'none';\n",
              "\n",
              "      async function convertToInteractive(key) {\n",
              "        const element = document.querySelector('#df-49ee81f5-a6f6-47f7-b362-acaf4b04864a');\n",
              "        const dataTable =\n",
              "          await google.colab.kernel.invokeFunction('convertToInteractive',\n",
              "                                                    [key], {});\n",
              "        if (!dataTable) return;\n",
              "\n",
              "        const docLinkHtml = 'Like what you see? Visit the ' +\n",
              "          '<a target=\"_blank\" href=https://colab.research.google.com/notebooks/data_table.ipynb>data table notebook</a>'\n",
              "          + ' to learn more about interactive tables.';\n",
              "        element.innerHTML = '';\n",
              "        dataTable['output_type'] = 'display_data';\n",
              "        await google.colab.output.renderOutput(dataTable, element);\n",
              "        const docLink = document.createElement('div');\n",
              "        docLink.innerHTML = docLinkHtml;\n",
              "        element.appendChild(docLink);\n",
              "      }\n",
              "    </script>\n",
              "  </div>\n",
              "\n",
              "\n",
              "<div id=\"df-4f91d002-8fdd-4c9e-9d22-b70cd09a2ebb\">\n",
              "  <button class=\"colab-df-quickchart\" onclick=\"quickchart('df-4f91d002-8fdd-4c9e-9d22-b70cd09a2ebb')\"\n",
              "            title=\"Suggest charts\"\n",
              "            style=\"display:none;\">\n",
              "\n",
              "<svg xmlns=\"http://www.w3.org/2000/svg\" height=\"24px\"viewBox=\"0 0 24 24\"\n",
              "     width=\"24px\">\n",
              "    <g>\n",
              "        <path d=\"M19 3H5c-1.1 0-2 .9-2 2v14c0 1.1.9 2 2 2h14c1.1 0 2-.9 2-2V5c0-1.1-.9-2-2-2zM9 17H7v-7h2v7zm4 0h-2V7h2v10zm4 0h-2v-4h2v4z\"/>\n",
              "    </g>\n",
              "</svg>\n",
              "  </button>\n",
              "\n",
              "<style>\n",
              "  .colab-df-quickchart {\n",
              "      --bg-color: #E8F0FE;\n",
              "      --fill-color: #1967D2;\n",
              "      --hover-bg-color: #E2EBFA;\n",
              "      --hover-fill-color: #174EA6;\n",
              "      --disabled-fill-color: #AAA;\n",
              "      --disabled-bg-color: #DDD;\n",
              "  }\n",
              "\n",
              "  [theme=dark] .colab-df-quickchart {\n",
              "      --bg-color: #3B4455;\n",
              "      --fill-color: #D2E3FC;\n",
              "      --hover-bg-color: #434B5C;\n",
              "      --hover-fill-color: #FFFFFF;\n",
              "      --disabled-bg-color: #3B4455;\n",
              "      --disabled-fill-color: #666;\n",
              "  }\n",
              "\n",
              "  .colab-df-quickchart {\n",
              "    background-color: var(--bg-color);\n",
              "    border: none;\n",
              "    border-radius: 50%;\n",
              "    cursor: pointer;\n",
              "    display: none;\n",
              "    fill: var(--fill-color);\n",
              "    height: 32px;\n",
              "    padding: 0;\n",
              "    width: 32px;\n",
              "  }\n",
              "\n",
              "  .colab-df-quickchart:hover {\n",
              "    background-color: var(--hover-bg-color);\n",
              "    box-shadow: 0 1px 2px rgba(60, 64, 67, 0.3), 0 1px 3px 1px rgba(60, 64, 67, 0.15);\n",
              "    fill: var(--button-hover-fill-color);\n",
              "  }\n",
              "\n",
              "  .colab-df-quickchart-complete:disabled,\n",
              "  .colab-df-quickchart-complete:disabled:hover {\n",
              "    background-color: var(--disabled-bg-color);\n",
              "    fill: var(--disabled-fill-color);\n",
              "    box-shadow: none;\n",
              "  }\n",
              "\n",
              "  .colab-df-spinner {\n",
              "    border: 2px solid var(--fill-color);\n",
              "    border-color: transparent;\n",
              "    border-bottom-color: var(--fill-color);\n",
              "    animation:\n",
              "      spin 1s steps(1) infinite;\n",
              "  }\n",
              "\n",
              "  @keyframes spin {\n",
              "    0% {\n",
              "      border-color: transparent;\n",
              "      border-bottom-color: var(--fill-color);\n",
              "      border-left-color: var(--fill-color);\n",
              "    }\n",
              "    20% {\n",
              "      border-color: transparent;\n",
              "      border-left-color: var(--fill-color);\n",
              "      border-top-color: var(--fill-color);\n",
              "    }\n",
              "    30% {\n",
              "      border-color: transparent;\n",
              "      border-left-color: var(--fill-color);\n",
              "      border-top-color: var(--fill-color);\n",
              "      border-right-color: var(--fill-color);\n",
              "    }\n",
              "    40% {\n",
              "      border-color: transparent;\n",
              "      border-right-color: var(--fill-color);\n",
              "      border-top-color: var(--fill-color);\n",
              "    }\n",
              "    60% {\n",
              "      border-color: transparent;\n",
              "      border-right-color: var(--fill-color);\n",
              "    }\n",
              "    80% {\n",
              "      border-color: transparent;\n",
              "      border-right-color: var(--fill-color);\n",
              "      border-bottom-color: var(--fill-color);\n",
              "    }\n",
              "    90% {\n",
              "      border-color: transparent;\n",
              "      border-bottom-color: var(--fill-color);\n",
              "    }\n",
              "  }\n",
              "</style>\n",
              "\n",
              "  <script>\n",
              "    async function quickchart(key) {\n",
              "      const quickchartButtonEl =\n",
              "        document.querySelector('#' + key + ' button');\n",
              "      quickchartButtonEl.disabled = true;  // To prevent multiple clicks.\n",
              "      quickchartButtonEl.classList.add('colab-df-spinner');\n",
              "      try {\n",
              "        const charts = await google.colab.kernel.invokeFunction(\n",
              "            'suggestCharts', [key], {});\n",
              "      } catch (error) {\n",
              "        console.error('Error during call to suggestCharts:', error);\n",
              "      }\n",
              "      quickchartButtonEl.classList.remove('colab-df-spinner');\n",
              "      quickchartButtonEl.classList.add('colab-df-quickchart-complete');\n",
              "    }\n",
              "    (() => {\n",
              "      let quickchartButtonEl =\n",
              "        document.querySelector('#df-4f91d002-8fdd-4c9e-9d22-b70cd09a2ebb button');\n",
              "      quickchartButtonEl.style.display =\n",
              "        google.colab.kernel.accessAllowed ? 'block' : 'none';\n",
              "    })();\n",
              "  </script>\n",
              "</div>\n",
              "    </div>\n",
              "  </div>\n"
            ],
            "text/plain": [
              "     average\n",
              "0   0.000781\n",
              "1   0.001371\n",
              "2   0.001133\n",
              "3   0.001267\n",
              "4   0.001450\n",
              "5   0.001135\n",
              "6   0.001154\n",
              "7   0.000933\n",
              "8   0.001202\n",
              "9   0.001090\n",
              "10  0.001146\n",
              "11  0.001254\n",
              "12  0.001127\n",
              "13  0.001069\n",
              "14  0.001460\n",
              "15  0.000813\n",
              "16  0.001687\n",
              "17  0.001100\n",
              "18  0.001073\n",
              "19  0.001377"
            ]
          },
          "execution_count": 10,
          "metadata": {},
          "output_type": "execute_result"
        }
      ],
      "source": [
        "df=pd.DataFrame(avg)\n",
        "df.columns=[\"average\"]\n",
        "df"
      ]
    },
    {
      "cell_type": "code",
      "execution_count": null,
      "metadata": {
        "colab": {
          "base_uri": "https://localhost:8080/",
          "height": 128
        },
        "id": "JqOBmQzlU3cs",
        "outputId": "a755acf0-faae-44d9-f24b-0431faafd3e1"
      },
      "outputs": [
        {
          "data": {
            "image/png": "[encoded data removed]",
            "text/plain": [
              "<Figure size 2000x8000 with 20 Axes>"
            ]
          },
          "metadata": {},
          "output_type": "display_data"
        }
      ],
      "source": [
        "fig, axes = plt.subplots(1, len(df.index), figsize=(20,80))\n",
        "j=0\n",
        "# for i in range(20):\n",
        "for i, row in df.iterrows():\n",
        "    ax = axes[j]\n",
        "    ax.imshow(data[i], cmap='gray')\n",
        "    ax.set_title(f'{i}: {round(avg[i],5)}')\n",
        "\n",
        "    j+=1\n",
        "plt.show()"
      ]
    },
    {
      "cell_type": "markdown",
      "metadata": {
        "id": "xYrk-eg06Rgk"
      },
      "source": [
        "We observed that our dataset consists images of leaves but some also some messy data. Average similarities was not enough to eliminate outliers and messy data. We found 2 types of unwanted images: shrek and trololo. In the next steps we removed them from the dataset."
      ]
    },
    {
      "cell_type": "markdown",
      "metadata": {
        "id": "zk95yo6NW9Iw"
      },
      "source": [
        "##### Removing 2 types of messy data from the dataset"
      ]
    },
    {
      "cell_type": "code",
      "execution_count": null,
      "metadata": {
        "colab": {
          "base_uri": "https://localhost:8080/",
          "height": 124
        },
        "id": "tAJYH_9ID8Ou",
        "outputId": "8ef43e32-b2c4-4354-a679-33ea8d58f597"
      },
      "outputs": [
        {
          "data": {
            "image/png": "[encoded data removed]",
            "text/plain": [
              "<Figure size 2000x8000 with 17 Axes>"
            ]
          },
          "metadata": {},
          "output_type": "display_data"
        }
      ],
      "source": [
        "outliers_samples=[137, 338,207,58, 95, 1028, 1044, 1101,3033, 3049, 3055, 3086, 3108, 3105,3144,3155,3286]\n",
        "\n",
        "images=outliers_samples\n",
        "fig, axes = plt.subplots(1, len(images), figsize=(20,80))\n",
        "j=0\n",
        "for item in images:\n",
        "    ax = axes[j]\n",
        "    ax.imshow(data[item], cmap='gray')\n",
        "    j+=1\n",
        "plt.show()\n"
      ]
    },
    {
      "cell_type": "code",
      "execution_count": null,
      "metadata": {
        "colab": {
          "base_uri": "https://localhost:8080/"
        },
        "id": "KBhJc26LQ2f-",
        "outputId": "e31a29da-d9b1-435a-d559-a8da267cddec"
      },
      "outputs": [
        {
          "data": {
            "text/plain": [
              "1.0"
            ]
          },
          "execution_count": 13,
          "metadata": {},
          "output_type": "execute_result"
        }
      ],
      "source": [
        "similarity(data[338],data[1044])"
      ]
    },
    {
      "cell_type": "code",
      "execution_count": null,
      "metadata": {
        "colab": {
          "background_save": true
        },
        "id": "ppbuviwIQREX"
      },
      "outputs": [],
      "source": [
        "outliers_shrek=[]\n",
        "\n",
        "n=data.shape[0]\n",
        "for i in range(n):\n",
        "  if similarity(data[i],data[137])==1.0:\n",
        "    outliers_shrek.append(i)\n",
        "\n",
        "outliers_trololo=[]\n",
        "for i in range(n):\n",
        "  if similarity(data[i],data[338])==1.0:\n",
        "    outliers_trololo.append(i)\n",
        "\n",
        "#Results saved in dataset_cleaned.npz"
      ]
    },
    {
      "cell_type": "code",
      "execution_count": null,
      "metadata": {
        "colab": {
          "background_save": true
        },
        "id": "lDf9RVgjVcet",
        "outputId": "929a0b7e-1723-4a79-be7e-9e31d36e0e88"
      },
      "outputs": [
        {
          "data": {
            "text/plain": [
              "98"
            ]
          },
          "execution_count": 15,
          "metadata": {},
          "output_type": "execute_result"
        }
      ],
      "source": [
        "len(outliers_trololo)"
      ]
    },
    {
      "cell_type": "code",
      "execution_count": null,
      "metadata": {
        "colab": {
          "background_save": true
        },
        "id": "tbcGeFh2VlEz",
        "outputId": "ee4f538e-67c4-455c-ecc4-0379ca7a18f3"
      },
      "outputs": [
        {
          "data": {
            "text/plain": [
              "98"
            ]
          },
          "execution_count": 16,
          "metadata": {},
          "output_type": "execute_result"
        }
      ],
      "source": [
        "len(outliers_shrek)"
      ]
    },
    {
      "cell_type": "code",
      "execution_count": null,
      "metadata": {
        "colab": {
          "background_save": true
        },
        "id": "80FW_fAuN7bF"
      },
      "outputs": [],
      "source": [
        "mask=np.ones(data.shape[0], dtype=bool)\n",
        "mask[outliers_shrek] = False\n",
        "mask[outliers_trololo] = False\n",
        "\n",
        "\n",
        "data_cleaned = data[mask,:,:,:]\n",
        "y_cleaned=labels[mask]"
      ]
    },
    {
      "cell_type": "code",
      "execution_count": null,
      "metadata": {
        "colab": {
          "background_save": true
        },
        "id": "vC2-xDq5XfkZ",
        "outputId": "9b148fa4-6679-443b-aea7-c0500ea77de1"
      },
      "outputs": [
        {
          "name": "stdout",
          "output_type": "stream",
          "text": [
            "(5004, 96, 96, 3)\n",
            "5004\n"
          ]
        }
      ],
      "source": [
        "print(data_cleaned.shape)\n",
        "print(len(y_cleaned))\n"
      ]
    },
    {
      "cell_type": "code",
      "execution_count": null,
      "metadata": {
        "colab": {
          "background_save": true
        },
        "id": "rMbvmCs1tEjN"
      },
      "outputs": [],
      "source": [
        "# labels=y_cleaned\n",
        "# data=data_cleaned\n"
      ]
    },
    {
      "cell_type": "markdown",
      "metadata": {
        "id": "WSwu00uo7w8K"
      },
      "source": [
        "###### Saving the cleaned dataset"
      ]
    },
    {
      "cell_type": "code",
      "execution_count": null,
      "metadata": {
        "id": "KSQy2FdYiPwc"
      },
      "outputs": [],
      "source": [
        "from google.colab import drive\n",
        "drive.mount('/content/drive')\n",
        "\n",
        "np.savez_compressed('/content/dataset_cleaned', a=data_cleaned, b=y_cleaned)\n",
        "!cp \"/content/dataset_cleaned.npz\" \"/content/drive/MyDrive/Colab Notebooks/ANN challenge\""
      ]
    },
    {
      "cell_type": "code",
      "execution_count": null,
      "metadata": {
        "id": "xAaHiJdgilPU"
      },
      "outputs": [],
      "source": [
        " # loaded = np.load('/content/drive/MyDrive/Colab Notebooks/ANN challenge/dataset_cleaned.npz')"
      ]
    },
    {
      "cell_type": "code",
      "execution_count": null,
      "metadata": {
        "id": "x6FnS0tUlWy-"
      },
      "outputs": [],
      "source": [
        "# loaded[\"a\"].shape"
      ]
    },
    {
      "cell_type": "code",
      "execution_count": null,
      "metadata": {
        "id": "zePQGDlBippk"
      },
      "outputs": [],
      "source": [
        "# print(np.array_equal(data_cleaned, loaded['a']))"
      ]
    },
    {
      "cell_type": "markdown",
      "metadata": {
        "id": "Ctg3jtFys4z4"
      },
      "source": [
        "#### Further preprocessing"
      ]
    },
    {
      "cell_type": "markdown",
      "metadata": {
        "id": "mDwmthYhAeXc"
      },
      "source": [
        "The cleaned dataset is available online: https://drive.google.com/file/d/1-EuAxOON5iS6Uw58d9lp6ndY32xsXbI6/view?usp=sharing'"
      ]
    },
    {
      "cell_type": "code",
      "execution_count": null,
      "metadata": {
        "id": "87qWuZRUpEPa"
      },
      "outputs": [],
      "source": [
        "from google.colab import drive\n",
        "drive.mount('/gdrive')\n",
        "%cd /gdrive/My Drive/Colab Notebooks/ANN challenge"
      ]
    },
    {
      "cell_type": "code",
      "execution_count": null,
      "metadata": {
        "id": "GmvuNbZgwbqk"
      },
      "outputs": [],
      "source": [
        "#Instead of cleaning the dataset every time - we saved the preprocessed dataset\n",
        "\n",
        "npz=np.load('dataset_cleaned.npz', allow_pickle=True)\n",
        "\n",
        "data=npz['a']\n",
        "labels=npz['b']\n",
        "data=data.astype(np.uint8)"
      ]
    },
    {
      "cell_type": "code",
      "execution_count": null,
      "metadata": {
        "id": "CqAS47q56Smm"
      },
      "outputs": [],
      "source": [
        "print('Counting occurrences of target classes:')\n",
        "print(pd.DataFrame(labels).value_counts())"
      ]
    },
    {
      "cell_type": "markdown",
      "metadata": {
        "id": "4qcVtjznwWmA"
      },
      "source": [
        "Calculate class weights to balance the number of occurrences of each class"
      ]
    },
    {
      "cell_type": "code",
      "execution_count": null,
      "metadata": {
        "id": "ZrdKKxFoPPth"
      },
      "outputs": [],
      "source": [
        "from sklearn.utils import class_weight\n",
        "\n",
        "# class_weights = total_samples / class_counts\n",
        "class_weights = np.zeros(2)\n",
        "class_counts = pd.DataFrame(labels).value_counts().values\n",
        "total_samples = class_counts[0] + class_counts[1]\n",
        "\n",
        "class_weights[0] = total_samples / class_counts[0] # healthy class weight\n",
        "class_weights[1] = total_samples / class_counts[1] # unhealthy class weight"
      ]
    },
    {
      "cell_type": "code",
      "execution_count": null,
      "metadata": {
        "id": "RSZLeGJydvkF"
      },
      "outputs": [],
      "source": [
        "y=[]\n",
        "for i in labels:\n",
        "  if i=='unhealthy':\n",
        "    y.append(1)\n",
        "  else:\n",
        "    y.append(0)\n",
        "\n",
        "y=np.array(y)\n",
        "\n",
        "results_labels = {0:'healthy', 1:'unhealthy'}"
      ]
    },
    {
      "cell_type": "code",
      "execution_count": null,
      "metadata": {
        "id": "MwR7VZ_w65oZ"
      },
      "outputs": [],
      "source": [
        "data.shape"
      ]
    },
    {
      "cell_type": "code",
      "execution_count": null,
      "metadata": {
        "id": "daTidXffSd1d"
      },
      "outputs": [],
      "source": [
        "# Display a sample of images from the dataset\n",
        "import matplotlib.pyplot as plt\n",
        "\n",
        "num_img = 10\n",
        "fig, axes = plt.subplots(1, num_img, figsize=(30,30))\n",
        "k=0\n",
        "# Iterate through the selected number of images\n",
        "for i in range(num_img):\n",
        "    ax = axes[i % num_img]\n",
        "    ax.imshow(data[i+k], cmap='gray')\n",
        "    ax.set_title(f'{labels[i]}')\n",
        "\n",
        "# Adjust layout and display the images\n",
        "# plt.tight_layout()\n",
        "plt.show()"
      ]
    },
    {
      "cell_type": "markdown",
      "metadata": {
        "id": "Nd1VSf616PS6"
      },
      "source": [
        "### Preparing the dataset for training"
      ]
    },
    {
      "cell_type": "code",
      "execution_count": null,
      "metadata": {
        "id": "r1Kt576FW9Yg"
      },
      "outputs": [],
      "source": [
        "# Split data into train_val and test sets\n",
        "X_train_val, X_test, y_train_val, y_test = train_test_split(data, y, random_state=seed, test_size=.15, stratify=y)\n",
        "\n",
        "# Further split train_val into train and validation sets\n",
        "X_train, X_val, y_train, y_val = train_test_split(X_train_val, y_train_val, random_state=seed, test_size=len(X_test), stratify=y_train_val)\n"
      ]
    },
    {
      "cell_type": "code",
      "execution_count": null,
      "metadata": {
        "id": "nmLrLiBbsB-B"
      },
      "outputs": [],
      "source": [
        "print('Counting occurrences of target classes (in the train_val dataset):')\n",
        "print(pd.DataFrame(y_train_val).value_counts())"
      ]
    },
    {
      "cell_type": "code",
      "execution_count": null,
      "metadata": {
        "id": "Y5ZQ4y08wu6Y"
      },
      "outputs": [],
      "source": [
        "print('Counting occurrences of target classes (in the test dataset):')\n",
        "print(pd.DataFrame(y_test).value_counts())"
      ]
    },
    {
      "cell_type": "code",
      "execution_count": null,
      "metadata": {
        "id": "nV4jAKpFeI7A"
      },
      "outputs": [],
      "source": [
        "# Print shapes of the datasets\n",
        "print(f\"X_train shape: {X_train.shape}, y_train shape: {y_train.shape}\")\n",
        "print(f\"X_val shape: {X_val.shape}, y_val shape: {y_val.shape}\")\n",
        "print(f\"X_test shape: {X_test.shape}, y_test shape: {y_test.shape}\")"
      ]
    },
    {
      "cell_type": "markdown",
      "metadata": {
        "id": "Km2bBg3lnnsO"
      },
      "source": [
        "## Build and train the models"
      ]
    },
    {
      "cell_type": "markdown",
      "metadata": {
        "id": "WHF_ODOWx5Zq"
      },
      "source": [
        "### Shapes and callbacks definition"
      ]
    },
    {
      "cell_type": "code",
      "execution_count": null,
      "metadata": {
        "id": "RzMS1KM5nxnL"
      },
      "outputs": [],
      "source": [
        "# Define input shape, output shape, default batch size, and number of epochs\n",
        "input_shape = X_train.shape[1:]\n",
        "output_shape = y_train.shape[1:]\n",
        "batch_size = 16\n",
        "epochs = 1000\n",
        "\n",
        "# Print input shape, batch size, and number of epochs\n",
        "print(f\"Input Shape: {input_shape}, Output Shape: {output_shape}, Batch Size: {batch_size}, Epochs: {epochs}\")"
      ]
    },
    {
      "cell_type": "markdown",
      "metadata": {
        "id": "oFwdmTMFxZWv"
      },
      "source": [
        "In different arrangements of model parameters, we used different methods for overfitting prevention and strengthening model generalization."
      ]
    },
    {
      "cell_type": "code",
      "execution_count": null,
      "metadata": {
        "id": "2pxPV2UWRUep"
      },
      "outputs": [],
      "source": [
        "# initialize callbacks\n",
        "reduceLR = tfk.callbacks.ReduceLROnPlateau(monitor='val_accuracy', patience= 3, verbose= 1, mode='max', factor=  0.2, min_lr = 1e-6)\n",
        "\n",
        "early_stopping = tfk.callbacks.EarlyStopping(monitor='val_accuracy', patience=10, restore_best_weights=True, mode='auto')\n",
        "\n",
        "checkpoint = tfk.callbacks.ModelCheckpoint('CustomModel.weights.hdf5', monitor='val_accuracy', verbose=1,save_best_only=True, mode= 'max')\n",
        "\n",
        "# callbacks= [reduceLR, early_stopping,checkpoint]\n",
        "callbacks = [early_stopping, reduceLR]\n",
        "\n"
      ]
    },
    {
      "cell_type": "markdown",
      "metadata": {
        "id": "5-cwNT2AyNqU"
      },
      "source": [
        "### Custom Convolutional Neural Network"
      ]
    },
    {
      "cell_type": "code",
      "execution_count": null,
      "metadata": {
        "id": "4oX3N2r0ne4f"
      },
      "outputs": [],
      "source": [
        "def build_model(input_shape=input_shape, output_shape=output_shape, dropout_rate=0.5):\n",
        "    tf.random.set_seed(seed)\n",
        "\n",
        "    # Build the neural network layer by layer\n",
        "    input_layer = tfkl.Input(shape=input_shape, name='Input')\n",
        "\n",
        "    x = tfkl.Conv2D(filters=32, kernel_size=3, padding='same', name='conv0')(input_layer)\n",
        "    x = tfkl.ReLU(name='relu0')(x)\n",
        "    x = tfkl.MaxPooling2D(name='mp0')(x)\n",
        "    x = tfkl.Dropout(rate=dropout_rate, name='dropout0')(x)  # Add dropout after the first convolutional layer\n",
        "\n",
        "\n",
        "    x = tfkl.Conv2D(filters=64, kernel_size=3, padding='same', name='conv1')(x)\n",
        "    x = tfkl.ReLU(name='relu1')(x)\n",
        "    x = tfkl.MaxPooling2D(name='mp1')(x)\n",
        "    x = tfkl.Dropout(rate=dropout_rate, name='dropout1')(x)  # Add dropout after the second convolutional layer\n",
        "\n",
        "\n",
        "    x = tfkl.Conv2D(filters=128, kernel_size=3, padding='same', name='conv2')(x)\n",
        "    x = tfkl.ReLU(name='relu2')(x)\n",
        "    x = tfkl.MaxPooling2D(name='mp2')(x)\n",
        "    x = tfkl.Dropout(rate=dropout_rate, name='dropout2')(x)  # Add dropout after the third convolutional layer\n",
        "\n",
        "\n",
        "    x = tfkl.Conv2D(filters=256, kernel_size=3, padding='same', name='conv3')(x)\n",
        "    x = tfkl.ReLU(name='relu3')(x)\n",
        "    x = tfkl.MaxPooling2D(name='mp3')(x)\n",
        "    x = tfkl.Dropout(rate=dropout_rate, name='dropout3')(x)  # Add dropout after the fourth convolutional layer\n",
        "\n",
        "\n",
        "    x = tfkl.Conv2D(filters=512, kernel_size=3, padding='same', name='conv4')(x)\n",
        "    x = tfkl.ReLU(name='relu4')(x)\n",
        "\n",
        "    x = tfkl.GlobalAveragePooling2D(name='gap')(x)\n",
        "\n",
        "    output_layer = tfkl.Dense(units=1, activation='sigmoid',name='Output')(x)\n",
        "\n",
        "    # Connect input and output through the Model class\n",
        "    model = tfk.Model(inputs=input_layer, outputs=output_layer, name='CNN')\n",
        "\n",
        "    # Compile the model\n",
        "    model.compile(loss=tfk.losses.BinaryCrossentropy(), optimizer=tfk.optimizers.Adam(learning_rate=0.0005), metrics=['accuracy'])\n",
        "\n",
        "    # Return the model\n",
        "    return model"
      ]
    },
    {
      "cell_type": "code",
      "execution_count": null,
      "metadata": {
        "colab": {
          "background_save": true,
          "base_uri": "https://localhost:8080/"
        },
        "id": "vw3LYLolFZLd",
        "outputId": "11127118-0d29-4815-ee0d-f91df5a8b920"
      },
      "outputs": [
        {
          "name": "stdout",
          "output_type": "stream",
          "text": [
            "Epoch 1/100\n",
            " 36/110 [========>.....................] - ETA: 52s - loss: 24.6214 - accuracy: 0.5608"
          ]
        }
      ],
      "source": [
        "# Build the model\n",
        "model = build_model(input_shape=input_shape, output_shape=output_shape, dropout_rate=0.5)\n",
        "\n",
        "# Train the model\n",
        "history = model.fit(\n",
        "    x=X_train,\n",
        "    y=y_train,\n",
        "    batch_size=32,\n",
        "    epochs=100,\n",
        "    validation_data=(X_val, y_val),\n",
        "    callbacks=callbacks  # Include any callbacks you want to use\n",
        ").history"
      ]
    },
    {
      "cell_type": "code",
      "execution_count": null,
      "metadata": {
        "id": "H0nZjUqKf8yB"
      },
      "outputs": [],
      "source": [
        "# Plot the training\n",
        "\n",
        "plt.figure(figsize=(15,5))\n",
        "plt.plot(history['accuracy'], alpha=.3, color='#ff7f0e', linestyle='--')\n",
        "plt.plot(history['val_accuracy'], label='CNN', alpha=.8, color='#ff7f0e')\n",
        "plt.legend(loc='upper left')\n",
        "plt.title('Accuracy')\n",
        "plt.grid(alpha=.3)\n",
        "\n",
        "plt.show()"
      ]
    },
    {
      "cell_type": "code",
      "execution_count": null,
      "metadata": {
        "id": "NcrzFMNrPKCn"
      },
      "outputs": [],
      "source": [
        "#This is the model with 3 convolutional layers\n",
        "def build_model(input_shape=input_shape, output_shape=output_shape, dropout_rate=0.5):\n",
        "    tf.random.set_seed(seed)\n",
        "\n",
        "    # preprocessing = tf.keras.Sequential([\n",
        "    #     tfkl.RandomBrightness(0.2, value_range=(0,1)),\n",
        "    #     tfkl.RandomTranslation(0.2,0.2),\n",
        "    # ], name='preprocessing')\n",
        "\n",
        "    # Build the neural network layer by layer\n",
        "    input_layer = tfkl.Input(shape=input_shape, name='Input')\n",
        "\n",
        "    # preprocessing = preprocessing(input_layer)\n",
        "\n",
        "    x = tfkl.Conv2D(filters=32, kernel_size=3, padding='same', name='conv0')(input_layer)\n",
        "    x = tfkl.ReLU(name='relu0')(x)\n",
        "    x = tfkl.MaxPooling2D(name='mp0')(x)\n",
        "    x = tfkl.Dropout(rate=dropout_rate, name='dropout0')(x)  # Add dropout after the first convolutional layer\n",
        "\n",
        "\n",
        "    x = tfkl.Conv2D(filters=64, kernel_size=3, padding='same', name='conv1')(x)\n",
        "    x = tfkl.ReLU(name='relu1')(x)\n",
        "    x = tfkl.MaxPooling2D(name='mp1')(x)\n",
        "    x = tfkl.Dropout(rate=dropout_rate, name='dropout1')(x)  # Add dropout after the second convolutional layer\n",
        "\n",
        "    x = tfkl.Conv2D(filters=128, kernel_size=3, padding='same', name='conv3')(x)\n",
        "    x = tfkl.ReLU(name='relu3')(x)\n",
        "\n",
        "    x = tfkl.GlobalAveragePooling2D(name='gap')(x)\n",
        "\n",
        "    output_layer = tfkl.Dense(units=1, activation='sigmoid',name='Output')(x)\n",
        "\n",
        "    # Connect input and output through the Model class\n",
        "    model = tfk.Model(inputs=input_layer, outputs=output_layer, name='CNN')\n",
        "\n",
        "    # Compile the model\n",
        "    model.compile(loss=tfk.losses.BinaryCrossentropy(), optimizer=tfk.optimizers.Adam(learning_rate=0.001), metrics=['accuracy'])\n",
        "\n",
        "    # Return the model\n",
        "    return model"
      ]
    },
    {
      "cell_type": "code",
      "execution_count": null,
      "metadata": {
        "id": "qKBywidZfwZk"
      },
      "outputs": [],
      "source": [
        "# Build the model\n",
        "model = build_model(input_shape=input_shape, output_shape=output_shape, dropout_rate=0.5)\n",
        "\n",
        "# Train the model\n",
        "history = model.fit(\n",
        "    x=X_train,\n",
        "    y=y_train,\n",
        "    batch_size=32,\n",
        "    epochs=100,\n",
        "    validation_data=(X_val, y_val),\n",
        "    callbacks=callbacks  # Include any callbacks you want to use\n",
        ").history"
      ]
    },
    {
      "cell_type": "code",
      "execution_count": null,
      "metadata": {
        "id": "TB-drNWLf5q9"
      },
      "outputs": [],
      "source": [
        "# Plot the training\n",
        "\n",
        "plt.figure(figsize=(15,5))\n",
        "plt.plot(history['accuracy'], alpha=.3, color='#ff7f0e', linestyle='--')\n",
        "plt.plot(history['val_accuracy'], label='CNN', alpha=.8, color='#ff7f0e')\n",
        "plt.legend(loc='upper left')\n",
        "plt.title('Accuracy')\n",
        "plt.grid(alpha=.3)\n",
        "\n",
        "plt.show()"
      ]
    },
    {
      "cell_type": "markdown",
      "metadata": {
        "id": "zwnImUwDbfTB"
      },
      "source": [
        "### VGG16"
      ]
    },
    {
      "cell_type": "code",
      "execution_count": null,
      "metadata": {
        "colab": {
          "base_uri": "https://localhost:8080/"
        },
        "id": "MIdeClIVd6K4",
        "outputId": "63fc3e7c-e984-42cc-eb83-65897689b551"
      },
      "outputs": [
        {
          "name": "stdout",
          "output_type": "stream",
          "text": [
            "Downloading data from https://storage.googleapis.com/tensorflow/keras-applications/vgg16/vgg16_weights_tf_dim_ordering_tf_kernels_notop.h5\n",
            "58889256/58889256 [==============================] - 1s 0us/step\n",
            "Model: \"sequential\"\n",
            "_________________________________________________________________\n",
            " Layer (type)                Output Shape              Param #   \n",
            "=================================================================\n",
            " vgg16 (Functional)          (None, 3, 3, 512)         14714688  \n",
            "                                                                 \n",
            " flatten (Flatten)           (None, 4608)              0         \n",
            "                                                                 \n",
            " dense (Dense)               (None, 256)               1179904   \n",
            "                                                                 \n",
            " batch_normalization (Batch  (None, 256)               1024      \n",
            " Normalization)                                                  \n",
            "                                                                 \n",
            " dense_1 (Dense)             (None, 1)                 257       \n",
            "                                                                 \n",
            "=================================================================\n",
            "Total params: 15895873 (60.64 MB)\n",
            "Trainable params: 1180673 (4.50 MB)\n",
            "Non-trainable params: 14715200 (56.13 MB)\n",
            "_________________________________________________________________\n"
          ]
        }
      ],
      "source": [
        "from tensorflow.keras.applications import VGG16\n",
        "from tensorflow.keras.models import Sequential\n",
        "from tensorflow.keras.layers import Dense, Flatten, BatchNormalization\n",
        "\n",
        "# Create VGG16 base model\n",
        "base_model = VGG16(weights='imagenet', include_top=False, input_shape=(96, 96, 3))\n",
        "\n",
        "# Freeze the convolutional layers\n",
        "for layer in base_model.layers:\n",
        "    layer.trainable = False\n",
        "\n",
        "# Create your own model\n",
        "model = Sequential()\n",
        "\n",
        "# Add the VGG16 base model\n",
        "model.add(base_model)\n",
        "\n",
        "# Flatten the output layer to 1 dimension\n",
        "model.add(Flatten())\n",
        "\n",
        "# Add a fully connected layer with 256 hidden units and batch normalization\n",
        "model.add(Dense(256, activation='relu'))\n",
        "model.add(BatchNormalization())\n",
        "\n",
        "# Add the output layer with 1 neuron and a sigmoid activation function\n",
        "model.add(Dense(1, activation='sigmoid'))\n",
        "\n",
        "# Compile the model\n",
        "model.compile(optimizer='adam', loss='binary_crossentropy', metrics=['accuracy'])\n",
        "\n",
        "# Display the model summary\n",
        "model.summary()"
      ]
    },
    {
      "cell_type": "code",
      "execution_count": null,
      "metadata": {
        "colab": {
          "base_uri": "https://localhost:8080/"
        },
        "id": "kigVjoDznezc",
        "outputId": "cc9636d5-cc1c-472c-d443-ec34da091349"
      },
      "outputs": [
        {
          "name": "stdout",
          "output_type": "stream",
          "text": [
            "Epoch 1/100\n",
            "219/219 [==============================] - 18s 33ms/step - loss: 0.6155 - accuracy: 0.7184 - val_loss: 0.5026 - val_accuracy: 0.7723 - lr: 0.0010\n",
            "Epoch 2/100\n",
            "219/219 [==============================] - 5s 22ms/step - loss: 0.3286 - accuracy: 0.8561 - val_loss: 0.5063 - val_accuracy: 0.7470 - lr: 0.0010\n",
            "Epoch 3/100\n",
            "219/219 [==============================] - 5s 22ms/step - loss: 0.2560 - accuracy: 0.9009 - val_loss: 0.5248 - val_accuracy: 0.7763 - lr: 0.0010\n",
            "Epoch 4/100\n",
            "219/219 [==============================] - 6s 26ms/step - loss: 0.1890 - accuracy: 0.9243 - val_loss: 0.5082 - val_accuracy: 0.7936 - lr: 0.0010\n",
            "Epoch 5/100\n",
            "219/219 [==============================] - 5s 24ms/step - loss: 0.1496 - accuracy: 0.9440 - val_loss: 0.5577 - val_accuracy: 0.7816 - lr: 0.0010\n",
            "Epoch 6/100\n",
            "219/219 [==============================] - 5s 22ms/step - loss: 0.1223 - accuracy: 0.9575 - val_loss: 0.5839 - val_accuracy: 0.7803 - lr: 0.0010\n",
            "Epoch 7/100\n",
            "217/219 [============================>.] - ETA: 0s - loss: 0.1097 - accuracy: 0.9582\n",
            "Epoch 7: ReduceLROnPlateau reducing learning rate to 0.00020000000949949026.\n",
            "219/219 [==============================] - 6s 26ms/step - loss: 0.1094 - accuracy: 0.9583 - val_loss: 0.5961 - val_accuracy: 0.7736 - lr: 0.0010\n",
            "Epoch 8/100\n",
            "219/219 [==============================] - 5s 22ms/step - loss: 0.0656 - accuracy: 0.9849 - val_loss: 0.5904 - val_accuracy: 0.7896 - lr: 2.0000e-04\n",
            "Epoch 9/100\n",
            "219/219 [==============================] - 6s 26ms/step - loss: 0.0450 - accuracy: 0.9903 - val_loss: 0.6041 - val_accuracy: 0.8016 - lr: 2.0000e-04\n",
            "Epoch 10/100\n",
            "219/219 [==============================] - 6s 27ms/step - loss: 0.0370 - accuracy: 0.9940 - val_loss: 0.6182 - val_accuracy: 0.7963 - lr: 2.0000e-04\n",
            "Epoch 11/100\n",
            "219/219 [==============================] - 6s 28ms/step - loss: 0.0320 - accuracy: 0.9946 - val_loss: 0.6535 - val_accuracy: 0.8069 - lr: 2.0000e-04\n",
            "Epoch 12/100\n",
            "219/219 [==============================] - 5s 25ms/step - loss: 0.0274 - accuracy: 0.9960 - val_loss: 0.6662 - val_accuracy: 0.7856 - lr: 2.0000e-04\n",
            "Epoch 13/100\n",
            "219/219 [==============================] - 6s 26ms/step - loss: 0.0276 - accuracy: 0.9946 - val_loss: 0.6702 - val_accuracy: 0.7949 - lr: 2.0000e-04\n",
            "Epoch 14/100\n",
            "218/219 [============================>.] - ETA: 0s - loss: 0.0214 - accuracy: 0.9971\n",
            "Epoch 14: ReduceLROnPlateau reducing learning rate to 4.0000001899898055e-05.\n",
            "219/219 [==============================] - 6s 27ms/step - loss: 0.0214 - accuracy: 0.9971 - val_loss: 0.7135 - val_accuracy: 0.7989 - lr: 2.0000e-04\n",
            "Epoch 15/100\n",
            "219/219 [==============================] - 6s 25ms/step - loss: 0.0153 - accuracy: 0.9986 - val_loss: 0.7094 - val_accuracy: 0.7843 - lr: 4.0000e-05\n",
            "Epoch 16/100\n",
            "219/219 [==============================] - 5s 24ms/step - loss: 0.0169 - accuracy: 0.9971 - val_loss: 0.7051 - val_accuracy: 0.7936 - lr: 4.0000e-05\n",
            "Epoch 17/100\n",
            "217/219 [============================>.] - ETA: 0s - loss: 0.0189 - accuracy: 0.9980\n",
            "Epoch 17: ReduceLROnPlateau reducing learning rate to 8.000000525498762e-06.\n",
            "219/219 [==============================] - 5s 25ms/step - loss: 0.0188 - accuracy: 0.9980 - val_loss: 0.7131 - val_accuracy: 0.7896 - lr: 4.0000e-05\n",
            "Epoch 18/100\n",
            "219/219 [==============================] - 5s 24ms/step - loss: 0.0148 - accuracy: 0.9977 - val_loss: 0.7139 - val_accuracy: 0.7883 - lr: 8.0000e-06\n",
            "Epoch 19/100\n",
            "219/219 [==============================] - 6s 26ms/step - loss: 0.0155 - accuracy: 0.9977 - val_loss: 0.7169 - val_accuracy: 0.7896 - lr: 8.0000e-06\n",
            "Epoch 20/100\n",
            "219/219 [==============================] - ETA: 0s - loss: 0.0139 - accuracy: 0.9997\n",
            "Epoch 20: ReduceLROnPlateau reducing learning rate to 1.6000001778593287e-06.\n",
            "219/219 [==============================] - 5s 23ms/step - loss: 0.0139 - accuracy: 0.9997 - val_loss: 0.7187 - val_accuracy: 0.7909 - lr: 8.0000e-06\n",
            "Epoch 21/100\n",
            "219/219 [==============================] - 6s 26ms/step - loss: 0.0133 - accuracy: 0.9983 - val_loss: 0.7173 - val_accuracy: 0.7909 - lr: 1.6000e-06\n"
          ]
        }
      ],
      "source": [
        "# Train the model\n",
        "history = model.fit(\n",
        "    x = X_train,\n",
        "    y = y_train,\n",
        "    batch_size = 16,\n",
        "    epochs = 100,\n",
        "    validation_data = (X_val, y_val),\n",
        "    callbacks = callbacks\n",
        ").history"
      ]
    },
    {
      "cell_type": "code",
      "execution_count": null,
      "metadata": {
        "id": "a-IYP7lB1jgo"
      },
      "outputs": [],
      "source": [
        "# Save the trained model\n",
        "model.save('VGG')"
      ]
    },
    {
      "cell_type": "code",
      "execution_count": null,
      "metadata": {
        "id": "-fd6JQd-1v7F"
      },
      "outputs": [],
      "source": [
        "# Delete the model instance to free up memory\n",
        "del model"
      ]
    },
    {
      "cell_type": "markdown",
      "metadata": {
        "id": "-WP5A4Wcyz5p"
      },
      "source": [
        "### Inception v3 implementation\n"
      ]
    },
    {
      "cell_type": "code",
      "execution_count": null,
      "metadata": {
        "id": "uHGAJiaW_NTs"
      },
      "outputs": [],
      "source": [
        "from tensorflow.keras.applications.inception_v3 import InceptionV3\n",
        "from tensorflow.keras.optimizers import RMSprop\n",
        "from tensorflow.keras.layers import Flatten, Dense, Dropout\n"
      ]
    },
    {
      "cell_type": "code",
      "execution_count": null,
      "metadata": {
        "colab": {
          "base_uri": "https://localhost:8080/"
        },
        "id": "vy4O9scBAE8f",
        "outputId": "58dad4c7-2dfc-4051-b57c-399f8b03cb56"
      },
      "outputs": [
        {
          "name": "stdout",
          "output_type": "stream",
          "text": [
            "Downloading data from https://storage.googleapis.com/tensorflow/keras-applications/inception_v3/inception_v3_weights_tf_dim_ordering_tf_kernels_notop.h5\n",
            "87910968/87910968 [==============================] - 1s 0us/step\n"
          ]
        }
      ],
      "source": [
        "pre_trained_model=InceptionV3(input_shape=(96,96,3),\n",
        "                              include_top=False,\n",
        "                              weights='imagenet')\n",
        "\n",
        "#make all the layers not trainable\n",
        "for layer in pre_trained_model.layers:\n",
        "  layer.trainable=False\n",
        "\n"
      ]
    },
    {
      "cell_type": "code",
      "execution_count": null,
      "metadata": {
        "id": "fHNS0dRvAy_k"
      },
      "outputs": [],
      "source": [
        "#flatten the outoput layer to 1 dimension\n",
        "x=Flatten()(pre_trained_model.output)\n",
        "\n",
        "#add a fully connected layer with 1024 hidden units and RELU activation\n",
        "\n",
        "x=Dense(1024,activation='relu')(x)\n",
        "\n",
        "#add a dropout rate of 2\n",
        "x=Dropout(0.5)(x)\n",
        "\n",
        "#add a final sigmoid layer for classification\n",
        "x=Dense(units=1,activation='sigmoid')(x)\n",
        "\n",
        "model=tf.keras.Model(pre_trained_model.input,x)\n",
        "\n",
        "model.compile(optimizer=RMSprop(learning_rate=0.0001),loss='binary_crossentropy',metrics=['acc'])"
      ]
    },
    {
      "cell_type": "code",
      "execution_count": null,
      "metadata": {
        "colab": {
          "base_uri": "https://localhost:8080/",
          "height": 1000
        },
        "id": "vC8tHHOuCuQp",
        "outputId": "82b63f28-e467-4f59-d630-9e2e07479fbe"
      },
      "outputs": [
        {
          "name": "stdout",
          "output_type": "stream",
          "text": [
            "Epoch 1/200\n",
            "110/110 [==============================] - 12s 54ms/step - loss: 16.4472 - acc: 0.5434 - val_loss: 6.4365 - val_acc: 0.5819 - lr: 1.0000e-04\n",
            "Epoch 2/200\n",
            "110/110 [==============================] - 3s 31ms/step - loss: 9.7275 - acc: 0.5648 - val_loss: 7.9527 - val_acc: 0.6152 - lr: 1.0000e-04\n",
            "Epoch 3/200\n",
            "110/110 [==============================] - 3s 28ms/step - loss: 4.8570 - acc: 0.5874 - val_loss: 2.0555 - val_acc: 0.5593 - lr: 1.0000e-04\n",
            "Epoch 4/200\n",
            "110/110 [==============================] - 3s 25ms/step - loss: 2.4621 - acc: 0.5897 - val_loss: 1.5934 - val_acc: 0.6192 - lr: 1.0000e-04\n",
            "Epoch 5/200\n",
            "110/110 [==============================] - 3s 25ms/step - loss: 1.3240 - acc: 0.5971 - val_loss: 0.9555 - val_acc: 0.5672 - lr: 1.0000e-04\n",
            "Epoch 6/200\n",
            "110/110 [==============================] - 3s 30ms/step - loss: 0.8663 - acc: 0.6302 - val_loss: 0.9685 - val_acc: 0.6218 - lr: 1.0000e-04\n",
            "Epoch 7/200\n",
            "110/110 [==============================] - 6s 59ms/step - loss: 0.7670 - acc: 0.6408 - val_loss: 0.7772 - val_acc: 0.5859 - lr: 1.0000e-04\n",
            "Epoch 8/200\n",
            "110/110 [==============================] - 3s 30ms/step - loss: 0.7064 - acc: 0.6562 - val_loss: 0.8101 - val_acc: 0.5912 - lr: 1.0000e-04\n",
            "Epoch 9/200\n",
            "110/110 [==============================] - 3s 27ms/step - loss: 0.6846 - acc: 0.6602 - val_loss: 0.8316 - val_acc: 0.6192 - lr: 1.0000e-04\n",
            "Epoch 10/200\n",
            "110/110 [==============================] - 3s 25ms/step - loss: 0.6773 - acc: 0.6773 - val_loss: 0.7571 - val_acc: 0.5979 - lr: 1.0000e-04\n",
            "Epoch 11/200\n",
            "110/110 [==============================] - 3s 24ms/step - loss: 0.6536 - acc: 0.6873 - val_loss: 0.8032 - val_acc: 0.5979 - lr: 1.0000e-04\n",
            "Epoch 12/200\n",
            "110/110 [==============================] - 3s 30ms/step - loss: 0.6494 - acc: 0.6845 - val_loss: 0.8718 - val_acc: 0.5899 - lr: 1.0000e-04\n",
            "Epoch 13/200\n",
            "110/110 [==============================] - 3s 29ms/step - loss: 0.6370 - acc: 0.6845 - val_loss: 0.7774 - val_acc: 0.5965 - lr: 1.0000e-04\n",
            "Epoch 14/200\n",
            "110/110 [==============================] - 3s 27ms/step - loss: 0.6229 - acc: 0.6916 - val_loss: 0.8103 - val_acc: 0.6178 - lr: 1.0000e-04\n",
            "Epoch 15/200\n",
            "110/110 [==============================] - 3s 27ms/step - loss: 0.5876 - acc: 0.7116 - val_loss: 0.8866 - val_acc: 0.5752 - lr: 1.0000e-04\n",
            "Epoch 16/200\n",
            "110/110 [==============================] - 3s 27ms/step - loss: 0.5793 - acc: 0.7253 - val_loss: 0.8825 - val_acc: 0.5792 - lr: 1.0000e-04\n",
            "Epoch 17/200\n",
            "110/110 [==============================] - 3s 28ms/step - loss: 0.6028 - acc: 0.7199 - val_loss: 0.8416 - val_acc: 0.5885 - lr: 1.0000e-04\n",
            "Epoch 18/200\n",
            "110/110 [==============================] - 3s 30ms/step - loss: 0.5734 - acc: 0.7339 - val_loss: 1.0331 - val_acc: 0.6152 - lr: 1.0000e-04\n",
            "Epoch 19/200\n",
            "110/110 [==============================] - 3s 25ms/step - loss: 0.5833 - acc: 0.7436 - val_loss: 0.9174 - val_acc: 0.5965 - lr: 1.0000e-04\n",
            "Epoch 20/200\n",
            "110/110 [==============================] - 3s 25ms/step - loss: 0.5373 - acc: 0.7533 - val_loss: 0.8861 - val_acc: 0.5859 - lr: 1.0000e-04\n",
            "Epoch 21/200\n",
            "110/110 [==============================] - 3s 25ms/step - loss: 0.5445 - acc: 0.7384 - val_loss: 0.8742 - val_acc: 0.5806 - lr: 1.0000e-04\n",
            "Epoch 22/200\n",
            "110/110 [==============================] - 3s 27ms/step - loss: 0.5265 - acc: 0.7507 - val_loss: 0.9104 - val_acc: 0.5952 - lr: 1.0000e-04\n",
            "Epoch 23/200\n",
            "110/110 [==============================] - 7s 62ms/step - loss: 0.5249 - acc: 0.7519 - val_loss: 0.9673 - val_acc: 0.6245 - lr: 1.0000e-04\n",
            "Epoch 24/200\n",
            "110/110 [==============================] - 3s 25ms/step - loss: 0.5253 - acc: 0.7633 - val_loss: 0.9165 - val_acc: 0.5992 - lr: 1.0000e-04\n",
            "Epoch 25/200\n",
            "110/110 [==============================] - 3s 27ms/step - loss: 0.5108 - acc: 0.7687 - val_loss: 0.9235 - val_acc: 0.6112 - lr: 1.0000e-04\n",
            "Epoch 26/200\n",
            "110/110 [==============================] - 3s 25ms/step - loss: 0.5040 - acc: 0.7690 - val_loss: 0.9621 - val_acc: 0.5912 - lr: 1.0000e-04\n",
            "Epoch 27/200\n",
            "110/110 [==============================] - 3s 29ms/step - loss: 0.4887 - acc: 0.7758 - val_loss: 0.9611 - val_acc: 0.6005 - lr: 1.0000e-04\n",
            "Epoch 28/200\n",
            "110/110 [==============================] - 3s 31ms/step - loss: 0.4747 - acc: 0.7947 - val_loss: 0.8998 - val_acc: 0.6152 - lr: 1.0000e-04\n",
            "Epoch 29/200\n",
            "110/110 [==============================] - 3s 27ms/step - loss: 0.4576 - acc: 0.7893 - val_loss: 1.0839 - val_acc: 0.6125 - lr: 1.0000e-04\n",
            "Epoch 30/200\n",
            "110/110 [==============================] - 3s 25ms/step - loss: 0.4560 - acc: 0.7990 - val_loss: 1.2920 - val_acc: 0.6085 - lr: 1.0000e-04\n",
            "Epoch 31/200\n",
            "110/110 [==============================] - 3s 26ms/step - loss: 0.4808 - acc: 0.7895 - val_loss: 1.0064 - val_acc: 0.6258 - lr: 1.0000e-04\n",
            "Epoch 32/200\n",
            "110/110 [==============================] - 3s 28ms/step - loss: 0.4629 - acc: 0.7975 - val_loss: 0.9931 - val_acc: 0.5979 - lr: 1.0000e-04\n",
            "Epoch 33/200\n",
            "110/110 [==============================] - 3s 30ms/step - loss: 0.4210 - acc: 0.8181 - val_loss: 1.0510 - val_acc: 0.6418 - lr: 1.0000e-04\n",
            "Epoch 34/200\n",
            "110/110 [==============================] - 3s 26ms/step - loss: 0.4347 - acc: 0.8101 - val_loss: 1.0321 - val_acc: 0.6178 - lr: 1.0000e-04\n",
            "Epoch 35/200\n",
            "110/110 [==============================] - 4s 37ms/step - loss: 0.4163 - acc: 0.8124 - val_loss: 1.0729 - val_acc: 0.5952 - lr: 1.0000e-04\n",
            "Epoch 36/200\n",
            "110/110 [==============================] - 4s 34ms/step - loss: 0.4191 - acc: 0.8175 - val_loss: 1.0010 - val_acc: 0.6072 - lr: 1.0000e-04\n",
            "Epoch 37/200\n",
            "110/110 [==============================] - 4s 39ms/step - loss: 0.4226 - acc: 0.8144 - val_loss: 1.0630 - val_acc: 0.5912 - lr: 1.0000e-04\n",
            "Epoch 38/200\n",
            "110/110 [==============================] - 3s 29ms/step - loss: 0.4067 - acc: 0.8207 - val_loss: 1.0897 - val_acc: 0.6325 - lr: 1.0000e-04\n",
            "Epoch 39/200\n",
            "110/110 [==============================] - 3s 27ms/step - loss: 0.3973 - acc: 0.8301 - val_loss: 1.0699 - val_acc: 0.6232 - lr: 1.0000e-04\n",
            "Epoch 40/200\n",
            "110/110 [==============================] - 3s 25ms/step - loss: 0.3805 - acc: 0.8361 - val_loss: 1.0797 - val_acc: 0.5872 - lr: 1.0000e-04\n",
            "Epoch 41/200\n",
            "110/110 [==============================] - 3s 26ms/step - loss: 0.3776 - acc: 0.8358 - val_loss: 1.0765 - val_acc: 0.6205 - lr: 1.0000e-04\n",
            "Epoch 42/200\n",
            "110/110 [==============================] - 3s 29ms/step - loss: 0.3719 - acc: 0.8355 - val_loss: 1.1202 - val_acc: 0.6205 - lr: 1.0000e-04\n",
            "Epoch 43/200\n",
            "110/110 [==============================] - 3s 31ms/step - loss: 0.3657 - acc: 0.8529 - val_loss: 1.1756 - val_acc: 0.5792 - lr: 1.0000e-04\n",
            "Epoch 44/200\n",
            "110/110 [==============================] - 3s 26ms/step - loss: 0.3748 - acc: 0.8438 - val_loss: 1.1535 - val_acc: 0.6272 - lr: 1.0000e-04\n",
            "Epoch 45/200\n",
            "110/110 [==============================] - 3s 27ms/step - loss: 0.3523 - acc: 0.8484 - val_loss: 1.1314 - val_acc: 0.5965 - lr: 1.0000e-04\n",
            "Epoch 46/200\n",
            "110/110 [==============================] - 3s 26ms/step - loss: 0.3630 - acc: 0.8501 - val_loss: 1.1740 - val_acc: 0.6032 - lr: 1.0000e-04\n",
            "Epoch 47/200\n",
            "110/110 [==============================] - 3s 28ms/step - loss: 0.3556 - acc: 0.8507 - val_loss: 1.2277 - val_acc: 0.6072 - lr: 1.0000e-04\n",
            "Epoch 48/200\n",
            "110/110 [==============================] - 3s 30ms/step - loss: 0.3543 - acc: 0.8518 - val_loss: 1.1797 - val_acc: 0.6365 - lr: 1.0000e-04\n",
            "Epoch 49/200\n",
            "110/110 [==============================] - 3s 27ms/step - loss: 0.3432 - acc: 0.8661 - val_loss: 1.2482 - val_acc: 0.5965 - lr: 1.0000e-04\n",
            "Epoch 50/200\n",
            "110/110 [==============================] - 3s 27ms/step - loss: 0.3300 - acc: 0.8664 - val_loss: 1.3826 - val_acc: 0.6112 - lr: 1.0000e-04\n",
            "Epoch 51/200\n",
            "110/110 [==============================] - 3s 30ms/step - loss: 0.3350 - acc: 0.8592 - val_loss: 1.2925 - val_acc: 0.6192 - lr: 1.0000e-04\n",
            "Epoch 52/200\n",
            "110/110 [==============================] - 5s 41ms/step - loss: 0.3180 - acc: 0.8666 - val_loss: 1.3195 - val_acc: 0.6045 - lr: 1.0000e-04\n",
            "Epoch 53/200\n",
            "110/110 [==============================] - 4s 36ms/step - loss: 0.3276 - acc: 0.8664 - val_loss: 1.2005 - val_acc: 0.5979 - lr: 1.0000e-04\n",
            "Epoch 54/200\n",
            "110/110 [==============================] - 3s 25ms/step - loss: 0.2975 - acc: 0.8764 - val_loss: 1.2678 - val_acc: 0.6378 - lr: 1.0000e-04\n",
            "Epoch 55/200\n",
            "110/110 [==============================] - 3s 25ms/step - loss: 0.3027 - acc: 0.8821 - val_loss: 1.2286 - val_acc: 0.6165 - lr: 1.0000e-04\n",
            "Epoch 56/200\n",
            "110/110 [==============================] - 3s 25ms/step - loss: 0.3038 - acc: 0.8741 - val_loss: 1.3333 - val_acc: 0.6005 - lr: 1.0000e-04\n",
            "Epoch 57/200\n",
            "110/110 [==============================] - 3s 28ms/step - loss: 0.2758 - acc: 0.8906 - val_loss: 1.2424 - val_acc: 0.6112 - lr: 1.0000e-04\n",
            "Epoch 58/200\n",
            "110/110 [==============================] - 3s 31ms/step - loss: 0.2871 - acc: 0.8838 - val_loss: 1.3684 - val_acc: 0.6365 - lr: 1.0000e-04\n",
            "Epoch 59/200\n",
            "110/110 [==============================] - 3s 25ms/step - loss: 0.2953 - acc: 0.8804 - val_loss: 1.3627 - val_acc: 0.6498 - lr: 1.0000e-04\n",
            "Epoch 60/200\n",
            "110/110 [==============================] - 3s 27ms/step - loss: 0.2910 - acc: 0.8821 - val_loss: 1.3313 - val_acc: 0.6138 - lr: 1.0000e-04\n",
            "Epoch 61/200\n",
            "110/110 [==============================] - 3s 26ms/step - loss: 0.2891 - acc: 0.8946 - val_loss: 1.3014 - val_acc: 0.6032 - lr: 1.0000e-04\n",
            "Epoch 62/200\n",
            "110/110 [==============================] - 3s 27ms/step - loss: 0.2718 - acc: 0.8906 - val_loss: 1.3715 - val_acc: 0.6205 - lr: 1.0000e-04\n",
            "Epoch 63/200\n",
            "110/110 [==============================] - 3s 31ms/step - loss: 0.2641 - acc: 0.8975 - val_loss: 1.4399 - val_acc: 0.5752 - lr: 1.0000e-04\n",
            "Epoch 64/200\n",
            "110/110 [==============================] - 3s 29ms/step - loss: 0.2818 - acc: 0.8841 - val_loss: 1.4431 - val_acc: 0.6019 - lr: 1.0000e-04\n",
            "Epoch 65/200\n",
            "110/110 [==============================] - 3s 27ms/step - loss: 0.2548 - acc: 0.8929 - val_loss: 1.4089 - val_acc: 0.6085 - lr: 1.0000e-04\n",
            "Epoch 66/200\n",
            "110/110 [==============================] - 3s 26ms/step - loss: 0.2640 - acc: 0.8915 - val_loss: 1.3714 - val_acc: 0.6072 - lr: 1.0000e-04\n",
            "Epoch 67/200\n",
            "110/110 [==============================] - 3s 27ms/step - loss: 0.2305 - acc: 0.9055 - val_loss: 1.4896 - val_acc: 0.6138 - lr: 1.0000e-04\n",
            "Epoch 68/200\n",
            "110/110 [==============================] - 3s 30ms/step - loss: 0.2519 - acc: 0.9021 - val_loss: 1.6155 - val_acc: 0.6312 - lr: 1.0000e-04\n",
            "Epoch 69/200\n",
            "110/110 [==============================] - 3s 29ms/step - loss: 0.2642 - acc: 0.8952 - val_loss: 1.6398 - val_acc: 0.6245 - lr: 1.0000e-04\n",
            "Epoch 70/200\n",
            "110/110 [==============================] - 3s 25ms/step - loss: 0.2363 - acc: 0.9072 - val_loss: 1.6671 - val_acc: 0.6165 - lr: 1.0000e-04\n",
            "Epoch 71/200\n",
            "110/110 [==============================] - 3s 25ms/step - loss: 0.2282 - acc: 0.9075 - val_loss: 1.5595 - val_acc: 0.6205 - lr: 1.0000e-04\n",
            "Epoch 72/200\n",
            "110/110 [==============================] - 3s 25ms/step - loss: 0.2294 - acc: 0.9098 - val_loss: 1.5395 - val_acc: 0.5885 - lr: 1.0000e-04\n",
            "Epoch 73/200\n",
            "110/110 [==============================] - 3s 31ms/step - loss: 0.2558 - acc: 0.9049 - val_loss: 1.5284 - val_acc: 0.5899 - lr: 1.0000e-04\n",
            "Epoch 74/200\n",
            "110/110 [==============================] - 3s 29ms/step - loss: 0.2378 - acc: 0.9063 - val_loss: 1.5007 - val_acc: 0.6178 - lr: 1.0000e-04\n",
            "Epoch 75/200\n",
            "110/110 [==============================] - 3s 25ms/step - loss: 0.2439 - acc: 0.9075 - val_loss: 1.6033 - val_acc: 0.6232 - lr: 1.0000e-04\n",
            "Epoch 76/200\n",
            "110/110 [==============================] - 3s 25ms/step - loss: 0.2130 - acc: 0.9186 - val_loss: 1.5671 - val_acc: 0.6152 - lr: 1.0000e-04\n",
            "Epoch 77/200\n",
            "110/110 [==============================] - 3s 26ms/step - loss: 0.2224 - acc: 0.9132 - val_loss: 1.7001 - val_acc: 0.6138 - lr: 1.0000e-04\n",
            "Epoch 78/200\n",
            "110/110 [==============================] - 3s 29ms/step - loss: 0.2141 - acc: 0.9172 - val_loss: 1.5838 - val_acc: 0.6059 - lr: 1.0000e-04\n",
            "Epoch 79/200\n",
            "110/110 [==============================] - 5s 43ms/step - loss: 0.2359 - acc: 0.9123 - val_loss: 1.5810 - val_acc: 0.6258 - lr: 1.0000e-04\n",
            "Epoch 80/200\n",
            "110/110 [==============================] - 3s 29ms/step - loss: 0.2094 - acc: 0.9206 - val_loss: 1.6741 - val_acc: 0.6365 - lr: 1.0000e-04\n",
            "Epoch 81/200\n",
            "110/110 [==============================] - 3s 27ms/step - loss: 0.2041 - acc: 0.9212 - val_loss: 1.6701 - val_acc: 0.5712 - lr: 1.0000e-04\n",
            "Epoch 82/200\n",
            "110/110 [==============================] - 3s 26ms/step - loss: 0.2217 - acc: 0.9218 - val_loss: 1.8418 - val_acc: 0.6178 - lr: 1.0000e-04\n",
            "Epoch 83/200\n",
            "110/110 [==============================] - 3s 29ms/step - loss: 0.2109 - acc: 0.9212 - val_loss: 1.5915 - val_acc: 0.6458 - lr: 1.0000e-04\n",
            "Epoch 84/200\n",
            "110/110 [==============================] - 3s 30ms/step - loss: 0.2123 - acc: 0.9169 - val_loss: 1.7862 - val_acc: 0.6152 - lr: 1.0000e-04\n",
            "Epoch 85/200\n",
            "110/110 [==============================] - 3s 28ms/step - loss: 0.2088 - acc: 0.9206 - val_loss: 1.7977 - val_acc: 0.5912 - lr: 1.0000e-04\n",
            "Epoch 86/200\n",
            "110/110 [==============================] - 4s 36ms/step - loss: 0.2009 - acc: 0.9192 - val_loss: 1.6879 - val_acc: 0.6232 - lr: 1.0000e-04\n",
            "Epoch 87/200\n",
            "110/110 [==============================] - 4s 32ms/step - loss: 0.2067 - acc: 0.9218 - val_loss: 1.6501 - val_acc: 0.6152 - lr: 1.0000e-04\n",
            "Epoch 88/200\n",
            "110/110 [==============================] - 4s 40ms/step - loss: 0.2065 - acc: 0.9229 - val_loss: 1.7788 - val_acc: 0.5899 - lr: 1.0000e-04\n",
            "Epoch 89/200\n",
            "110/110 [==============================] - 4s 35ms/step - loss: 0.1909 - acc: 0.9283 - val_loss: 1.7421 - val_acc: 0.6152 - lr: 1.0000e-04\n",
            "Epoch 90/200\n",
            "110/110 [==============================] - 3s 27ms/step - loss: 0.1756 - acc: 0.9340 - val_loss: 1.8100 - val_acc: 0.5965 - lr: 1.0000e-04\n",
            "Epoch 91/200\n",
            "110/110 [==============================] - 3s 27ms/step - loss: 0.1856 - acc: 0.9292 - val_loss: 1.8660 - val_acc: 0.6165 - lr: 1.0000e-04\n",
            "Epoch 92/200\n",
            "110/110 [==============================] - 3s 28ms/step - loss: 0.1832 - acc: 0.9358 - val_loss: 1.7964 - val_acc: 0.6285 - lr: 1.0000e-04\n",
            "Epoch 93/200\n",
            "110/110 [==============================] - 3s 31ms/step - loss: 0.2043 - acc: 0.9235 - val_loss: 1.7983 - val_acc: 0.6272 - lr: 1.0000e-04\n",
            "Epoch 94/200\n",
            "110/110 [==============================] - 3s 28ms/step - loss: 0.1964 - acc: 0.9278 - val_loss: 1.7544 - val_acc: 0.6112 - lr: 1.0000e-04\n",
            "Epoch 95/200\n",
            "110/110 [==============================] - 3s 25ms/step - loss: 0.1691 - acc: 0.9332 - val_loss: 1.8299 - val_acc: 0.6059 - lr: 1.0000e-04\n",
            "Epoch 96/200\n",
            " 34/110 [========>.....................] - ETA: 1s - loss: 0.1702 - acc: 0.9403"
          ]
        },
        {
          "ename": "KeyboardInterrupt",
          "evalue": "ignored",
          "output_type": "error",
          "traceback": [
            "\u001b[0;31m---------------------------------------------------------------------------\u001b[0m",
            "\u001b[0;31mKeyboardInterrupt\u001b[0m                         Traceback (most recent call last)",
            "\u001b[0;32m<ipython-input-34-8a60c525222c>\u001b[0m in \u001b[0;36m<cell line: 1>\u001b[0;34m()\u001b[0m\n\u001b[0;32m----> 1\u001b[0;31m history = model.fit(\n\u001b[0m\u001b[1;32m      2\u001b[0m     \u001b[0mx\u001b[0m\u001b[0;34m=\u001b[0m\u001b[0mX_train\u001b[0m\u001b[0;34m,\u001b[0m\u001b[0;34m\u001b[0m\u001b[0;34m\u001b[0m\u001b[0m\n\u001b[1;32m      3\u001b[0m     \u001b[0my\u001b[0m\u001b[0;34m=\u001b[0m\u001b[0my_train\u001b[0m\u001b[0;34m,\u001b[0m\u001b[0;34m\u001b[0m\u001b[0;34m\u001b[0m\u001b[0m\n\u001b[1;32m      4\u001b[0m     \u001b[0mbatch_size\u001b[0m\u001b[0;34m=\u001b[0m\u001b[0;36m32\u001b[0m\u001b[0;34m,\u001b[0m\u001b[0;34m\u001b[0m\u001b[0;34m\u001b[0m\u001b[0m\n\u001b[1;32m      5\u001b[0m     \u001b[0mepochs\u001b[0m\u001b[0;34m=\u001b[0m\u001b[0;36m200\u001b[0m\u001b[0;34m,\u001b[0m\u001b[0;34m\u001b[0m\u001b[0;34m\u001b[0m\u001b[0m\n",
            "\u001b[0;32m/usr/local/lib/python3.10/dist-packages/keras/src/utils/traceback_utils.py\u001b[0m in \u001b[0;36merror_handler\u001b[0;34m(*args, **kwargs)\u001b[0m\n\u001b[1;32m     63\u001b[0m         \u001b[0mfiltered_tb\u001b[0m \u001b[0;34m=\u001b[0m \u001b[0;32mNone\u001b[0m\u001b[0;34m\u001b[0m\u001b[0;34m\u001b[0m\u001b[0m\n\u001b[1;32m     64\u001b[0m         \u001b[0;32mtry\u001b[0m\u001b[0;34m:\u001b[0m\u001b[0;34m\u001b[0m\u001b[0;34m\u001b[0m\u001b[0m\n\u001b[0;32m---> 65\u001b[0;31m             \u001b[0;32mreturn\u001b[0m \u001b[0mfn\u001b[0m\u001b[0;34m(\u001b[0m\u001b[0;34m*\u001b[0m\u001b[0margs\u001b[0m\u001b[0;34m,\u001b[0m \u001b[0;34m**\u001b[0m\u001b[0mkwargs\u001b[0m\u001b[0;34m)\u001b[0m\u001b[0;34m\u001b[0m\u001b[0;34m\u001b[0m\u001b[0m\n\u001b[0m\u001b[1;32m     66\u001b[0m         \u001b[0;32mexcept\u001b[0m \u001b[0mException\u001b[0m \u001b[0;32mas\u001b[0m \u001b[0me\u001b[0m\u001b[0;34m:\u001b[0m\u001b[0;34m\u001b[0m\u001b[0;34m\u001b[0m\u001b[0m\n\u001b[1;32m     67\u001b[0m             \u001b[0mfiltered_tb\u001b[0m \u001b[0;34m=\u001b[0m \u001b[0m_process_traceback_frames\u001b[0m\u001b[0;34m(\u001b[0m\u001b[0me\u001b[0m\u001b[0;34m.\u001b[0m\u001b[0m__traceback__\u001b[0m\u001b[0;34m)\u001b[0m\u001b[0;34m\u001b[0m\u001b[0;34m\u001b[0m\u001b[0m\n",
            "\u001b[0;32m/usr/local/lib/python3.10/dist-packages/keras/src/engine/training.py\u001b[0m in \u001b[0;36mfit\u001b[0;34m(self, x, y, batch_size, epochs, verbose, callbacks, validation_split, validation_data, shuffle, class_weight, sample_weight, initial_epoch, steps_per_epoch, validation_steps, validation_batch_size, validation_freq, max_queue_size, workers, use_multiprocessing)\u001b[0m\n\u001b[1;32m   1781\u001b[0m                         ):\n\u001b[1;32m   1782\u001b[0m                             \u001b[0mcallbacks\u001b[0m\u001b[0;34m.\u001b[0m\u001b[0mon_train_batch_begin\u001b[0m\u001b[0;34m(\u001b[0m\u001b[0mstep\u001b[0m\u001b[0;34m)\u001b[0m\u001b[0;34m\u001b[0m\u001b[0;34m\u001b[0m\u001b[0m\n\u001b[0;32m-> 1783\u001b[0;31m                             \u001b[0mtmp_logs\u001b[0m \u001b[0;34m=\u001b[0m \u001b[0mself\u001b[0m\u001b[0;34m.\u001b[0m\u001b[0mtrain_function\u001b[0m\u001b[0;34m(\u001b[0m\u001b[0miterator\u001b[0m\u001b[0;34m)\u001b[0m\u001b[0;34m\u001b[0m\u001b[0;34m\u001b[0m\u001b[0m\n\u001b[0m\u001b[1;32m   1784\u001b[0m                             \u001b[0;32mif\u001b[0m \u001b[0mdata_handler\u001b[0m\u001b[0;34m.\u001b[0m\u001b[0mshould_sync\u001b[0m\u001b[0;34m:\u001b[0m\u001b[0;34m\u001b[0m\u001b[0;34m\u001b[0m\u001b[0m\n\u001b[1;32m   1785\u001b[0m                                 \u001b[0mcontext\u001b[0m\u001b[0;34m.\u001b[0m\u001b[0masync_wait\u001b[0m\u001b[0;34m(\u001b[0m\u001b[0;34m)\u001b[0m\u001b[0;34m\u001b[0m\u001b[0;34m\u001b[0m\u001b[0m\n",
            "\u001b[0;32m/usr/local/lib/python3.10/dist-packages/tensorflow/python/util/traceback_utils.py\u001b[0m in \u001b[0;36merror_handler\u001b[0;34m(*args, **kwargs)\u001b[0m\n\u001b[1;32m    148\u001b[0m     \u001b[0mfiltered_tb\u001b[0m \u001b[0;34m=\u001b[0m \u001b[0;32mNone\u001b[0m\u001b[0;34m\u001b[0m\u001b[0;34m\u001b[0m\u001b[0m\n\u001b[1;32m    149\u001b[0m     \u001b[0;32mtry\u001b[0m\u001b[0;34m:\u001b[0m\u001b[0;34m\u001b[0m\u001b[0;34m\u001b[0m\u001b[0m\n\u001b[0;32m--> 150\u001b[0;31m       \u001b[0;32mreturn\u001b[0m \u001b[0mfn\u001b[0m\u001b[0;34m(\u001b[0m\u001b[0;34m*\u001b[0m\u001b[0margs\u001b[0m\u001b[0;34m,\u001b[0m \u001b[0;34m**\u001b[0m\u001b[0mkwargs\u001b[0m\u001b[0;34m)\u001b[0m\u001b[0;34m\u001b[0m\u001b[0;34m\u001b[0m\u001b[0m\n\u001b[0m\u001b[1;32m    151\u001b[0m     \u001b[0;32mexcept\u001b[0m \u001b[0mException\u001b[0m \u001b[0;32mas\u001b[0m \u001b[0me\u001b[0m\u001b[0;34m:\u001b[0m\u001b[0;34m\u001b[0m\u001b[0;34m\u001b[0m\u001b[0m\n\u001b[1;32m    152\u001b[0m       \u001b[0mfiltered_tb\u001b[0m \u001b[0;34m=\u001b[0m \u001b[0m_process_traceback_frames\u001b[0m\u001b[0;34m(\u001b[0m\u001b[0me\u001b[0m\u001b[0;34m.\u001b[0m\u001b[0m__traceback__\u001b[0m\u001b[0;34m)\u001b[0m\u001b[0;34m\u001b[0m\u001b[0;34m\u001b[0m\u001b[0m\n",
            "\u001b[0;32m/usr/local/lib/python3.10/dist-packages/tensorflow/python/eager/polymorphic_function/polymorphic_function.py\u001b[0m in \u001b[0;36m__call__\u001b[0;34m(self, *args, **kwds)\u001b[0m\n\u001b[1;32m    829\u001b[0m \u001b[0;34m\u001b[0m\u001b[0m\n\u001b[1;32m    830\u001b[0m       \u001b[0;32mwith\u001b[0m \u001b[0mOptionalXlaContext\u001b[0m\u001b[0;34m(\u001b[0m\u001b[0mself\u001b[0m\u001b[0;34m.\u001b[0m\u001b[0m_jit_compile\u001b[0m\u001b[0;34m)\u001b[0m\u001b[0;34m:\u001b[0m\u001b[0;34m\u001b[0m\u001b[0;34m\u001b[0m\u001b[0m\n\u001b[0;32m--> 831\u001b[0;31m         \u001b[0mresult\u001b[0m \u001b[0;34m=\u001b[0m \u001b[0mself\u001b[0m\u001b[0;34m.\u001b[0m\u001b[0m_call\u001b[0m\u001b[0;34m(\u001b[0m\u001b[0;34m*\u001b[0m\u001b[0margs\u001b[0m\u001b[0;34m,\u001b[0m \u001b[0;34m**\u001b[0m\u001b[0mkwds\u001b[0m\u001b[0;34m)\u001b[0m\u001b[0;34m\u001b[0m\u001b[0;34m\u001b[0m\u001b[0m\n\u001b[0m\u001b[1;32m    832\u001b[0m \u001b[0;34m\u001b[0m\u001b[0m\n\u001b[1;32m    833\u001b[0m       \u001b[0mnew_tracing_count\u001b[0m \u001b[0;34m=\u001b[0m \u001b[0mself\u001b[0m\u001b[0;34m.\u001b[0m\u001b[0mexperimental_get_tracing_count\u001b[0m\u001b[0;34m(\u001b[0m\u001b[0;34m)\u001b[0m\u001b[0;34m\u001b[0m\u001b[0;34m\u001b[0m\u001b[0m\n",
            "\u001b[0;32m/usr/local/lib/python3.10/dist-packages/tensorflow/python/eager/polymorphic_function/polymorphic_function.py\u001b[0m in \u001b[0;36m_call\u001b[0;34m(self, *args, **kwds)\u001b[0m\n\u001b[1;32m    865\u001b[0m       \u001b[0;31m# In this case we have created variables on the first call, so we run the\u001b[0m\u001b[0;34m\u001b[0m\u001b[0;34m\u001b[0m\u001b[0m\n\u001b[1;32m    866\u001b[0m       \u001b[0;31m# defunned version which is guaranteed to never create variables.\u001b[0m\u001b[0;34m\u001b[0m\u001b[0;34m\u001b[0m\u001b[0m\n\u001b[0;32m--> 867\u001b[0;31m       return tracing_compilation.call_function(\n\u001b[0m\u001b[1;32m    868\u001b[0m           \u001b[0margs\u001b[0m\u001b[0;34m,\u001b[0m \u001b[0mkwds\u001b[0m\u001b[0;34m,\u001b[0m \u001b[0mself\u001b[0m\u001b[0;34m.\u001b[0m\u001b[0m_no_variable_creation_config\u001b[0m\u001b[0;34m\u001b[0m\u001b[0;34m\u001b[0m\u001b[0m\n\u001b[1;32m    869\u001b[0m       )\n",
            "\u001b[0;32m/usr/local/lib/python3.10/dist-packages/tensorflow/python/eager/polymorphic_function/tracing_compilation.py\u001b[0m in \u001b[0;36mcall_function\u001b[0;34m(args, kwargs, tracing_options)\u001b[0m\n\u001b[1;32m    136\u001b[0m   \u001b[0;31m# Bind it ourselves to skip unnecessary canonicalization of default call.\u001b[0m\u001b[0;34m\u001b[0m\u001b[0;34m\u001b[0m\u001b[0m\n\u001b[1;32m    137\u001b[0m   \u001b[0mbound_args\u001b[0m \u001b[0;34m=\u001b[0m \u001b[0mfunction\u001b[0m\u001b[0;34m.\u001b[0m\u001b[0mfunction_type\u001b[0m\u001b[0;34m.\u001b[0m\u001b[0mbind\u001b[0m\u001b[0;34m(\u001b[0m\u001b[0;34m*\u001b[0m\u001b[0margs\u001b[0m\u001b[0;34m,\u001b[0m \u001b[0;34m**\u001b[0m\u001b[0mkwargs\u001b[0m\u001b[0;34m)\u001b[0m\u001b[0;34m\u001b[0m\u001b[0;34m\u001b[0m\u001b[0m\n\u001b[0;32m--> 138\u001b[0;31m   \u001b[0mflat_inputs\u001b[0m \u001b[0;34m=\u001b[0m \u001b[0mfunction\u001b[0m\u001b[0;34m.\u001b[0m\u001b[0mfunction_type\u001b[0m\u001b[0;34m.\u001b[0m\u001b[0munpack_inputs\u001b[0m\u001b[0;34m(\u001b[0m\u001b[0mbound_args\u001b[0m\u001b[0;34m)\u001b[0m\u001b[0;34m\u001b[0m\u001b[0;34m\u001b[0m\u001b[0m\n\u001b[0m\u001b[1;32m    139\u001b[0m   return function._call_flat(  # pylint: disable=protected-access\n\u001b[1;32m    140\u001b[0m       \u001b[0mflat_inputs\u001b[0m\u001b[0;34m,\u001b[0m \u001b[0mcaptured_inputs\u001b[0m\u001b[0;34m=\u001b[0m\u001b[0mfunction\u001b[0m\u001b[0;34m.\u001b[0m\u001b[0mcaptured_inputs\u001b[0m\u001b[0;34m\u001b[0m\u001b[0;34m\u001b[0m\u001b[0m\n",
            "\u001b[0;32m/usr/local/lib/python3.10/dist-packages/tensorflow/core/function/polymorphism/function_type.py\u001b[0m in \u001b[0;36munpack_inputs\u001b[0;34m(self, bound_parameters)\u001b[0m\n\u001b[1;32m    382\u001b[0m     \u001b[0;32mfor\u001b[0m \u001b[0mp\u001b[0m \u001b[0;32min\u001b[0m \u001b[0msorted_parameters\u001b[0m\u001b[0;34m:\u001b[0m\u001b[0;34m\u001b[0m\u001b[0;34m\u001b[0m\u001b[0m\n\u001b[1;32m    383\u001b[0m       flat.extend(\n\u001b[0;32m--> 384\u001b[0;31m           \u001b[0mp\u001b[0m\u001b[0;34m.\u001b[0m\u001b[0mtype_constraint\u001b[0m\u001b[0;34m.\u001b[0m\u001b[0m_to_tensors\u001b[0m\u001b[0;34m(\u001b[0m\u001b[0mbound_parameters\u001b[0m\u001b[0;34m.\u001b[0m\u001b[0marguments\u001b[0m\u001b[0;34m[\u001b[0m\u001b[0mp\u001b[0m\u001b[0;34m.\u001b[0m\u001b[0mname\u001b[0m\u001b[0;34m]\u001b[0m\u001b[0;34m)\u001b[0m  \u001b[0;31m# pylint: disable=protected-access\u001b[0m\u001b[0;34m\u001b[0m\u001b[0;34m\u001b[0m\u001b[0m\n\u001b[0m\u001b[1;32m    385\u001b[0m       )\n\u001b[1;32m    386\u001b[0m \u001b[0;34m\u001b[0m\u001b[0m\n",
            "\u001b[0;32m/usr/local/lib/python3.10/dist-packages/tensorflow/python/framework/type_spec.py\u001b[0m in \u001b[0;36m_to_tensors\u001b[0;34m(self, value)\u001b[0m\n\u001b[1;32m    247\u001b[0m   \u001b[0;32mdef\u001b[0m \u001b[0m_to_tensors\u001b[0m\u001b[0;34m(\u001b[0m\u001b[0mself\u001b[0m\u001b[0;34m,\u001b[0m \u001b[0mvalue\u001b[0m\u001b[0;34m)\u001b[0m\u001b[0;34m:\u001b[0m\u001b[0;34m\u001b[0m\u001b[0;34m\u001b[0m\u001b[0m\n\u001b[1;32m    248\u001b[0m     \u001b[0mtensors\u001b[0m \u001b[0;34m=\u001b[0m \u001b[0;34m[\u001b[0m\u001b[0;34m]\u001b[0m\u001b[0;34m\u001b[0m\u001b[0;34m\u001b[0m\u001b[0m\n\u001b[0;32m--> 249\u001b[0;31m     nest.map_structure(\n\u001b[0m\u001b[1;32m    250\u001b[0m         \u001b[0;32mlambda\u001b[0m \u001b[0mspec\u001b[0m\u001b[0;34m,\u001b[0m \u001b[0mv\u001b[0m\u001b[0;34m:\u001b[0m \u001b[0mtensors\u001b[0m\u001b[0;34m.\u001b[0m\u001b[0mextend\u001b[0m\u001b[0;34m(\u001b[0m\u001b[0mspec\u001b[0m\u001b[0;34m.\u001b[0m\u001b[0m_to_tensors\u001b[0m\u001b[0;34m(\u001b[0m\u001b[0mv\u001b[0m\u001b[0;34m)\u001b[0m\u001b[0;34m)\u001b[0m\u001b[0;34m,\u001b[0m  \u001b[0;31m# pylint: disable=protected-access\u001b[0m\u001b[0;34m\u001b[0m\u001b[0;34m\u001b[0m\u001b[0m\n\u001b[1;32m    251\u001b[0m         \u001b[0mself\u001b[0m\u001b[0;34m.\u001b[0m\u001b[0m_component_specs\u001b[0m\u001b[0;34m,\u001b[0m\u001b[0;34m\u001b[0m\u001b[0;34m\u001b[0m\u001b[0m\n",
            "\u001b[0;32m/usr/local/lib/python3.10/dist-packages/tensorflow/python/util/nest.py\u001b[0m in \u001b[0;36mmap_structure\u001b[0;34m(func, *structure, **kwargs)\u001b[0m\n\u001b[1;32m    627\u001b[0m     \u001b[0mValueError\u001b[0m\u001b[0;34m:\u001b[0m \u001b[0mIf\u001b[0m \u001b[0mwrong\u001b[0m \u001b[0mkeyword\u001b[0m \u001b[0marguments\u001b[0m \u001b[0mare\u001b[0m \u001b[0mprovided\u001b[0m\u001b[0;34m.\u001b[0m\u001b[0;34m\u001b[0m\u001b[0;34m\u001b[0m\u001b[0m\n\u001b[1;32m    628\u001b[0m   \"\"\"\n\u001b[0;32m--> 629\u001b[0;31m   return nest_util.map_structure(\n\u001b[0m\u001b[1;32m    630\u001b[0m       \u001b[0mnest_util\u001b[0m\u001b[0;34m.\u001b[0m\u001b[0mModality\u001b[0m\u001b[0;34m.\u001b[0m\u001b[0mCORE\u001b[0m\u001b[0;34m,\u001b[0m \u001b[0mfunc\u001b[0m\u001b[0;34m,\u001b[0m \u001b[0;34m*\u001b[0m\u001b[0mstructure\u001b[0m\u001b[0;34m,\u001b[0m \u001b[0;34m**\u001b[0m\u001b[0mkwargs\u001b[0m\u001b[0;34m\u001b[0m\u001b[0;34m\u001b[0m\u001b[0m\n\u001b[1;32m    631\u001b[0m   )\n",
            "\u001b[0;32m/usr/local/lib/python3.10/dist-packages/tensorflow/python/util/nest_util.py\u001b[0m in \u001b[0;36mmap_structure\u001b[0;34m(modality, func, *structure, **kwargs)\u001b[0m\n\u001b[1;32m   1166\u001b[0m   \"\"\"\n\u001b[1;32m   1167\u001b[0m   \u001b[0;32mif\u001b[0m \u001b[0mmodality\u001b[0m \u001b[0;34m==\u001b[0m \u001b[0mModality\u001b[0m\u001b[0;34m.\u001b[0m\u001b[0mCORE\u001b[0m\u001b[0;34m:\u001b[0m\u001b[0;34m\u001b[0m\u001b[0;34m\u001b[0m\u001b[0m\n\u001b[0;32m-> 1168\u001b[0;31m     \u001b[0;32mreturn\u001b[0m \u001b[0m_tf_core_map_structure\u001b[0m\u001b[0;34m(\u001b[0m\u001b[0mfunc\u001b[0m\u001b[0;34m,\u001b[0m \u001b[0;34m*\u001b[0m\u001b[0mstructure\u001b[0m\u001b[0;34m,\u001b[0m \u001b[0;34m**\u001b[0m\u001b[0mkwargs\u001b[0m\u001b[0;34m)\u001b[0m\u001b[0;34m\u001b[0m\u001b[0;34m\u001b[0m\u001b[0m\n\u001b[0m\u001b[1;32m   1169\u001b[0m   \u001b[0;32melif\u001b[0m \u001b[0mmodality\u001b[0m \u001b[0;34m==\u001b[0m \u001b[0mModality\u001b[0m\u001b[0;34m.\u001b[0m\u001b[0mDATA\u001b[0m\u001b[0;34m:\u001b[0m\u001b[0;34m\u001b[0m\u001b[0;34m\u001b[0m\u001b[0m\n\u001b[1;32m   1170\u001b[0m     \u001b[0;32mreturn\u001b[0m \u001b[0m_tf_data_map_structure\u001b[0m\u001b[0;34m(\u001b[0m\u001b[0mfunc\u001b[0m\u001b[0;34m,\u001b[0m \u001b[0;34m*\u001b[0m\u001b[0mstructure\u001b[0m\u001b[0;34m,\u001b[0m \u001b[0;34m**\u001b[0m\u001b[0mkwargs\u001b[0m\u001b[0;34m)\u001b[0m\u001b[0;34m\u001b[0m\u001b[0;34m\u001b[0m\u001b[0m\n",
            "\u001b[0;32m/usr/local/lib/python3.10/dist-packages/tensorflow/python/util/nest_util.py\u001b[0m in \u001b[0;36m_tf_core_map_structure\u001b[0;34m(func, *structure, **kwargs)\u001b[0m\n\u001b[1;32m   1204\u001b[0m   \u001b[0mentries\u001b[0m \u001b[0;34m=\u001b[0m \u001b[0mzip\u001b[0m\u001b[0;34m(\u001b[0m\u001b[0;34m*\u001b[0m\u001b[0mflat_structure\u001b[0m\u001b[0;34m)\u001b[0m\u001b[0;34m\u001b[0m\u001b[0;34m\u001b[0m\u001b[0m\n\u001b[1;32m   1205\u001b[0m \u001b[0;34m\u001b[0m\u001b[0m\n\u001b[0;32m-> 1206\u001b[0;31m   return _tf_core_pack_sequence_as(\n\u001b[0m\u001b[1;32m   1207\u001b[0m       \u001b[0mstructure\u001b[0m\u001b[0;34m[\u001b[0m\u001b[0;36m0\u001b[0m\u001b[0;34m]\u001b[0m\u001b[0;34m,\u001b[0m\u001b[0;34m\u001b[0m\u001b[0;34m\u001b[0m\u001b[0m\n\u001b[1;32m   1208\u001b[0m       \u001b[0;34m[\u001b[0m\u001b[0mfunc\u001b[0m\u001b[0;34m(\u001b[0m\u001b[0;34m*\u001b[0m\u001b[0mx\u001b[0m\u001b[0;34m)\u001b[0m \u001b[0;32mfor\u001b[0m \u001b[0mx\u001b[0m \u001b[0;32min\u001b[0m \u001b[0mentries\u001b[0m\u001b[0;34m]\u001b[0m\u001b[0;34m,\u001b[0m\u001b[0;34m\u001b[0m\u001b[0;34m\u001b[0m\u001b[0m\n",
            "\u001b[0;32m/usr/local/lib/python3.10/dist-packages/tensorflow/python/util/nest_util.py\u001b[0m in \u001b[0;36m_tf_core_pack_sequence_as\u001b[0;34m(structure, flat_sequence, expand_composites, sequence_fn)\u001b[0m\n\u001b[1;32m   1020\u001b[0m           \u001b[0;34m%\u001b[0m \u001b[0;34m(\u001b[0m\u001b[0mlen\u001b[0m\u001b[0;34m(\u001b[0m\u001b[0mflat_structure\u001b[0m\u001b[0;34m)\u001b[0m\u001b[0;34m,\u001b[0m \u001b[0mlen\u001b[0m\u001b[0;34m(\u001b[0m\u001b[0mflat_sequence\u001b[0m\u001b[0;34m)\u001b[0m\u001b[0;34m,\u001b[0m \u001b[0mstructure\u001b[0m\u001b[0;34m,\u001b[0m \u001b[0mflat_sequence\u001b[0m\u001b[0;34m)\u001b[0m\u001b[0;34m\u001b[0m\u001b[0;34m\u001b[0m\u001b[0m\n\u001b[1;32m   1021\u001b[0m       )\n\u001b[0;32m-> 1022\u001b[0;31m   \u001b[0;32mreturn\u001b[0m \u001b[0msequence_fn\u001b[0m\u001b[0;34m(\u001b[0m\u001b[0mstructure\u001b[0m\u001b[0;34m,\u001b[0m \u001b[0mpacked\u001b[0m\u001b[0;34m)\u001b[0m\u001b[0;34m\u001b[0m\u001b[0;34m\u001b[0m\u001b[0m\n\u001b[0m\u001b[1;32m   1023\u001b[0m \u001b[0;34m\u001b[0m\u001b[0m\n\u001b[1;32m   1024\u001b[0m \u001b[0;34m\u001b[0m\u001b[0m\n",
            "\u001b[0;32m/usr/local/lib/python3.10/dist-packages/tensorflow/python/util/nest_util.py\u001b[0m in \u001b[0;36msequence_like\u001b[0;34m(instance, args)\u001b[0m\n\u001b[1;32m    345\u001b[0m     \u001b[0;31m# in the proxy type.\u001b[0m\u001b[0;34m\u001b[0m\u001b[0;34m\u001b[0m\u001b[0m\n\u001b[1;32m    346\u001b[0m     \u001b[0;32mreturn\u001b[0m \u001b[0mtype\u001b[0m\u001b[0;34m(\u001b[0m\u001b[0minstance\u001b[0m\u001b[0;34m)\u001b[0m\u001b[0;34m(\u001b[0m\u001b[0msequence_like\u001b[0m\u001b[0;34m(\u001b[0m\u001b[0minstance\u001b[0m\u001b[0;34m.\u001b[0m\u001b[0m__wrapped__\u001b[0m\u001b[0;34m,\u001b[0m \u001b[0margs\u001b[0m\u001b[0;34m)\u001b[0m\u001b[0;34m)\u001b[0m\u001b[0;34m\u001b[0m\u001b[0;34m\u001b[0m\u001b[0m\n\u001b[0;32m--> 347\u001b[0;31m   \u001b[0;32melif\u001b[0m \u001b[0misinstance\u001b[0m\u001b[0;34m(\u001b[0m\u001b[0minstance\u001b[0m\u001b[0;34m,\u001b[0m \u001b[0mCustomNestProtocol\u001b[0m\u001b[0;34m)\u001b[0m\u001b[0;34m:\u001b[0m\u001b[0;34m\u001b[0m\u001b[0;34m\u001b[0m\u001b[0m\n\u001b[0m\u001b[1;32m    348\u001b[0m     \u001b[0mmetadata\u001b[0m \u001b[0;34m=\u001b[0m \u001b[0minstance\u001b[0m\u001b[0;34m.\u001b[0m\u001b[0m__tf_flatten__\u001b[0m\u001b[0;34m(\u001b[0m\u001b[0;34m)\u001b[0m\u001b[0;34m[\u001b[0m\u001b[0;36m0\u001b[0m\u001b[0;34m]\u001b[0m\u001b[0;34m\u001b[0m\u001b[0;34m\u001b[0m\u001b[0m\n\u001b[1;32m    349\u001b[0m     \u001b[0;32mreturn\u001b[0m \u001b[0minstance\u001b[0m\u001b[0;34m.\u001b[0m\u001b[0m__tf_unflatten__\u001b[0m\u001b[0;34m(\u001b[0m\u001b[0mmetadata\u001b[0m\u001b[0;34m,\u001b[0m \u001b[0mtuple\u001b[0m\u001b[0;34m(\u001b[0m\u001b[0margs\u001b[0m\u001b[0;34m)\u001b[0m\u001b[0;34m)\u001b[0m\u001b[0;34m\u001b[0m\u001b[0;34m\u001b[0m\u001b[0m\n",
            "\u001b[0;32m/usr/lib/python3.10/typing.py\u001b[0m in \u001b[0;36m__instancecheck__\u001b[0;34m(cls, instance)\u001b[0m\n\u001b[1;32m   1508\u001b[0m                     (not callable(getattr(cls, attr, None)) or\n\u001b[1;32m   1509\u001b[0m                      getattr(instance, attr) is not None)\n\u001b[0;32m-> 1510\u001b[0;31m                     for attr in _get_protocol_attrs(cls)):\n\u001b[0m\u001b[1;32m   1511\u001b[0m                 \u001b[0;32mreturn\u001b[0m \u001b[0;32mTrue\u001b[0m\u001b[0;34m\u001b[0m\u001b[0;34m\u001b[0m\u001b[0m\n\u001b[1;32m   1512\u001b[0m         \u001b[0;32mreturn\u001b[0m \u001b[0msuper\u001b[0m\u001b[0;34m(\u001b[0m\u001b[0;34m)\u001b[0m\u001b[0;34m.\u001b[0m\u001b[0m__instancecheck__\u001b[0m\u001b[0;34m(\u001b[0m\u001b[0minstance\u001b[0m\u001b[0;34m)\u001b[0m\u001b[0;34m\u001b[0m\u001b[0;34m\u001b[0m\u001b[0m\n",
            "\u001b[0;32m/usr/lib/python3.10/typing.py\u001b[0m in \u001b[0;36m_get_protocol_attrs\u001b[0;34m(cls)\u001b[0m\n\u001b[1;32m   1414\u001b[0m     \u001b[0mattrs\u001b[0m \u001b[0;34m=\u001b[0m \u001b[0mset\u001b[0m\u001b[0;34m(\u001b[0m\u001b[0;34m)\u001b[0m\u001b[0;34m\u001b[0m\u001b[0;34m\u001b[0m\u001b[0m\n\u001b[1;32m   1415\u001b[0m     \u001b[0;32mfor\u001b[0m \u001b[0mbase\u001b[0m \u001b[0;32min\u001b[0m \u001b[0mcls\u001b[0m\u001b[0;34m.\u001b[0m\u001b[0m__mro__\u001b[0m\u001b[0;34m[\u001b[0m\u001b[0;34m:\u001b[0m\u001b[0;34m-\u001b[0m\u001b[0;36m1\u001b[0m\u001b[0;34m]\u001b[0m\u001b[0;34m:\u001b[0m  \u001b[0;31m# without object\u001b[0m\u001b[0;34m\u001b[0m\u001b[0;34m\u001b[0m\u001b[0m\n\u001b[0;32m-> 1416\u001b[0;31m         \u001b[0;32mif\u001b[0m \u001b[0mbase\u001b[0m\u001b[0;34m.\u001b[0m\u001b[0m__name__\u001b[0m \u001b[0;32min\u001b[0m \u001b[0;34m(\u001b[0m\u001b[0;34m'Protocol'\u001b[0m\u001b[0;34m,\u001b[0m \u001b[0;34m'Generic'\u001b[0m\u001b[0;34m)\u001b[0m\u001b[0;34m:\u001b[0m\u001b[0;34m\u001b[0m\u001b[0;34m\u001b[0m\u001b[0m\n\u001b[0m\u001b[1;32m   1417\u001b[0m             \u001b[0;32mcontinue\u001b[0m\u001b[0;34m\u001b[0m\u001b[0;34m\u001b[0m\u001b[0m\n\u001b[1;32m   1418\u001b[0m         \u001b[0mannotations\u001b[0m \u001b[0;34m=\u001b[0m \u001b[0mgetattr\u001b[0m\u001b[0;34m(\u001b[0m\u001b[0mbase\u001b[0m\u001b[0;34m,\u001b[0m \u001b[0;34m'__annotations__'\u001b[0m\u001b[0;34m,\u001b[0m \u001b[0;34m{\u001b[0m\u001b[0;34m}\u001b[0m\u001b[0;34m)\u001b[0m\u001b[0;34m\u001b[0m\u001b[0;34m\u001b[0m\u001b[0m\n",
            "\u001b[0;31mKeyboardInterrupt\u001b[0m: "
          ]
        }
      ],
      "source": [
        "history = model.fit(\n",
        "    x=X_train,\n",
        "    y=y_train,\n",
        "    batch_size=32,\n",
        "    epochs=200,\n",
        "    #shuffle=True,\n",
        "    validation_data=(X_val, y_val),\n",
        "    callbacks=callbacks\n",
        ")"
      ]
    },
    {
      "cell_type": "code",
      "execution_count": null,
      "metadata": {
        "id": "Sf-8IShxOUvy"
      },
      "outputs": [],
      "source": [
        "for layer in pre_trained_model.layers[:200]:\n",
        "    layer.trainable = True\n",
        "\n",
        "# Recompile the model after changing trainable layers\n",
        "model.compile(optimizer=RMSprop(learning_rate=0.0005), loss='binary_crossentropy', metrics=['acc'])"
      ]
    },
    {
      "cell_type": "code",
      "execution_count": null,
      "metadata": {
        "colab": {
          "base_uri": "https://localhost:8080/",
          "height": 668
        },
        "id": "XdfZ6zQhmVth",
        "outputId": "e8f9a9e5-5a8e-4b48-9f3b-9e9357f1deb8"
      },
      "outputs": [
        {
          "name": "stdout",
          "output_type": "stream",
          "text": [
            "Epoch 1/200\n",
            "110/110 [==============================] - 26s 76ms/step - loss: 0.5737 - acc: 0.6982 - val_loss: 1.2721 - val_acc: 0.6445 - lr: 5.0000e-04\n",
            "Epoch 2/200\n",
            "110/110 [==============================] - 10s 88ms/step - loss: 0.3751 - acc: 0.8429 - val_loss: 0.8792 - val_acc: 0.7563 - lr: 5.0000e-04\n",
            "Epoch 3/200\n",
            "110/110 [==============================] - 8s 73ms/step - loss: 0.2817 - acc: 0.8875 - val_loss: 3.1036 - val_acc: 0.6498 - lr: 5.0000e-04\n",
            "Epoch 4/200\n",
            "110/110 [==============================] - 7s 64ms/step - loss: 0.1924 - acc: 0.9266 - val_loss: 2.4064 - val_acc: 0.4368 - lr: 5.0000e-04\n",
            "Epoch 5/200\n",
            "110/110 [==============================] - 7s 60ms/step - loss: 0.1728 - acc: 0.9369 - val_loss: 0.9014 - val_acc: 0.7803 - lr: 5.0000e-04\n",
            "Epoch 6/200\n",
            "110/110 [==============================] - 9s 81ms/step - loss: 0.1313 - acc: 0.9523 - val_loss: 2.1977 - val_acc: 0.7364 - lr: 5.0000e-04\n",
            "Epoch 7/200\n",
            "110/110 [==============================] - 7s 66ms/step - loss: 0.1229 - acc: 0.9595 - val_loss: 4.3451 - val_acc: 0.6658 - lr: 5.0000e-04\n",
            "Epoch 8/200\n",
            "103/110 [===========================>..] - ETA: 0s - loss: 0.0930 - acc: 0.9651"
          ]
        },
        {
          "ename": "KeyboardInterrupt",
          "evalue": "ignored",
          "output_type": "error",
          "traceback": [
            "\u001b[0;31m---------------------------------------------------------------------------\u001b[0m",
            "\u001b[0;31mKeyboardInterrupt\u001b[0m                         Traceback (most recent call last)",
            "\u001b[0;32m<ipython-input-36-8a60c525222c>\u001b[0m in \u001b[0;36m<cell line: 1>\u001b[0;34m()\u001b[0m\n\u001b[0;32m----> 1\u001b[0;31m history = model.fit(\n\u001b[0m\u001b[1;32m      2\u001b[0m     \u001b[0mx\u001b[0m\u001b[0;34m=\u001b[0m\u001b[0mX_train\u001b[0m\u001b[0;34m,\u001b[0m\u001b[0;34m\u001b[0m\u001b[0;34m\u001b[0m\u001b[0m\n\u001b[1;32m      3\u001b[0m     \u001b[0my\u001b[0m\u001b[0;34m=\u001b[0m\u001b[0my_train\u001b[0m\u001b[0;34m,\u001b[0m\u001b[0;34m\u001b[0m\u001b[0;34m\u001b[0m\u001b[0m\n\u001b[1;32m      4\u001b[0m     \u001b[0mbatch_size\u001b[0m\u001b[0;34m=\u001b[0m\u001b[0;36m32\u001b[0m\u001b[0;34m,\u001b[0m\u001b[0;34m\u001b[0m\u001b[0;34m\u001b[0m\u001b[0m\n\u001b[1;32m      5\u001b[0m     \u001b[0mepochs\u001b[0m\u001b[0;34m=\u001b[0m\u001b[0;36m200\u001b[0m\u001b[0;34m,\u001b[0m\u001b[0;34m\u001b[0m\u001b[0;34m\u001b[0m\u001b[0m\n",
            "\u001b[0;32m/usr/local/lib/python3.10/dist-packages/keras/src/utils/traceback_utils.py\u001b[0m in \u001b[0;36merror_handler\u001b[0;34m(*args, **kwargs)\u001b[0m\n\u001b[1;32m     63\u001b[0m         \u001b[0mfiltered_tb\u001b[0m \u001b[0;34m=\u001b[0m \u001b[0;32mNone\u001b[0m\u001b[0;34m\u001b[0m\u001b[0;34m\u001b[0m\u001b[0m\n\u001b[1;32m     64\u001b[0m         \u001b[0;32mtry\u001b[0m\u001b[0;34m:\u001b[0m\u001b[0;34m\u001b[0m\u001b[0;34m\u001b[0m\u001b[0m\n\u001b[0;32m---> 65\u001b[0;31m             \u001b[0;32mreturn\u001b[0m \u001b[0mfn\u001b[0m\u001b[0;34m(\u001b[0m\u001b[0;34m*\u001b[0m\u001b[0margs\u001b[0m\u001b[0;34m,\u001b[0m \u001b[0;34m**\u001b[0m\u001b[0mkwargs\u001b[0m\u001b[0;34m)\u001b[0m\u001b[0;34m\u001b[0m\u001b[0;34m\u001b[0m\u001b[0m\n\u001b[0m\u001b[1;32m     66\u001b[0m         \u001b[0;32mexcept\u001b[0m \u001b[0mException\u001b[0m \u001b[0;32mas\u001b[0m \u001b[0me\u001b[0m\u001b[0;34m:\u001b[0m\u001b[0;34m\u001b[0m\u001b[0;34m\u001b[0m\u001b[0m\n\u001b[1;32m     67\u001b[0m             \u001b[0mfiltered_tb\u001b[0m \u001b[0;34m=\u001b[0m \u001b[0m_process_traceback_frames\u001b[0m\u001b[0;34m(\u001b[0m\u001b[0me\u001b[0m\u001b[0;34m.\u001b[0m\u001b[0m__traceback__\u001b[0m\u001b[0;34m)\u001b[0m\u001b[0;34m\u001b[0m\u001b[0;34m\u001b[0m\u001b[0m\n",
            "\u001b[0;32m/usr/local/lib/python3.10/dist-packages/keras/src/engine/training.py\u001b[0m in \u001b[0;36mfit\u001b[0;34m(self, x, y, batch_size, epochs, verbose, callbacks, validation_split, validation_data, shuffle, class_weight, sample_weight, initial_epoch, steps_per_epoch, validation_steps, validation_batch_size, validation_freq, max_queue_size, workers, use_multiprocessing)\u001b[0m\n\u001b[1;32m   1781\u001b[0m                         ):\n\u001b[1;32m   1782\u001b[0m                             \u001b[0mcallbacks\u001b[0m\u001b[0;34m.\u001b[0m\u001b[0mon_train_batch_begin\u001b[0m\u001b[0;34m(\u001b[0m\u001b[0mstep\u001b[0m\u001b[0;34m)\u001b[0m\u001b[0;34m\u001b[0m\u001b[0;34m\u001b[0m\u001b[0m\n\u001b[0;32m-> 1783\u001b[0;31m                             \u001b[0mtmp_logs\u001b[0m \u001b[0;34m=\u001b[0m \u001b[0mself\u001b[0m\u001b[0;34m.\u001b[0m\u001b[0mtrain_function\u001b[0m\u001b[0;34m(\u001b[0m\u001b[0miterator\u001b[0m\u001b[0;34m)\u001b[0m\u001b[0;34m\u001b[0m\u001b[0;34m\u001b[0m\u001b[0m\n\u001b[0m\u001b[1;32m   1784\u001b[0m                             \u001b[0;32mif\u001b[0m \u001b[0mdata_handler\u001b[0m\u001b[0;34m.\u001b[0m\u001b[0mshould_sync\u001b[0m\u001b[0;34m:\u001b[0m\u001b[0;34m\u001b[0m\u001b[0;34m\u001b[0m\u001b[0m\n\u001b[1;32m   1785\u001b[0m                                 \u001b[0mcontext\u001b[0m\u001b[0;34m.\u001b[0m\u001b[0masync_wait\u001b[0m\u001b[0;34m(\u001b[0m\u001b[0;34m)\u001b[0m\u001b[0;34m\u001b[0m\u001b[0;34m\u001b[0m\u001b[0m\n",
            "\u001b[0;32m/usr/local/lib/python3.10/dist-packages/tensorflow/python/util/traceback_utils.py\u001b[0m in \u001b[0;36merror_handler\u001b[0;34m(*args, **kwargs)\u001b[0m\n\u001b[1;32m    148\u001b[0m     \u001b[0mfiltered_tb\u001b[0m \u001b[0;34m=\u001b[0m \u001b[0;32mNone\u001b[0m\u001b[0;34m\u001b[0m\u001b[0;34m\u001b[0m\u001b[0m\n\u001b[1;32m    149\u001b[0m     \u001b[0;32mtry\u001b[0m\u001b[0;34m:\u001b[0m\u001b[0;34m\u001b[0m\u001b[0;34m\u001b[0m\u001b[0m\n\u001b[0;32m--> 150\u001b[0;31m       \u001b[0;32mreturn\u001b[0m \u001b[0mfn\u001b[0m\u001b[0;34m(\u001b[0m\u001b[0;34m*\u001b[0m\u001b[0margs\u001b[0m\u001b[0;34m,\u001b[0m \u001b[0;34m**\u001b[0m\u001b[0mkwargs\u001b[0m\u001b[0;34m)\u001b[0m\u001b[0;34m\u001b[0m\u001b[0;34m\u001b[0m\u001b[0m\n\u001b[0m\u001b[1;32m    151\u001b[0m     \u001b[0;32mexcept\u001b[0m \u001b[0mException\u001b[0m \u001b[0;32mas\u001b[0m \u001b[0me\u001b[0m\u001b[0;34m:\u001b[0m\u001b[0;34m\u001b[0m\u001b[0;34m\u001b[0m\u001b[0m\n\u001b[1;32m    152\u001b[0m       \u001b[0mfiltered_tb\u001b[0m \u001b[0;34m=\u001b[0m \u001b[0m_process_traceback_frames\u001b[0m\u001b[0;34m(\u001b[0m\u001b[0me\u001b[0m\u001b[0;34m.\u001b[0m\u001b[0m__traceback__\u001b[0m\u001b[0;34m)\u001b[0m\u001b[0;34m\u001b[0m\u001b[0;34m\u001b[0m\u001b[0m\n",
            "\u001b[0;32m/usr/local/lib/python3.10/dist-packages/tensorflow/python/eager/polymorphic_function/polymorphic_function.py\u001b[0m in \u001b[0;36m__call__\u001b[0;34m(self, *args, **kwds)\u001b[0m\n\u001b[1;32m    829\u001b[0m \u001b[0;34m\u001b[0m\u001b[0m\n\u001b[1;32m    830\u001b[0m       \u001b[0;32mwith\u001b[0m \u001b[0mOptionalXlaContext\u001b[0m\u001b[0;34m(\u001b[0m\u001b[0mself\u001b[0m\u001b[0;34m.\u001b[0m\u001b[0m_jit_compile\u001b[0m\u001b[0;34m)\u001b[0m\u001b[0;34m:\u001b[0m\u001b[0;34m\u001b[0m\u001b[0;34m\u001b[0m\u001b[0m\n\u001b[0;32m--> 831\u001b[0;31m         \u001b[0mresult\u001b[0m \u001b[0;34m=\u001b[0m \u001b[0mself\u001b[0m\u001b[0;34m.\u001b[0m\u001b[0m_call\u001b[0m\u001b[0;34m(\u001b[0m\u001b[0;34m*\u001b[0m\u001b[0margs\u001b[0m\u001b[0;34m,\u001b[0m \u001b[0;34m**\u001b[0m\u001b[0mkwds\u001b[0m\u001b[0;34m)\u001b[0m\u001b[0;34m\u001b[0m\u001b[0;34m\u001b[0m\u001b[0m\n\u001b[0m\u001b[1;32m    832\u001b[0m \u001b[0;34m\u001b[0m\u001b[0m\n\u001b[1;32m    833\u001b[0m       \u001b[0mnew_tracing_count\u001b[0m \u001b[0;34m=\u001b[0m \u001b[0mself\u001b[0m\u001b[0;34m.\u001b[0m\u001b[0mexperimental_get_tracing_count\u001b[0m\u001b[0;34m(\u001b[0m\u001b[0;34m)\u001b[0m\u001b[0;34m\u001b[0m\u001b[0;34m\u001b[0m\u001b[0m\n",
            "\u001b[0;32m/usr/local/lib/python3.10/dist-packages/tensorflow/python/eager/polymorphic_function/polymorphic_function.py\u001b[0m in \u001b[0;36m_call\u001b[0;34m(self, *args, **kwds)\u001b[0m\n\u001b[1;32m    865\u001b[0m       \u001b[0;31m# In this case we have created variables on the first call, so we run the\u001b[0m\u001b[0;34m\u001b[0m\u001b[0;34m\u001b[0m\u001b[0m\n\u001b[1;32m    866\u001b[0m       \u001b[0;31m# defunned version which is guaranteed to never create variables.\u001b[0m\u001b[0;34m\u001b[0m\u001b[0;34m\u001b[0m\u001b[0m\n\u001b[0;32m--> 867\u001b[0;31m       return tracing_compilation.call_function(\n\u001b[0m\u001b[1;32m    868\u001b[0m           \u001b[0margs\u001b[0m\u001b[0;34m,\u001b[0m \u001b[0mkwds\u001b[0m\u001b[0;34m,\u001b[0m \u001b[0mself\u001b[0m\u001b[0;34m.\u001b[0m\u001b[0m_no_variable_creation_config\u001b[0m\u001b[0;34m\u001b[0m\u001b[0;34m\u001b[0m\u001b[0m\n\u001b[1;32m    869\u001b[0m       )\n",
            "\u001b[0;32m/usr/local/lib/python3.10/dist-packages/tensorflow/python/eager/polymorphic_function/tracing_compilation.py\u001b[0m in \u001b[0;36mcall_function\u001b[0;34m(args, kwargs, tracing_options)\u001b[0m\n\u001b[1;32m    137\u001b[0m   \u001b[0mbound_args\u001b[0m \u001b[0;34m=\u001b[0m \u001b[0mfunction\u001b[0m\u001b[0;34m.\u001b[0m\u001b[0mfunction_type\u001b[0m\u001b[0;34m.\u001b[0m\u001b[0mbind\u001b[0m\u001b[0;34m(\u001b[0m\u001b[0;34m*\u001b[0m\u001b[0margs\u001b[0m\u001b[0;34m,\u001b[0m \u001b[0;34m**\u001b[0m\u001b[0mkwargs\u001b[0m\u001b[0;34m)\u001b[0m\u001b[0;34m\u001b[0m\u001b[0;34m\u001b[0m\u001b[0m\n\u001b[1;32m    138\u001b[0m   \u001b[0mflat_inputs\u001b[0m \u001b[0;34m=\u001b[0m \u001b[0mfunction\u001b[0m\u001b[0;34m.\u001b[0m\u001b[0mfunction_type\u001b[0m\u001b[0;34m.\u001b[0m\u001b[0munpack_inputs\u001b[0m\u001b[0;34m(\u001b[0m\u001b[0mbound_args\u001b[0m\u001b[0;34m)\u001b[0m\u001b[0;34m\u001b[0m\u001b[0;34m\u001b[0m\u001b[0m\n\u001b[0;32m--> 139\u001b[0;31m   return function._call_flat(  # pylint: disable=protected-access\n\u001b[0m\u001b[1;32m    140\u001b[0m       \u001b[0mflat_inputs\u001b[0m\u001b[0;34m,\u001b[0m \u001b[0mcaptured_inputs\u001b[0m\u001b[0;34m=\u001b[0m\u001b[0mfunction\u001b[0m\u001b[0;34m.\u001b[0m\u001b[0mcaptured_inputs\u001b[0m\u001b[0;34m\u001b[0m\u001b[0;34m\u001b[0m\u001b[0m\n\u001b[1;32m    141\u001b[0m   )\n",
            "\u001b[0;32m/usr/local/lib/python3.10/dist-packages/tensorflow/python/eager/polymorphic_function/concrete_function.py\u001b[0m in \u001b[0;36m_call_flat\u001b[0;34m(self, tensor_inputs, captured_inputs)\u001b[0m\n\u001b[1;32m   1262\u001b[0m         and executing_eagerly):\n\u001b[1;32m   1263\u001b[0m       \u001b[0;31m# No tape is watching; skip to running the function.\u001b[0m\u001b[0;34m\u001b[0m\u001b[0;34m\u001b[0m\u001b[0m\n\u001b[0;32m-> 1264\u001b[0;31m       \u001b[0;32mreturn\u001b[0m \u001b[0mself\u001b[0m\u001b[0;34m.\u001b[0m\u001b[0m_inference_function\u001b[0m\u001b[0;34m.\u001b[0m\u001b[0mflat_call\u001b[0m\u001b[0;34m(\u001b[0m\u001b[0margs\u001b[0m\u001b[0;34m)\u001b[0m\u001b[0;34m\u001b[0m\u001b[0;34m\u001b[0m\u001b[0m\n\u001b[0m\u001b[1;32m   1265\u001b[0m     forward_backward = self._select_forward_and_backward_functions(\n\u001b[1;32m   1266\u001b[0m         \u001b[0margs\u001b[0m\u001b[0;34m,\u001b[0m\u001b[0;34m\u001b[0m\u001b[0;34m\u001b[0m\u001b[0m\n",
            "\u001b[0;32m/usr/local/lib/python3.10/dist-packages/tensorflow/python/eager/polymorphic_function/atomic_function.py\u001b[0m in \u001b[0;36mflat_call\u001b[0;34m(self, args)\u001b[0m\n\u001b[1;32m    215\u001b[0m   \u001b[0;32mdef\u001b[0m \u001b[0mflat_call\u001b[0m\u001b[0;34m(\u001b[0m\u001b[0mself\u001b[0m\u001b[0;34m,\u001b[0m \u001b[0margs\u001b[0m\u001b[0;34m:\u001b[0m \u001b[0mSequence\u001b[0m\u001b[0;34m[\u001b[0m\u001b[0mcore\u001b[0m\u001b[0;34m.\u001b[0m\u001b[0mTensor\u001b[0m\u001b[0;34m]\u001b[0m\u001b[0;34m)\u001b[0m \u001b[0;34m->\u001b[0m \u001b[0mAny\u001b[0m\u001b[0;34m:\u001b[0m\u001b[0;34m\u001b[0m\u001b[0;34m\u001b[0m\u001b[0m\n\u001b[1;32m    216\u001b[0m     \u001b[0;34m\"\"\"Calls with tensor inputs and returns the structured output.\"\"\"\u001b[0m\u001b[0;34m\u001b[0m\u001b[0;34m\u001b[0m\u001b[0m\n\u001b[0;32m--> 217\u001b[0;31m     \u001b[0mflat_outputs\u001b[0m \u001b[0;34m=\u001b[0m \u001b[0mself\u001b[0m\u001b[0;34m(\u001b[0m\u001b[0;34m*\u001b[0m\u001b[0margs\u001b[0m\u001b[0;34m)\u001b[0m\u001b[0;34m\u001b[0m\u001b[0;34m\u001b[0m\u001b[0m\n\u001b[0m\u001b[1;32m    218\u001b[0m     \u001b[0;32mreturn\u001b[0m \u001b[0mself\u001b[0m\u001b[0;34m.\u001b[0m\u001b[0mfunction_type\u001b[0m\u001b[0;34m.\u001b[0m\u001b[0mpack_output\u001b[0m\u001b[0;34m(\u001b[0m\u001b[0mflat_outputs\u001b[0m\u001b[0;34m)\u001b[0m\u001b[0;34m\u001b[0m\u001b[0;34m\u001b[0m\u001b[0m\n\u001b[1;32m    219\u001b[0m \u001b[0;34m\u001b[0m\u001b[0m\n",
            "\u001b[0;32m/usr/local/lib/python3.10/dist-packages/tensorflow/python/eager/polymorphic_function/atomic_function.py\u001b[0m in \u001b[0;36m__call__\u001b[0;34m(self, *args)\u001b[0m\n\u001b[1;32m    250\u001b[0m         \u001b[0;32mwith\u001b[0m \u001b[0mrecord\u001b[0m\u001b[0;34m.\u001b[0m\u001b[0mstop_recording\u001b[0m\u001b[0;34m(\u001b[0m\u001b[0;34m)\u001b[0m\u001b[0;34m:\u001b[0m\u001b[0;34m\u001b[0m\u001b[0;34m\u001b[0m\u001b[0m\n\u001b[1;32m    251\u001b[0m           \u001b[0;32mif\u001b[0m \u001b[0mself\u001b[0m\u001b[0;34m.\u001b[0m\u001b[0m_bound_context\u001b[0m\u001b[0;34m.\u001b[0m\u001b[0mexecuting_eagerly\u001b[0m\u001b[0;34m(\u001b[0m\u001b[0;34m)\u001b[0m\u001b[0;34m:\u001b[0m\u001b[0;34m\u001b[0m\u001b[0;34m\u001b[0m\u001b[0m\n\u001b[0;32m--> 252\u001b[0;31m             outputs = self._bound_context.call_function(\n\u001b[0m\u001b[1;32m    253\u001b[0m                 \u001b[0mself\u001b[0m\u001b[0;34m.\u001b[0m\u001b[0mname\u001b[0m\u001b[0;34m,\u001b[0m\u001b[0;34m\u001b[0m\u001b[0;34m\u001b[0m\u001b[0m\n\u001b[1;32m    254\u001b[0m                 \u001b[0mlist\u001b[0m\u001b[0;34m(\u001b[0m\u001b[0margs\u001b[0m\u001b[0;34m)\u001b[0m\u001b[0;34m,\u001b[0m\u001b[0;34m\u001b[0m\u001b[0;34m\u001b[0m\u001b[0m\n",
            "\u001b[0;32m/usr/local/lib/python3.10/dist-packages/tensorflow/python/eager/context.py\u001b[0m in \u001b[0;36mcall_function\u001b[0;34m(self, name, tensor_inputs, num_outputs)\u001b[0m\n\u001b[1;32m   1477\u001b[0m     \u001b[0mcancellation_context\u001b[0m \u001b[0;34m=\u001b[0m \u001b[0mcancellation\u001b[0m\u001b[0;34m.\u001b[0m\u001b[0mcontext\u001b[0m\u001b[0;34m(\u001b[0m\u001b[0;34m)\u001b[0m\u001b[0;34m\u001b[0m\u001b[0;34m\u001b[0m\u001b[0m\n\u001b[1;32m   1478\u001b[0m     \u001b[0;32mif\u001b[0m \u001b[0mcancellation_context\u001b[0m \u001b[0;32mis\u001b[0m \u001b[0;32mNone\u001b[0m\u001b[0;34m:\u001b[0m\u001b[0;34m\u001b[0m\u001b[0;34m\u001b[0m\u001b[0m\n\u001b[0;32m-> 1479\u001b[0;31m       outputs = execute.execute(\n\u001b[0m\u001b[1;32m   1480\u001b[0m           \u001b[0mname\u001b[0m\u001b[0;34m.\u001b[0m\u001b[0mdecode\u001b[0m\u001b[0;34m(\u001b[0m\u001b[0;34m\"utf-8\"\u001b[0m\u001b[0;34m)\u001b[0m\u001b[0;34m,\u001b[0m\u001b[0;34m\u001b[0m\u001b[0;34m\u001b[0m\u001b[0m\n\u001b[1;32m   1481\u001b[0m           \u001b[0mnum_outputs\u001b[0m\u001b[0;34m=\u001b[0m\u001b[0mnum_outputs\u001b[0m\u001b[0;34m,\u001b[0m\u001b[0;34m\u001b[0m\u001b[0;34m\u001b[0m\u001b[0m\n",
            "\u001b[0;32m/usr/local/lib/python3.10/dist-packages/tensorflow/python/eager/execute.py\u001b[0m in \u001b[0;36mquick_execute\u001b[0;34m(op_name, num_outputs, inputs, attrs, ctx, name)\u001b[0m\n\u001b[1;32m     58\u001b[0m         \u001b[0;32mfor\u001b[0m \u001b[0mt\u001b[0m \u001b[0;32min\u001b[0m \u001b[0minputs\u001b[0m\u001b[0;34m\u001b[0m\u001b[0;34m\u001b[0m\u001b[0m\n\u001b[1;32m     59\u001b[0m     ]\n\u001b[0;32m---> 60\u001b[0;31m     tensors = pywrap_tfe.TFE_Py_Execute(ctx._handle, device_name, op_name,\n\u001b[0m\u001b[1;32m     61\u001b[0m                                         inputs, attrs, num_outputs)\n\u001b[1;32m     62\u001b[0m   \u001b[0;32mexcept\u001b[0m \u001b[0mcore\u001b[0m\u001b[0;34m.\u001b[0m\u001b[0m_NotOkStatusException\u001b[0m \u001b[0;32mas\u001b[0m \u001b[0me\u001b[0m\u001b[0;34m:\u001b[0m\u001b[0;34m\u001b[0m\u001b[0;34m\u001b[0m\u001b[0m\n",
            "\u001b[0;31mKeyboardInterrupt\u001b[0m: "
          ]
        }
      ],
      "source": [
        "history = model.fit(\n",
        "    x=X_train,\n",
        "    y=y_train,\n",
        "    batch_size=32,\n",
        "    epochs=200,\n",
        "    #shuffle=True,\n",
        "    validation_data=(X_val, y_val),\n",
        "    callbacks=callbacks\n",
        ")"
      ]
    },
    {
      "cell_type": "code",
      "execution_count": null,
      "metadata": {
        "id": "bUQZsIOumngt"
      },
      "outputs": [],
      "source": [
        "# Plot the training\n",
        "\n",
        "plt.figure(figsize=(15,5))\n",
        "plt.plot(history['accuracy'], alpha=.3, color='#ff7f0e', linestyle='--')\n",
        "plt.plot(history['val_accuracy'], label='CNN', alpha=.8, color='#ff7f0e')\n",
        "plt.legend(loc='upper left')\n",
        "plt.title('Accuracy')\n",
        "plt.grid(alpha=.3)\n",
        "\n",
        "plt.show()"
      ]
    },
    {
      "cell_type": "markdown",
      "metadata": {
        "id": "hKYtHJoTfDFt"
      },
      "source": [
        "### Inception v4"
      ]
    },
    {
      "cell_type": "code",
      "execution_count": null,
      "metadata": {
        "id": "f-2SGlH2cRd7"
      },
      "outputs": [],
      "source": [
        "def conv2d_with_Batch(prev_layer, nbr_kernels, filter_size, strides=(1, 1), padding='valid'):\n",
        "    x = tfkl.Conv2D(filters=nbr_kernels, kernel_size=filter_size, strides=strides, padding=padding)(prev_layer)\n",
        "    x = tfkl.BatchNormalization()(x)\n",
        "    x = tfkl.Activation(activation='relu')(x)\n",
        "    return x\n",
        "\n",
        "def stemBlock(prev_layer):\n",
        "    x = conv2d_with_Batch(prev_layer, nbr_kernels=32, filter_size=(3, 3), strides=(2, 2))\n",
        "    x = conv2d_with_Batch(x, nbr_kernels=32, filter_size=(3, 3))\n",
        "    x = conv2d_with_Batch(x, nbr_kernels=64, filter_size=(3, 3))\n",
        "\n",
        "    x_1 = conv2d_with_Batch(x, nbr_kernels=96, filter_size=(3, 3), strides=(2, 2))\n",
        "    x_2 = tfkl.MaxPool2D(pool_size=(3, 3), strides=(2, 2))(x)\n",
        "\n",
        "    x = tfkl.concatenate([x_1, x_2], axis=3)\n",
        "\n",
        "    x_1 = conv2d_with_Batch(x, nbr_kernels=64, filter_size=(1, 1))\n",
        "    x_1 = conv2d_with_Batch(x_1, nbr_kernels=64, filter_size=(1, 7), padding='same')\n",
        "    x_1 = conv2d_with_Batch(x_1, nbr_kernels=64, filter_size=(7, 1), padding='same')\n",
        "    x_1 = conv2d_with_Batch(x_1, nbr_kernels=96, filter_size=(3, 3))\n",
        "\n",
        "    x_2 = conv2d_with_Batch(x, nbr_kernels=96, filter_size=(1, 1))\n",
        "    x_2 = conv2d_with_Batch(x_2, nbr_kernels=96, filter_size=(3, 3))\n",
        "\n",
        "    x = tfkl.concatenate([x_1, x_2], axis=3)\n",
        "\n",
        "    x_1 = conv2d_with_Batch(x, nbr_kernels=192, filter_size=(3, 3), strides=2)\n",
        "    x_2 = tfkl.MaxPool2D(pool_size=(3, 3), strides=(2, 2))(x)\n",
        "\n",
        "    x = tfkl.concatenate([x_1, x_2], axis=3)\n",
        "\n",
        "    return x\n",
        "\n",
        "def reduction_A_Block(prev_layer):\n",
        "    x_1 = conv2d_with_Batch(prev_layer=prev_layer, nbr_kernels=192, filter_size=(1, 1))\n",
        "    x_1 = conv2d_with_Batch(prev_layer=x_1, nbr_kernels=224, filter_size=(3, 3), padding='same')\n",
        "    x_1 = conv2d_with_Batch(prev_layer=x_1, nbr_kernels=256, filter_size=(3, 3), strides=(2, 2))\n",
        "\n",
        "    x_2 = conv2d_with_Batch(prev_layer=prev_layer, nbr_kernels=384, filter_size=(3, 3), strides=(2, 2))\n",
        "\n",
        "    x_3 = tfkl.MaxPool2D(pool_size=(3, 3), strides=(2, 2))(prev_layer)\n",
        "\n",
        "    x = tfkl.concatenate([x_1, x_2, x_3], axis=3)\n",
        "\n",
        "    return x\n",
        "\n",
        "def reduction_B_Block(prev_layer):\n",
        "    x_1 = tfkl.MaxPool2D(pool_size=(3, 3), strides=(2, 2))(prev_layer)\n",
        "\n",
        "    x_2 = conv2d_with_Batch(prev_layer=prev_layer, nbr_kernels=192, filter_size=(1, 1))\n",
        "    x_2 = conv2d_with_Batch(prev_layer=x_2, nbr_kernels=192, filter_size=(3, 3), strides=(2, 2))\n",
        "\n",
        "    x_3 = conv2d_with_Batch(prev_layer=prev_layer, nbr_kernels=256, filter_size=(1, 1))\n",
        "    x_3 = conv2d_with_Batch(prev_layer=x_3, nbr_kernels=256, filter_size=(1, 7), padding='same')\n",
        "    x_3 = conv2d_with_Batch(prev_layer=x_3, nbr_kernels=320, filter_size=(7, 1), padding='same')\n",
        "    x_3 = conv2d_with_Batch(prev_layer=x_3, nbr_kernels=320, filter_size=(3, 3), strides=(2, 2))\n",
        "\n",
        "    x = tfkl.concatenate([x_1, x_2, x_3], axis=3)\n",
        "    return x\n",
        "\n",
        "def InceptionBlock_A(prev_layer):\n",
        "    x_1 = conv2d_with_Batch(prev_layer=prev_layer, nbr_kernels=64, filter_size=(1, 1))\n",
        "    x_1 = conv2d_with_Batch(prev_layer=x_1, nbr_kernels=96, filter_size=(3, 3), strides=(1, 1), padding='same')\n",
        "    x_1 = conv2d_with_Batch(prev_layer=x_1, nbr_kernels=96, filter_size=(3, 3), strides=(1, 1), padding='same')\n",
        "\n",
        "    x_2 = conv2d_with_Batch(prev_layer=prev_layer, nbr_kernels=64, filter_size=(1, 1))\n",
        "    x_2 = conv2d_with_Batch(prev_layer=x_2, nbr_kernels=96, filter_size=(3, 3), padding='same')\n",
        "\n",
        "    x_3 = tfkl.AveragePooling2D(pool_size=(3, 3), strides=1, padding='same')(prev_layer)\n",
        "    x_3 = conv2d_with_Batch(prev_layer=x_3, nbr_kernels=96, filter_size=(1, 1), padding='same')\n",
        "\n",
        "    x_4 = conv2d_with_Batch(prev_layer=prev_layer, nbr_kernels=96, filter_size=(1, 1))\n",
        "\n",
        "    output = tfkl.concatenate([x_1, x_2, x_3, x_4], axis=3)\n",
        "\n",
        "    return output\n",
        "\n",
        "def InceptionBlock_B(prev_layer):\n",
        "    x_1 = conv2d_with_Batch(prev_layer=prev_layer, nbr_kernels=192, filter_size=(1, 1))\n",
        "    x_1 = conv2d_with_Batch(prev_layer=x_1, nbr_kernels=192, filter_size=(7, 1), padding='same')\n",
        "    x_1 = conv2d_with_Batch(prev_layer=x_1, nbr_kernels=224, filter_size=(1, 7), padding='same')\n",
        "    x_1 = conv2d_with_Batch(prev_layer=x_1, nbr_kernels=224, filter_size=(7, 1), padding='same')\n",
        "    x_1 = conv2d_with_Batch(prev_layer=x_1, nbr_kernels=256, filter_size=(1, 7), padding='same')\n",
        "\n",
        "    x_2 = conv2d_with_Batch(prev_layer=prev_layer, nbr_kernels=192, filter_size=(1, 1))\n",
        "    x_2 = conv2d_with_Batch(prev_layer=x_2, nbr_kernels=224, filter_size=(1, 7), padding='same')\n",
        "    x_2 = conv2d_with_Batch(prev_layer=x_2, nbr_kernels=256, filter_size=(7, 1), padding='same')\n",
        "\n",
        "    x_3 = tfkl.AveragePooling2D(pool_size=(3, 3), strides=1, padding='same')(prev_layer)\n",
        "    x_3 = conv2d_with_Batch(prev_layer=x_3, nbr_kernels=128, filter_size=(1, 1))\n",
        "\n",
        "    x_4 = conv2d_with_Batch(prev_layer=prev_layer, nbr_kernels=384, filter_size=(1, 1))\n",
        "\n",
        "    output = tfkl.concatenate([x_1, x_2, x_3, x_4], axis=3)\n",
        "    return output\n",
        "\n",
        "def InceptionBlock_C(prev_layer):\n",
        "    x_1 = conv2d_with_Batch(prev_layer=prev_layer, nbr_kernels=384, filter_size=(1, 1))\n",
        "    x_1 = conv2d_with_Batch(prev_layer=x_1, nbr_kernels=448, filter_size=(3, 1), padding='same')\n",
        "    x_1 = conv2d_with_Batch(prev_layer=x_1, nbr_kernels=512, filter_size=(1, 3), padding='same')\n",
        "    x_1_1 = conv2d_with_Batch(prev_layer=x_1, nbr_kernels=256, filter_size=(1, 3), padding='same')\n",
        "    x_1_2 = conv2d_with_Batch(prev_layer=x_1, nbr_kernels=256, filter_size=(3, 1), padding='same')\n",
        "    x_1 = tfkl.concatenate([x_1_1, x_1_2], axis=3)\n",
        "\n",
        "    x_2 = conv2d_with_Batch(prev_layer=prev_layer, nbr_kernels=384, filter_size=(1, 1))\n",
        "    x_2_1 = conv2d_with_Batch(prev_layer=x_2, nbr_kernels=256, filter_size=(1, 3), padding='same')\n",
        "    x_2_2 = conv2d_with_Batch(prev_layer=x_2, nbr_kernels=256, filter_size=(3, 1), padding='same')\n",
        "    x_2 = tfkl.concatenate([x_2_1, x_2_2], axis=3)\n",
        "\n",
        "    x_3 = tfkl.MaxPool2D(pool_size=(3, 3), strides=1, padding='same')(prev_layer)\n",
        "    x_3 = conv2d_with_Batch(prev_layer=x_3, nbr_kernels=256, filter_size=3, padding='same')\n",
        "\n",
        "    x_4 = conv2d_with_Batch(prev_layer=prev_layer, nbr_kernels=256, filter_size=(1, 1))\n",
        "\n",
        "    output = tfkl.concatenate([x_1, x_2, x_3, x_4], axis=3)\n",
        "\n",
        "    return output\n",
        "\n",
        "def InceptionV4_binary():\n",
        "    input_layer = tfkl.Input(shape=(96, 96, 3))\n",
        "\n",
        "    x = stemBlock(prev_layer=input_layer)\n",
        "\n",
        "    x = InceptionBlock_A(prev_layer=x)\n",
        "    x = InceptionBlock_A(prev_layer=x)\n",
        "    x = InceptionBlock_A(prev_layer=x)\n",
        "    x = InceptionBlock_A(prev_layer=x)\n",
        "\n",
        "    x = reduction_A_Block(prev_layer=x)\n",
        "\n",
        "    x = InceptionBlock_B(prev_layer=x)\n",
        "    x = InceptionBlock_B(prev_layer=x)\n",
        "    x = InceptionBlock_B(prev_layer=x)\n",
        "    x = InceptionBlock_B(prev_layer=x)\n",
        "    x = InceptionBlock_B(prev_layer=x)\n",
        "    x = InceptionBlock_B(prev_layer=x)\n",
        "    x = InceptionBlock_B(prev_layer=x)\n",
        "\n",
        "    x = reduction_B_Block(prev_layer=x)\n",
        "\n",
        "    x = InceptionBlock_C(prev_layer=x)\n",
        "    x = InceptionBlock_C(prev_layer=x)\n",
        "    x = InceptionBlock_C(prev_layer=x)\n",
        "\n",
        "    x = tfkl.GlobalAveragePooling2D()(x)\n",
        "\n",
        "    x = tfkl.Dense(units=512, activation='relu')(x)\n",
        "    x = tfkl.Dropout(rate=0.5)(x)\n",
        "    x = tfkl.Dense(units=1, activation='sigmoid')(x)  # Binary classification output\n",
        "\n",
        "    model = tfk.Model(inputs=input_layer, outputs=x, name='Inception-V4-binary')\n",
        "\n",
        "    model.compile(loss=tfk.losses.BinaryCrossentropy(), optimizer=tfk.optimizers.Adam(), metrics=['accuracy'])\n",
        "\n",
        "    return model\n",
        "\n",
        "\n"
      ]
    },
    {
      "cell_type": "code",
      "execution_count": null,
      "metadata": {
        "colab": {
          "base_uri": "https://localhost:8080/",
          "height": 1000
        },
        "id": "MPdbHn3fee04",
        "outputId": "6520029d-f1fe-4d23-939a-b381715ad71d"
      },
      "outputs": [
        {
          "name": "stdout",
          "output_type": "stream",
          "text": [
            "Epoch 1/50\n",
            "219/219 [==============================] - 135s 165ms/step - loss: 0.8980 - accuracy: 0.5968 - val_loss: 0.6661 - val_accuracy: 0.6192 - lr: 0.0010\n",
            "Epoch 2/50\n",
            "219/219 [==============================] - 33s 151ms/step - loss: 0.6962 - accuracy: 0.6136 - val_loss: 0.6648 - val_accuracy: 0.6059 - lr: 0.0010\n",
            "Epoch 3/50\n",
            "219/219 [==============================] - 29s 133ms/step - loss: 0.6319 - accuracy: 0.6431 - val_loss: 0.6459 - val_accuracy: 0.6192 - lr: 0.0010\n",
            "Epoch 4/50\n",
            "219/219 [==============================] - 30s 136ms/step - loss: 0.6054 - accuracy: 0.6796 - val_loss: 0.5756 - val_accuracy: 0.7097 - lr: 0.0010\n",
            "Epoch 5/50\n",
            "219/219 [==============================] - 30s 135ms/step - loss: 0.5717 - accuracy: 0.6919 - val_loss: 0.6144 - val_accuracy: 0.6445 - lr: 0.0010\n",
            "Epoch 6/50\n",
            "219/219 [==============================] - 28s 130ms/step - loss: 0.5525 - accuracy: 0.7184 - val_loss: 0.5817 - val_accuracy: 0.7044 - lr: 0.0010\n",
            "Epoch 7/50\n",
            "219/219 [==============================] - ETA: 0s - loss: 0.5241 - accuracy: 0.7373\n",
            "Epoch 7: ReduceLROnPlateau reducing learning rate to 0.00020000000949949026.\n",
            "219/219 [==============================] - 30s 138ms/step - loss: 0.5241 - accuracy: 0.7373 - val_loss: 0.6561 - val_accuracy: 0.6378 - lr: 0.0010\n",
            "Epoch 8/50\n",
            "219/219 [==============================] - 29s 133ms/step - loss: 0.4395 - accuracy: 0.7918 - val_loss: 0.5330 - val_accuracy: 0.7324 - lr: 2.0000e-04\n",
            "Epoch 9/50\n",
            "219/219 [==============================] - 31s 140ms/step - loss: 0.3741 - accuracy: 0.8244 - val_loss: 0.5541 - val_accuracy: 0.7483 - lr: 2.0000e-04\n",
            "Epoch 10/50\n",
            "219/219 [==============================] - 29s 132ms/step - loss: 0.3502 - accuracy: 0.8407 - val_loss: 0.6016 - val_accuracy: 0.7377 - lr: 2.0000e-04\n",
            "Epoch 11/50\n",
            "219/219 [==============================] - 30s 137ms/step - loss: 0.3286 - accuracy: 0.8492 - val_loss: 0.8156 - val_accuracy: 0.6951 - lr: 2.0000e-04\n",
            "Epoch 12/50\n",
            "219/219 [==============================] - ETA: 0s - loss: 0.3082 - accuracy: 0.8649\n",
            "Epoch 12: ReduceLROnPlateau reducing learning rate to 4.0000001899898055e-05.\n",
            "219/219 [==============================] - 29s 132ms/step - loss: 0.3082 - accuracy: 0.8649 - val_loss: 0.6876 - val_accuracy: 0.6911 - lr: 2.0000e-04\n",
            "Epoch 13/50\n",
            "219/219 [==============================] - 29s 131ms/step - loss: 0.2381 - accuracy: 0.9015 - val_loss: 0.6952 - val_accuracy: 0.7017 - lr: 4.0000e-05\n",
            "Epoch 14/50\n",
            "219/219 [==============================] - 30s 135ms/step - loss: 0.1997 - accuracy: 0.9103 - val_loss: 0.6750 - val_accuracy: 0.7297 - lr: 4.0000e-05\n",
            "Epoch 15/50\n",
            "219/219 [==============================] - ETA: 0s - loss: 0.1835 - accuracy: 0.9206\n",
            "Epoch 15: ReduceLROnPlateau reducing learning rate to 8.000000525498762e-06.\n",
            "219/219 [==============================] - 29s 130ms/step - loss: 0.1835 - accuracy: 0.9206 - val_loss: 0.7986 - val_accuracy: 0.7017 - lr: 4.0000e-05\n",
            "Epoch 16/50\n",
            " 67/219 [========>.....................] - ETA: 23s - loss: 0.1815 - accuracy: 0.9160"
          ]
        },
        {
          "ename": "KeyboardInterrupt",
          "evalue": "ignored",
          "output_type": "error",
          "traceback": [
            "\u001b[0;31m---------------------------------------------------------------------------\u001b[0m",
            "\u001b[0;31mKeyboardInterrupt\u001b[0m                         Traceback (most recent call last)",
            "\u001b[0;32m<ipython-input-46-98eba38ea878>\u001b[0m in \u001b[0;36m<cell line: 3>\u001b[0;34m()\u001b[0m\n\u001b[1;32m      1\u001b[0m \u001b[0;31m# Train the model\u001b[0m\u001b[0;34m\u001b[0m\u001b[0;34m\u001b[0m\u001b[0m\n\u001b[1;32m      2\u001b[0m \u001b[0mmodel\u001b[0m \u001b[0;34m=\u001b[0m \u001b[0mInceptionV4_binary\u001b[0m\u001b[0;34m(\u001b[0m\u001b[0;34m)\u001b[0m\u001b[0;34m\u001b[0m\u001b[0;34m\u001b[0m\u001b[0m\n\u001b[0;32m----> 3\u001b[0;31m history = model.fit(\n\u001b[0m\u001b[1;32m      4\u001b[0m     \u001b[0mx\u001b[0m \u001b[0;34m=\u001b[0m \u001b[0mX_train\u001b[0m\u001b[0;34m,\u001b[0m\u001b[0;34m\u001b[0m\u001b[0;34m\u001b[0m\u001b[0m\n\u001b[1;32m      5\u001b[0m     \u001b[0my\u001b[0m \u001b[0;34m=\u001b[0m \u001b[0my_train\u001b[0m\u001b[0;34m,\u001b[0m\u001b[0;34m\u001b[0m\u001b[0;34m\u001b[0m\u001b[0m\n",
            "\u001b[0;32m/usr/local/lib/python3.10/dist-packages/keras/src/utils/traceback_utils.py\u001b[0m in \u001b[0;36merror_handler\u001b[0;34m(*args, **kwargs)\u001b[0m\n\u001b[1;32m     63\u001b[0m         \u001b[0mfiltered_tb\u001b[0m \u001b[0;34m=\u001b[0m \u001b[0;32mNone\u001b[0m\u001b[0;34m\u001b[0m\u001b[0;34m\u001b[0m\u001b[0m\n\u001b[1;32m     64\u001b[0m         \u001b[0;32mtry\u001b[0m\u001b[0;34m:\u001b[0m\u001b[0;34m\u001b[0m\u001b[0;34m\u001b[0m\u001b[0m\n\u001b[0;32m---> 65\u001b[0;31m             \u001b[0;32mreturn\u001b[0m \u001b[0mfn\u001b[0m\u001b[0;34m(\u001b[0m\u001b[0;34m*\u001b[0m\u001b[0margs\u001b[0m\u001b[0;34m,\u001b[0m \u001b[0;34m**\u001b[0m\u001b[0mkwargs\u001b[0m\u001b[0;34m)\u001b[0m\u001b[0;34m\u001b[0m\u001b[0;34m\u001b[0m\u001b[0m\n\u001b[0m\u001b[1;32m     66\u001b[0m         \u001b[0;32mexcept\u001b[0m \u001b[0mException\u001b[0m \u001b[0;32mas\u001b[0m \u001b[0me\u001b[0m\u001b[0;34m:\u001b[0m\u001b[0;34m\u001b[0m\u001b[0;34m\u001b[0m\u001b[0m\n\u001b[1;32m     67\u001b[0m             \u001b[0mfiltered_tb\u001b[0m \u001b[0;34m=\u001b[0m \u001b[0m_process_traceback_frames\u001b[0m\u001b[0;34m(\u001b[0m\u001b[0me\u001b[0m\u001b[0;34m.\u001b[0m\u001b[0m__traceback__\u001b[0m\u001b[0;34m)\u001b[0m\u001b[0;34m\u001b[0m\u001b[0;34m\u001b[0m\u001b[0m\n",
            "\u001b[0;32m/usr/local/lib/python3.10/dist-packages/keras/src/engine/training.py\u001b[0m in \u001b[0;36mfit\u001b[0;34m(self, x, y, batch_size, epochs, verbose, callbacks, validation_split, validation_data, shuffle, class_weight, sample_weight, initial_epoch, steps_per_epoch, validation_steps, validation_batch_size, validation_freq, max_queue_size, workers, use_multiprocessing)\u001b[0m\n\u001b[1;32m   1781\u001b[0m                         ):\n\u001b[1;32m   1782\u001b[0m                             \u001b[0mcallbacks\u001b[0m\u001b[0;34m.\u001b[0m\u001b[0mon_train_batch_begin\u001b[0m\u001b[0;34m(\u001b[0m\u001b[0mstep\u001b[0m\u001b[0;34m)\u001b[0m\u001b[0;34m\u001b[0m\u001b[0;34m\u001b[0m\u001b[0m\n\u001b[0;32m-> 1783\u001b[0;31m                             \u001b[0mtmp_logs\u001b[0m \u001b[0;34m=\u001b[0m \u001b[0mself\u001b[0m\u001b[0;34m.\u001b[0m\u001b[0mtrain_function\u001b[0m\u001b[0;34m(\u001b[0m\u001b[0miterator\u001b[0m\u001b[0;34m)\u001b[0m\u001b[0;34m\u001b[0m\u001b[0;34m\u001b[0m\u001b[0m\n\u001b[0m\u001b[1;32m   1784\u001b[0m                             \u001b[0;32mif\u001b[0m \u001b[0mdata_handler\u001b[0m\u001b[0;34m.\u001b[0m\u001b[0mshould_sync\u001b[0m\u001b[0;34m:\u001b[0m\u001b[0;34m\u001b[0m\u001b[0;34m\u001b[0m\u001b[0m\n\u001b[1;32m   1785\u001b[0m                                 \u001b[0mcontext\u001b[0m\u001b[0;34m.\u001b[0m\u001b[0masync_wait\u001b[0m\u001b[0;34m(\u001b[0m\u001b[0;34m)\u001b[0m\u001b[0;34m\u001b[0m\u001b[0;34m\u001b[0m\u001b[0m\n",
            "\u001b[0;32m/usr/local/lib/python3.10/dist-packages/tensorflow/python/util/traceback_utils.py\u001b[0m in \u001b[0;36merror_handler\u001b[0;34m(*args, **kwargs)\u001b[0m\n\u001b[1;32m    148\u001b[0m     \u001b[0mfiltered_tb\u001b[0m \u001b[0;34m=\u001b[0m \u001b[0;32mNone\u001b[0m\u001b[0;34m\u001b[0m\u001b[0;34m\u001b[0m\u001b[0m\n\u001b[1;32m    149\u001b[0m     \u001b[0;32mtry\u001b[0m\u001b[0;34m:\u001b[0m\u001b[0;34m\u001b[0m\u001b[0;34m\u001b[0m\u001b[0m\n\u001b[0;32m--> 150\u001b[0;31m       \u001b[0;32mreturn\u001b[0m \u001b[0mfn\u001b[0m\u001b[0;34m(\u001b[0m\u001b[0;34m*\u001b[0m\u001b[0margs\u001b[0m\u001b[0;34m,\u001b[0m \u001b[0;34m**\u001b[0m\u001b[0mkwargs\u001b[0m\u001b[0;34m)\u001b[0m\u001b[0;34m\u001b[0m\u001b[0;34m\u001b[0m\u001b[0m\n\u001b[0m\u001b[1;32m    151\u001b[0m     \u001b[0;32mexcept\u001b[0m \u001b[0mException\u001b[0m \u001b[0;32mas\u001b[0m \u001b[0me\u001b[0m\u001b[0;34m:\u001b[0m\u001b[0;34m\u001b[0m\u001b[0;34m\u001b[0m\u001b[0m\n\u001b[1;32m    152\u001b[0m       \u001b[0mfiltered_tb\u001b[0m \u001b[0;34m=\u001b[0m \u001b[0m_process_traceback_frames\u001b[0m\u001b[0;34m(\u001b[0m\u001b[0me\u001b[0m\u001b[0;34m.\u001b[0m\u001b[0m__traceback__\u001b[0m\u001b[0;34m)\u001b[0m\u001b[0;34m\u001b[0m\u001b[0;34m\u001b[0m\u001b[0m\n",
            "\u001b[0;32m/usr/local/lib/python3.10/dist-packages/tensorflow/python/eager/polymorphic_function/polymorphic_function.py\u001b[0m in \u001b[0;36m__call__\u001b[0;34m(self, *args, **kwds)\u001b[0m\n\u001b[1;32m    829\u001b[0m \u001b[0;34m\u001b[0m\u001b[0m\n\u001b[1;32m    830\u001b[0m       \u001b[0;32mwith\u001b[0m \u001b[0mOptionalXlaContext\u001b[0m\u001b[0;34m(\u001b[0m\u001b[0mself\u001b[0m\u001b[0;34m.\u001b[0m\u001b[0m_jit_compile\u001b[0m\u001b[0;34m)\u001b[0m\u001b[0;34m:\u001b[0m\u001b[0;34m\u001b[0m\u001b[0;34m\u001b[0m\u001b[0m\n\u001b[0;32m--> 831\u001b[0;31m         \u001b[0mresult\u001b[0m \u001b[0;34m=\u001b[0m \u001b[0mself\u001b[0m\u001b[0;34m.\u001b[0m\u001b[0m_call\u001b[0m\u001b[0;34m(\u001b[0m\u001b[0;34m*\u001b[0m\u001b[0margs\u001b[0m\u001b[0;34m,\u001b[0m \u001b[0;34m**\u001b[0m\u001b[0mkwds\u001b[0m\u001b[0;34m)\u001b[0m\u001b[0;34m\u001b[0m\u001b[0;34m\u001b[0m\u001b[0m\n\u001b[0m\u001b[1;32m    832\u001b[0m \u001b[0;34m\u001b[0m\u001b[0m\n\u001b[1;32m    833\u001b[0m       \u001b[0mnew_tracing_count\u001b[0m \u001b[0;34m=\u001b[0m \u001b[0mself\u001b[0m\u001b[0;34m.\u001b[0m\u001b[0mexperimental_get_tracing_count\u001b[0m\u001b[0;34m(\u001b[0m\u001b[0;34m)\u001b[0m\u001b[0;34m\u001b[0m\u001b[0;34m\u001b[0m\u001b[0m\n",
            "\u001b[0;32m/usr/local/lib/python3.10/dist-packages/tensorflow/python/eager/polymorphic_function/polymorphic_function.py\u001b[0m in \u001b[0;36m_call\u001b[0;34m(self, *args, **kwds)\u001b[0m\n\u001b[1;32m    865\u001b[0m       \u001b[0;31m# In this case we have created variables on the first call, so we run the\u001b[0m\u001b[0;34m\u001b[0m\u001b[0;34m\u001b[0m\u001b[0m\n\u001b[1;32m    866\u001b[0m       \u001b[0;31m# defunned version which is guaranteed to never create variables.\u001b[0m\u001b[0;34m\u001b[0m\u001b[0;34m\u001b[0m\u001b[0m\n\u001b[0;32m--> 867\u001b[0;31m       return tracing_compilation.call_function(\n\u001b[0m\u001b[1;32m    868\u001b[0m           \u001b[0margs\u001b[0m\u001b[0;34m,\u001b[0m \u001b[0mkwds\u001b[0m\u001b[0;34m,\u001b[0m \u001b[0mself\u001b[0m\u001b[0;34m.\u001b[0m\u001b[0m_no_variable_creation_config\u001b[0m\u001b[0;34m\u001b[0m\u001b[0;34m\u001b[0m\u001b[0m\n\u001b[1;32m    869\u001b[0m       )\n",
            "\u001b[0;32m/usr/local/lib/python3.10/dist-packages/tensorflow/python/eager/polymorphic_function/tracing_compilation.py\u001b[0m in \u001b[0;36mcall_function\u001b[0;34m(args, kwargs, tracing_options)\u001b[0m\n\u001b[1;32m    137\u001b[0m   \u001b[0mbound_args\u001b[0m \u001b[0;34m=\u001b[0m \u001b[0mfunction\u001b[0m\u001b[0;34m.\u001b[0m\u001b[0mfunction_type\u001b[0m\u001b[0;34m.\u001b[0m\u001b[0mbind\u001b[0m\u001b[0;34m(\u001b[0m\u001b[0;34m*\u001b[0m\u001b[0margs\u001b[0m\u001b[0;34m,\u001b[0m \u001b[0;34m**\u001b[0m\u001b[0mkwargs\u001b[0m\u001b[0;34m)\u001b[0m\u001b[0;34m\u001b[0m\u001b[0;34m\u001b[0m\u001b[0m\n\u001b[1;32m    138\u001b[0m   \u001b[0mflat_inputs\u001b[0m \u001b[0;34m=\u001b[0m \u001b[0mfunction\u001b[0m\u001b[0;34m.\u001b[0m\u001b[0mfunction_type\u001b[0m\u001b[0;34m.\u001b[0m\u001b[0munpack_inputs\u001b[0m\u001b[0;34m(\u001b[0m\u001b[0mbound_args\u001b[0m\u001b[0;34m)\u001b[0m\u001b[0;34m\u001b[0m\u001b[0;34m\u001b[0m\u001b[0m\n\u001b[0;32m--> 139\u001b[0;31m   return function._call_flat(  # pylint: disable=protected-access\n\u001b[0m\u001b[1;32m    140\u001b[0m       \u001b[0mflat_inputs\u001b[0m\u001b[0;34m,\u001b[0m \u001b[0mcaptured_inputs\u001b[0m\u001b[0;34m=\u001b[0m\u001b[0mfunction\u001b[0m\u001b[0;34m.\u001b[0m\u001b[0mcaptured_inputs\u001b[0m\u001b[0;34m\u001b[0m\u001b[0;34m\u001b[0m\u001b[0m\n\u001b[1;32m    141\u001b[0m   )\n",
            "\u001b[0;32m/usr/local/lib/python3.10/dist-packages/tensorflow/python/eager/polymorphic_function/concrete_function.py\u001b[0m in \u001b[0;36m_call_flat\u001b[0;34m(self, tensor_inputs, captured_inputs)\u001b[0m\n\u001b[1;32m   1262\u001b[0m         and executing_eagerly):\n\u001b[1;32m   1263\u001b[0m       \u001b[0;31m# No tape is watching; skip to running the function.\u001b[0m\u001b[0;34m\u001b[0m\u001b[0;34m\u001b[0m\u001b[0m\n\u001b[0;32m-> 1264\u001b[0;31m       \u001b[0;32mreturn\u001b[0m \u001b[0mself\u001b[0m\u001b[0;34m.\u001b[0m\u001b[0m_inference_function\u001b[0m\u001b[0;34m.\u001b[0m\u001b[0mflat_call\u001b[0m\u001b[0;34m(\u001b[0m\u001b[0margs\u001b[0m\u001b[0;34m)\u001b[0m\u001b[0;34m\u001b[0m\u001b[0;34m\u001b[0m\u001b[0m\n\u001b[0m\u001b[1;32m   1265\u001b[0m     forward_backward = self._select_forward_and_backward_functions(\n\u001b[1;32m   1266\u001b[0m         \u001b[0margs\u001b[0m\u001b[0;34m,\u001b[0m\u001b[0;34m\u001b[0m\u001b[0;34m\u001b[0m\u001b[0m\n",
            "\u001b[0;32m/usr/local/lib/python3.10/dist-packages/tensorflow/python/eager/polymorphic_function/atomic_function.py\u001b[0m in \u001b[0;36mflat_call\u001b[0;34m(self, args)\u001b[0m\n\u001b[1;32m    215\u001b[0m   \u001b[0;32mdef\u001b[0m \u001b[0mflat_call\u001b[0m\u001b[0;34m(\u001b[0m\u001b[0mself\u001b[0m\u001b[0;34m,\u001b[0m \u001b[0margs\u001b[0m\u001b[0;34m:\u001b[0m \u001b[0mSequence\u001b[0m\u001b[0;34m[\u001b[0m\u001b[0mcore\u001b[0m\u001b[0;34m.\u001b[0m\u001b[0mTensor\u001b[0m\u001b[0;34m]\u001b[0m\u001b[0;34m)\u001b[0m \u001b[0;34m->\u001b[0m \u001b[0mAny\u001b[0m\u001b[0;34m:\u001b[0m\u001b[0;34m\u001b[0m\u001b[0;34m\u001b[0m\u001b[0m\n\u001b[1;32m    216\u001b[0m     \u001b[0;34m\"\"\"Calls with tensor inputs and returns the structured output.\"\"\"\u001b[0m\u001b[0;34m\u001b[0m\u001b[0;34m\u001b[0m\u001b[0m\n\u001b[0;32m--> 217\u001b[0;31m     \u001b[0mflat_outputs\u001b[0m \u001b[0;34m=\u001b[0m \u001b[0mself\u001b[0m\u001b[0;34m(\u001b[0m\u001b[0;34m*\u001b[0m\u001b[0margs\u001b[0m\u001b[0;34m)\u001b[0m\u001b[0;34m\u001b[0m\u001b[0;34m\u001b[0m\u001b[0m\n\u001b[0m\u001b[1;32m    218\u001b[0m     \u001b[0;32mreturn\u001b[0m \u001b[0mself\u001b[0m\u001b[0;34m.\u001b[0m\u001b[0mfunction_type\u001b[0m\u001b[0;34m.\u001b[0m\u001b[0mpack_output\u001b[0m\u001b[0;34m(\u001b[0m\u001b[0mflat_outputs\u001b[0m\u001b[0;34m)\u001b[0m\u001b[0;34m\u001b[0m\u001b[0;34m\u001b[0m\u001b[0m\n\u001b[1;32m    219\u001b[0m \u001b[0;34m\u001b[0m\u001b[0m\n",
            "\u001b[0;32m/usr/local/lib/python3.10/dist-packages/tensorflow/python/eager/polymorphic_function/atomic_function.py\u001b[0m in \u001b[0;36m__call__\u001b[0;34m(self, *args)\u001b[0m\n\u001b[1;32m    250\u001b[0m         \u001b[0;32mwith\u001b[0m \u001b[0mrecord\u001b[0m\u001b[0;34m.\u001b[0m\u001b[0mstop_recording\u001b[0m\u001b[0;34m(\u001b[0m\u001b[0;34m)\u001b[0m\u001b[0;34m:\u001b[0m\u001b[0;34m\u001b[0m\u001b[0;34m\u001b[0m\u001b[0m\n\u001b[1;32m    251\u001b[0m           \u001b[0;32mif\u001b[0m \u001b[0mself\u001b[0m\u001b[0;34m.\u001b[0m\u001b[0m_bound_context\u001b[0m\u001b[0;34m.\u001b[0m\u001b[0mexecuting_eagerly\u001b[0m\u001b[0;34m(\u001b[0m\u001b[0;34m)\u001b[0m\u001b[0;34m:\u001b[0m\u001b[0;34m\u001b[0m\u001b[0;34m\u001b[0m\u001b[0m\n\u001b[0;32m--> 252\u001b[0;31m             outputs = self._bound_context.call_function(\n\u001b[0m\u001b[1;32m    253\u001b[0m                 \u001b[0mself\u001b[0m\u001b[0;34m.\u001b[0m\u001b[0mname\u001b[0m\u001b[0;34m,\u001b[0m\u001b[0;34m\u001b[0m\u001b[0;34m\u001b[0m\u001b[0m\n\u001b[1;32m    254\u001b[0m                 \u001b[0mlist\u001b[0m\u001b[0;34m(\u001b[0m\u001b[0margs\u001b[0m\u001b[0;34m)\u001b[0m\u001b[0;34m,\u001b[0m\u001b[0;34m\u001b[0m\u001b[0;34m\u001b[0m\u001b[0m\n",
            "\u001b[0;32m/usr/local/lib/python3.10/dist-packages/tensorflow/python/eager/context.py\u001b[0m in \u001b[0;36mcall_function\u001b[0;34m(self, name, tensor_inputs, num_outputs)\u001b[0m\n\u001b[1;32m   1477\u001b[0m     \u001b[0mcancellation_context\u001b[0m \u001b[0;34m=\u001b[0m \u001b[0mcancellation\u001b[0m\u001b[0;34m.\u001b[0m\u001b[0mcontext\u001b[0m\u001b[0;34m(\u001b[0m\u001b[0;34m)\u001b[0m\u001b[0;34m\u001b[0m\u001b[0;34m\u001b[0m\u001b[0m\n\u001b[1;32m   1478\u001b[0m     \u001b[0;32mif\u001b[0m \u001b[0mcancellation_context\u001b[0m \u001b[0;32mis\u001b[0m \u001b[0;32mNone\u001b[0m\u001b[0;34m:\u001b[0m\u001b[0;34m\u001b[0m\u001b[0;34m\u001b[0m\u001b[0m\n\u001b[0;32m-> 1479\u001b[0;31m       outputs = execute.execute(\n\u001b[0m\u001b[1;32m   1480\u001b[0m           \u001b[0mname\u001b[0m\u001b[0;34m.\u001b[0m\u001b[0mdecode\u001b[0m\u001b[0;34m(\u001b[0m\u001b[0;34m\"utf-8\"\u001b[0m\u001b[0;34m)\u001b[0m\u001b[0;34m,\u001b[0m\u001b[0;34m\u001b[0m\u001b[0;34m\u001b[0m\u001b[0m\n\u001b[1;32m   1481\u001b[0m           \u001b[0mnum_outputs\u001b[0m\u001b[0;34m=\u001b[0m\u001b[0mnum_outputs\u001b[0m\u001b[0;34m,\u001b[0m\u001b[0;34m\u001b[0m\u001b[0;34m\u001b[0m\u001b[0m\n",
            "\u001b[0;32m/usr/local/lib/python3.10/dist-packages/tensorflow/python/eager/execute.py\u001b[0m in \u001b[0;36mquick_execute\u001b[0;34m(op_name, num_outputs, inputs, attrs, ctx, name)\u001b[0m\n\u001b[1;32m     58\u001b[0m         \u001b[0;32mfor\u001b[0m \u001b[0mt\u001b[0m \u001b[0;32min\u001b[0m \u001b[0minputs\u001b[0m\u001b[0;34m\u001b[0m\u001b[0;34m\u001b[0m\u001b[0m\n\u001b[1;32m     59\u001b[0m     ]\n\u001b[0;32m---> 60\u001b[0;31m     tensors = pywrap_tfe.TFE_Py_Execute(ctx._handle, device_name, op_name,\n\u001b[0m\u001b[1;32m     61\u001b[0m                                         inputs, attrs, num_outputs)\n\u001b[1;32m     62\u001b[0m   \u001b[0;32mexcept\u001b[0m \u001b[0mcore\u001b[0m\u001b[0;34m.\u001b[0m\u001b[0m_NotOkStatusException\u001b[0m \u001b[0;32mas\u001b[0m \u001b[0me\u001b[0m\u001b[0;34m:\u001b[0m\u001b[0;34m\u001b[0m\u001b[0;34m\u001b[0m\u001b[0m\n",
            "\u001b[0;31mKeyboardInterrupt\u001b[0m: "
          ]
        }
      ],
      "source": [
        "# Train the model\n",
        "model = InceptionV4_binary()\n",
        "history = model.fit(\n",
        "    x = X_train,\n",
        "    y = y_train,\n",
        "    batch_size = batch_size,\n",
        "    epochs = 50,\n",
        "    validation_data = (X_val, y_val),\n",
        "    callbacks = callbacks\n",
        ").history"
      ]
    },
    {
      "cell_type": "markdown",
      "metadata": {
        "id": "5PjhjA7NJKxs"
      },
      "source": [
        "### Mobilenet Transfer learning"
      ]
    },
    {
      "cell_type": "markdown",
      "metadata": {
        "id": "uuY6TJnlghRn"
      },
      "source": [
        "\n",
        "#### MobileNet v2"
      ]
    },
    {
      "cell_type": "code",
      "execution_count": null,
      "metadata": {
        "id": "ZIgaZyT04EO8"
      },
      "outputs": [],
      "source": [
        "# MobileNetV2 model  TRANSFER LEARNING START\n",
        "mobile = tfk.applications.MobileNetV2(\n",
        "    input_shape=(96, 96, 3),\n",
        "    include_top=False,\n",
        "\n",
        "    weights=\"imagenet\",\n",
        "    pooling='avg'\n",
        ")\n",
        "\n",
        "# Display the model architecture with input shapes\n",
        "tfk.utils.plot_model(mobile, show_shapes=True)"
      ]
    },
    {
      "cell_type": "code",
      "execution_count": null,
      "metadata": {
        "id": "xw4gzdd89UNo"
      },
      "outputs": [],
      "source": [
        "mobile.trainable = False\n",
        "# mobile.trainable = True\n",
        "\n",
        "inputs = tfk.Input(shape=(96, 96, 3))\n",
        "\n",
        "preprocessed=preprocess_input(inputs)\n",
        "\n",
        "# Connect MobileNetV2 to the input\n",
        "x = mobile(preprocessed)\n",
        "\n",
        "# Add a Dense layer with 2 units and softmax activation as the classifier\n",
        "outputs = tfkl.Dense(1, activation='sigmoid')(x)\n",
        "\n",
        "# Create a Model connecting input and output\n",
        "model = tfk.Model(inputs=inputs, outputs=outputs, name='model')\n",
        "\n",
        "# Compile the model with Categorical Cross-Entropy loss and Adam optimizer\n",
        "model.compile(loss=tfk.losses.BinaryCrossentropy(), optimizer=tfk.optimizers.Adam(), metrics=['accuracy'])\n",
        "\n",
        "# Display model summary\n",
        "model.summary()"
      ]
    },
    {
      "cell_type": "code",
      "execution_count": null,
      "metadata": {
        "id": "98UkJM3dyfIT"
      },
      "outputs": [],
      "source": [
        "\n",
        "model.get_layer('dense_1').trainable = True\n",
        "#model.get_layer('mobilenetv2_1.00_96').trainable = True\n",
        "for i, layer in enumerate(model.layers):\n",
        "   print(i, layer.name, layer.trainable)"
      ]
    },
    {
      "cell_type": "code",
      "execution_count": null,
      "metadata": {
        "id": "u1FBIehf9aGh"
      },
      "outputs": [],
      "source": [
        "history = model.fit(\n",
        "    x = preprocess_input(X_train),\n",
        "    y = y_train,\n",
        "    batch_size = 16,\n",
        "    shuffle=True,\n",
        "    epochs = 100,\n",
        "    validation_data = (preprocess_input(X_val), y_val),\n",
        "    callbacks = callbacks\n",
        ").history"
      ]
    },
    {
      "cell_type": "code",
      "execution_count": null,
      "metadata": {
        "id": "hFEIIXBZvA7r"
      },
      "outputs": [],
      "source": [
        "# Plot the training\n",
        "\n",
        "plt.figure(figsize=(15,5))\n",
        "plt.plot(history['accuracy'], alpha=.3, color='#ff7f0e', linestyle='--')\n",
        "plt.plot(history['val_accuracy'], label='FineTunedModel', alpha=.8, color='#ff7f0e')\n",
        "plt.legend(loc='upper left')\n",
        "plt.title('Accuracy')\n",
        "plt.grid(alpha=.3)\n",
        "\n",
        "plt.show()"
      ]
    },
    {
      "cell_type": "code",
      "execution_count": null,
      "metadata": {
        "id": "aRu-VJjll2-h"
      },
      "outputs": [],
      "source": [
        "# Evaluate the model on the test set\n",
        "test_accuracy = model.evaluate(preprocess_input(X_test),y_test,verbose=0)[-1]\n",
        "print('Test set accuracy %.4f' % test_accuracy)"
      ]
    },
    {
      "cell_type": "code",
      "execution_count": null,
      "metadata": {
        "id": "MXZfcdtTDcy2"
      },
      "outputs": [],
      "source": [
        "model.summary()"
      ]
    },
    {
      "cell_type": "code",
      "execution_count": null,
      "metadata": {
        "id": "Hd9dVtdUDpTq"
      },
      "outputs": [],
      "source": [
        "model.save(\"MobileNet_notTuned\")"
      ]
    },
    {
      "cell_type": "markdown",
      "metadata": {
        "id": "uCwKzYe_e1hx"
      },
      "source": [
        "##### Fine Tuning"
      ]
    },
    {
      "cell_type": "code",
      "execution_count": null,
      "metadata": {
        "id": "6sNm897UBo7b"
      },
      "outputs": [],
      "source": [
        "ft_model = tfk.models.load_model('MobileNet_notTuned')\n",
        "ft_model.summary()"
      ]
    },
    {
      "cell_type": "code",
      "execution_count": null,
      "metadata": {
        "id": "7Jr87wTyG7xT"
      },
      "outputs": [],
      "source": [
        "len(ft_model.layers)"
      ]
    },
    {
      "cell_type": "code",
      "execution_count": null,
      "metadata": {
        "id": "xo9V_QrB3hTm"
      },
      "outputs": [],
      "source": [
        "n_array=[]\n",
        "accuracy=[]\n",
        "for k in range(20,100,30):\n",
        "  #finetuning\n",
        "  ft_model.get_layer('mobilenetv2_1.00_96').trainable = True\n",
        "  # Freeze first N layers, e.g., until 59 one\n",
        "  N = k\n",
        "\n",
        "  for i, layer in enumerate(ft_model.get_layer('mobilenetv2_1.00_96').layers[:N]):\n",
        "    layer.trainable=False\n",
        "  ft_model.compile(loss=tfk.losses.BinaryCrossentropy(), optimizer=tfk.optimizers.Adam(), metrics='accuracy')\n",
        "\n",
        "  ft_history = ft_model.fit(\n",
        "    # x = preprocess_input(X_train*255), # We need to apply the preprocessing thought for the MobileNetV2 network\n",
        "    x = preprocess_input(X_train),\n",
        "    y = y_train,\n",
        "    batch_size = 16,\n",
        "    epochs = 200,\n",
        "    # validation_data = (preprocess_input(X_val*255), y_val), # We need to apply the preprocessing thought for the MobileNetV2 network\n",
        "    validation_data = (preprocess_input(X_val), y_val), # We need to apply the preprocessing thought for the MobileNetV2 network\n",
        "    shuffle=True,\n",
        "    callbacks = callbacks\n",
        "  ).history\n",
        "\n",
        "  accuracy.append(ft_model.evaluate(preprocess_input(X_test),y_test,verbose=0)[-1])\n",
        "  n_array.append(k)\n",
        "\n"
      ]
    },
    {
      "cell_type": "code",
      "execution_count": null,
      "metadata": {
        "id": "zLaViCFkF_4a"
      },
      "outputs": [],
      "source": [
        "print(accuracy)\n",
        "print(n_accuracy)"
      ]
    },
    {
      "cell_type": "code",
      "execution_count": null,
      "metadata": {
        "id": "6ni3pL2eBsGV"
      },
      "outputs": [],
      "source": [
        "#finetuning\n",
        "ft_model.get_layer('mobilenetv2_1.00_96').trainable = True\n",
        "for i, layer in enumerate(ft_model.get_layer('mobilenetv2_1.00_96').layers):\n",
        "   print(i, layer.name, layer.trainable)"
      ]
    },
    {
      "cell_type": "code",
      "execution_count": null,
      "metadata": {
        "id": "hFLGwPReB3SB"
      },
      "outputs": [],
      "source": [
        "# Freeze first N layers, e.g., until 59 one\n",
        "N = 30\n",
        "\n",
        "for i, layer in enumerate(ft_model.get_layer('mobilenetv2_1.00_96').layers[:N]):\n",
        "  layer.trainable=False\n",
        "for i, layer in enumerate(ft_model.get_layer('mobilenetv2_1.00_96').layers):\n",
        "   print(i, layer.name, layer.trainable)\n",
        "ft_model.summary()"
      ]
    },
    {
      "cell_type": "code",
      "execution_count": null,
      "metadata": {
        "id": "lsvrK85_CE2I"
      },
      "outputs": [],
      "source": [
        "# Compile the model\n",
        "ft_model.compile(loss=tfk.losses.BinaryCrossentropy(), optimizer=tfk.optimizers.Adam(), metrics='accuracy')"
      ]
    },
    {
      "cell_type": "code",
      "execution_count": null,
      "metadata": {
        "id": "T3aSuiFLCHKr"
      },
      "outputs": [],
      "source": [
        "# Fine-tune the model\n",
        "ft_history = ft_model.fit(\n",
        "    # x = preprocess_input(X_train*255), # We need to apply the preprocessing thought for the MobileNetV2 network\n",
        "    x = preprocess_input(X_train),\n",
        "    y = y_train,\n",
        "    batch_size = 16,\n",
        "    epochs = 200,\n",
        "    # validation_data = (preprocess_input(X_val*255), y_val), # We need to apply the preprocessing thought for the MobileNetV2 network\n",
        "    validation_data = (preprocess_input(X_val), y_val), # We need to apply the preprocessing thought for the MobileNetV2 network\n",
        "    shuffle=True,\n",
        "    callbacks = callbacks\n",
        ").history"
      ]
    },
    {
      "cell_type": "code",
      "execution_count": null,
      "metadata": {
        "id": "yvaj_UbDnew1"
      },
      "outputs": [],
      "source": [
        "# Plot the training\n",
        "\n",
        "plt.figure(figsize=(15,5))\n",
        "plt.plot(ft_history['accuracy'], alpha=.3, color='#ff7f0e', linestyle='--')\n",
        "plt.plot(ft_history['val_accuracy'], label='FineTunedModel', alpha=.8, color='#ff7f0e')\n",
        "plt.legend(loc='upper left')\n",
        "plt.title('Accuracy')\n",
        "plt.grid(alpha=.3)\n",
        "\n",
        "plt.show()"
      ]
    },
    {
      "cell_type": "code",
      "execution_count": null,
      "metadata": {
        "id": "UOwwDKIK1PIn"
      },
      "outputs": [],
      "source": [
        "# Evaluate the model on the test set\n",
        "# test_accuracy = ft_model.evaluate(preprocess_input(X_test),y_test,verbose=0)[-1]\n",
        "test_accuracy = ft_model.evaluate(preprocess_input(X_test),y_test,verbose=0)[-1]\n",
        "print('Test set accuracy %.4f' % test_accuracy)"
      ]
    },
    {
      "cell_type": "code",
      "execution_count": null,
      "metadata": {
        "id": "8ea5VHC2JCEz"
      },
      "outputs": [],
      "source": [
        "ft_model.load_weights('CustomModel.weights.hdf5')"
      ]
    },
    {
      "cell_type": "code",
      "execution_count": null,
      "metadata": {
        "id": "kq2t1SRSYvAG"
      },
      "outputs": [],
      "source": [
        "ft_model.save('FineTunedMobilenet_v4_withCallbacks_20Freezed')\n",
        "del ft_model"
      ]
    },
    {
      "cell_type": "markdown",
      "metadata": {
        "id": "9D7IqmYIfMPE"
      },
      "source": [
        "### MobileVnet with Data Augmentation"
      ]
    },
    {
      "cell_type": "code",
      "execution_count": null,
      "metadata": {
        "id": "1zS3H5vxfp40"
      },
      "outputs": [],
      "source": [
        "# MobileNetV2 model  TRANSFER LEARNING START\n",
        "mobile = tfk.applications.MobileNetV2(\n",
        "    input_shape=(96, 96, 3),\n",
        "    include_top=False,\n",
        "    weights=\"imagenet\",\n",
        "    pooling='avg',\n",
        ")\n",
        "\n",
        "# Display the model architecture with input shapes\n",
        "tfk.utils.plot_model(mobile, show_shapes=True)"
      ]
    },
    {
      "cell_type": "code",
      "execution_count": null,
      "metadata": {
        "id": "1FSzxWtEfp41"
      },
      "outputs": [],
      "source": [
        "\n",
        "mobile.trainable = False\n",
        "\n",
        "preprocessing = tf.keras.Sequential([\n",
        "  tfkl.RandomRotation(0.2),\n",
        "  # tfkl.RandomFlip(\"horizontal\"),\n",
        "  # tfkl.RandomTranslation(0.2,0.2),\n",
        "], name='preprocessing')\n",
        "\n",
        "# Build the neural network layer by layer\n",
        "input_layer = tfkl.Input(shape=input_shape, name='Input')\n",
        "\n",
        "inputs = preprocessing(input_layer)\n",
        "\n",
        "# Connect MobileNetV2 to the input\n",
        "x = mobile(inputs)\n",
        "\n",
        "# Add a Dense layer with 2 units and sigmoid activation as the classifier\n",
        "outputs = tfkl.Dense(1, activation='sigmoid')(x)\n",
        "\n",
        "# Create a Model connecting input and output\n",
        "model = tfk.Model(inputs=inputs, outputs=outputs, name='model')\n",
        "\n",
        "# Compile the model with Categorical Cross-Entropy loss and Adam optimizer\n",
        "model.compile(loss=tfk.losses.BinaryCrossentropy(), optimizer=tfk.optimizers.Adam(), metrics=['accuracy'])\n",
        "\n",
        "# Display model summary\n",
        "model.summary()"
      ]
    },
    {
      "cell_type": "code",
      "execution_count": null,
      "metadata": {
        "id": "hz81_e2Mfp42"
      },
      "outputs": [],
      "source": [
        "history = model.fit(\n",
        "    x = preprocess_input(X_train), # We need to apply the preprocessing thought for the MobileNetV2 network\n",
        "    y = y_train,\n",
        "    batch_size = 16,\n",
        "    epochs = 200,\n",
        "    validation_data = (preprocess_input(X_val), y_val), # We need to apply the preprocessing thought for the MobileNetV2 network\n",
        "    callbacks = callbacks,\n",
        "    shuffle=True\n",
        ").history"
      ]
    },
    {
      "cell_type": "code",
      "execution_count": null,
      "metadata": {
        "id": "0Fwcp_YDhirt"
      },
      "outputs": [],
      "source": [
        "# Plot the training\n",
        "\n",
        "plt.figure(figsize=(15,5))\n",
        "plt.plot(history['accuracy'], alpha=.3, color='#ff7f0e', linestyle='--')\n",
        "plt.plot(history['val_accuracy'], label='MobileVnet_withAugmentation', alpha=.8, color='#ff7f0e')\n",
        "plt.legend(loc='upper left')\n",
        "plt.title('Accuracy')\n",
        "plt.grid(alpha=.3)\n",
        "\n",
        "plt.show()"
      ]
    },
    {
      "cell_type": "code",
      "execution_count": null,
      "metadata": {
        "id": "wCWxWnAOqnaa"
      },
      "outputs": [],
      "source": [
        "# Evaluate the model on the test set\n",
        "# test_accuracy = ft_model.evaluate(preprocess_input(X_test),y_test,verbose=0)[-1]\n",
        "test_accuracy = model.evaluate(preprocess_input(X_test),y_test,verbose=0)[-1]\n",
        "print('Test set accuracy %.4f' % test_accuracy)"
      ]
    },
    {
      "cell_type": "code",
      "execution_count": null,
      "metadata": {
        "id": "AoMiH0nCfp43"
      },
      "outputs": [],
      "source": [
        "model.save('MobileVnet_withCallbacks_notTuned_DataAugmentation')"
      ]
    },
    {
      "cell_type": "code",
      "execution_count": null,
      "metadata": {
        "id": "fKtYFmZDfp44"
      },
      "outputs": [],
      "source": [
        "ft_model = tfk.models.load_model('FineTunedMobilevnet_v3_withCallbacks_andShuffle')\n",
        "ft_model.summary()"
      ]
    },
    {
      "cell_type": "markdown",
      "metadata": {
        "id": "re9bA3hgfp45"
      },
      "source": [
        "#### Fine Tuning"
      ]
    },
    {
      "cell_type": "code",
      "execution_count": null,
      "metadata": {
        "id": "CZKC5k7krbAG"
      },
      "outputs": [],
      "source": [
        "ft_model=model"
      ]
    },
    {
      "cell_type": "code",
      "execution_count": null,
      "metadata": {
        "id": "B_as1ep1fp46"
      },
      "outputs": [],
      "source": [
        "#finetuning\n",
        "ft_model.get_layer('mobilenetv2_1.00_96').trainable = True\n",
        "for i, layer in enumerate(ft_model.get_layer('mobilenetv2_1.00_96').layers):\n",
        "   print(i, layer.name, layer.trainable)"
      ]
    },
    {
      "cell_type": "code",
      "execution_count": null,
      "metadata": {
        "id": "I-RoiQksfp47"
      },
      "outputs": [],
      "source": [
        "# Freeze first N layers, e.g., until 59 one\n",
        "N = 30\n",
        "# N=85\n",
        "for i, layer in enumerate(ft_model.get_layer('mobilenetv2_1.00_96').layers[:N]):\n",
        "  layer.trainable=False\n",
        "for i, layer in enumerate(ft_model.get_layer('mobilenetv2_1.00_96').layers):\n",
        "   print(i, layer.name, layer.trainable)\n",
        "ft_model.summary()"
      ]
    },
    {
      "cell_type": "code",
      "execution_count": null,
      "metadata": {
        "id": "Yijf5mHGfp48"
      },
      "outputs": [],
      "source": [
        "# Compile the model\n",
        "ft_model.compile(loss=tfk.losses.BinaryCrossentropy(), optimizer=tfk.optimizers.Adam(1e-5), metrics='accuracy')"
      ]
    },
    {
      "cell_type": "code",
      "execution_count": null,
      "metadata": {
        "id": "uMbkm_ogfp49"
      },
      "outputs": [],
      "source": [
        "# Fine-tune the model\n",
        "ft_history = ft_model.fit(\n",
        "    # x = preprocess_input(X_train*255), # We need to apply the preprocessing thought for the MobileNetV2 network\n",
        "    x = preprocess_input(X_train),\n",
        "    y = y_train,\n",
        "    batch_size = 16,\n",
        "    epochs = 200,\n",
        "    # validation_data = (preprocess_input(X_val*255), y_val), # We need to apply the preprocessing thought for the MobileNetV2 network\n",
        "    validation_data = (preprocess_input(X_val), y_val), # We need to apply the preprocessing thought for the MobileNetV2 network\n",
        "    shuffle=True, #added to minimize overfitting\n",
        "    callbacks = callbacks\n",
        ").history"
      ]
    },
    {
      "cell_type": "code",
      "execution_count": null,
      "metadata": {
        "id": "1U0RNFMS6it_"
      },
      "outputs": [],
      "source": [
        "# ft_model.load_weights('CustomModel.weights.hdf5') #Loading weights saved in the ModelCheckpoint"
      ]
    },
    {
      "cell_type": "code",
      "execution_count": null,
      "metadata": {
        "id": "hB7w5sl0fp4-"
      },
      "outputs": [],
      "source": [
        "# Plot the training\n",
        "\n",
        "plt.figure(figsize=(15,5))\n",
        "plt.plot(ft_history['accuracy'], alpha=.3, color='#ff7f0e', linestyle='--')\n",
        "plt.plot(ft_history['val_accuracy'], label='FineTunedModel', alpha=.8, color='#ff7f0e')\n",
        "plt.legend(loc='upper left')\n",
        "plt.title('Accuracy')\n",
        "plt.grid(alpha=.3)\n",
        "\n",
        "plt.show()"
      ]
    },
    {
      "cell_type": "code",
      "execution_count": null,
      "metadata": {
        "id": "joaTLdB6fp5A"
      },
      "outputs": [],
      "source": [
        "# Evaluate the model on the test set\n",
        "# test_accuracy = ft_model.evaluate(preprocess_input(X_test),y_test,verbose=0)[-1]\n",
        "test_accuracy = ft_model.evaluate(preprocess_input(X_test),y_test,verbose=0)[-1]\n",
        "print('Test set accuracy %.4f' % test_accuracy)"
      ]
    },
    {
      "cell_type": "code",
      "execution_count": null,
      "metadata": {
        "id": "wvosFP5ifp5B"
      },
      "outputs": [],
      "source": [
        "ft_model.save('FineTunedMobilevnet_v3_withCallbacks_andShuffle_for30layersFreezed_WithRandomRotation')\n",
        "del ft_model"
      ]
    },
    {
      "cell_type": "markdown",
      "metadata": {
        "id": "ezzs0rJlgg9K"
      },
      "source": [
        "#### MobileNetv3"
      ]
    },
    {
      "cell_type": "code",
      "execution_count": null,
      "metadata": {
        "id": "36wfH4H7h_7Y"
      },
      "outputs": [],
      "source": [
        "\n",
        "from tensorflow.keras.applications import MobileNetV3Small\n",
        "from tensorflow.keras.models import Sequential\n",
        "from tensorflow.keras.layers import Dense, GlobalAveragePooling2D\n",
        "\n",
        "# Create MobileNetV3Small base model\n",
        "base_model = MobileNetV3Small(weights='imagenet', include_top=False, input_shape=(96, 96, 3))\n",
        "\n",
        "# Freeze the initial layers\n",
        "for layer in base_model.layers[:100]:\n",
        "    layer.trainable = False\n",
        "\n",
        "# Create your own model\n",
        "model = Sequential()\n",
        "\n",
        "# Add the MobileNetV3Small base model\n",
        "model.add(base_model)\n",
        "\n",
        "# Add Global Average Pooling layer\n",
        "model.add(GlobalAveragePooling2D())\n",
        "\n",
        "# Add a fully connected layer with 256 hidden units\n",
        "model.add(Dense(256, activation='relu'))\n",
        "\n",
        "# Add the output layer with 1 neuron and a sigmoid activation function for binary classification\n",
        "model.add(Dense(1, activation='sigmoid'))\n",
        "\n",
        "# Compile the model\n",
        "model.compile(optimizer='adam', loss='binary_crossentropy', metrics=['accuracy'])\n"
      ]
    },
    {
      "cell_type": "code",
      "execution_count": null,
      "metadata": {
        "id": "_FJ8kbONiFUo"
      },
      "outputs": [],
      "source": [
        "# Train the model\n",
        "history = model.fit(\n",
        "    x = X_train,\n",
        "    y = y_train,\n",
        "    batch_size = 32,\n",
        "    epochs = 100,\n",
        "    validation_data = (X_val, y_val),\n",
        "    callbacks = callbacks\n",
        ").history"
      ]
    },
    {
      "cell_type": "code",
      "execution_count": null,
      "metadata": {
        "id": "Kj8gRnK9jkIp"
      },
      "outputs": [],
      "source": [
        "# Evaluate the model on the test set\n",
        "# test_accuracy = ft_model.evaluate(preprocess_input(X_test),y_test,verbose=0)[-1]\n",
        "test_accuracy = model.evaluate(preprocess_input(X_test),y_test,verbose=0)[-1]\n",
        "print('Test set accuracy %.4f' % test_accuracy)"
      ]
    },
    {
      "cell_type": "code",
      "execution_count": null,
      "metadata": {
        "id": "BT6wyoXxbqHA"
      },
      "outputs": [],
      "source": [
        "# Plot the training\n",
        "\n",
        "plt.figure(figsize=(15,5))\n",
        "plt.plot(history['accuracy'], alpha=.3, color='#ff7f0e', linestyle='--')\n",
        "plt.plot(history['val_accuracy'], label='CNN', alpha=.8, color='#ff7f0e')\n",
        "plt.legend(loc='upper left')\n",
        "plt.title('Accuracy')\n",
        "plt.grid(alpha=.3)\n",
        "\n",
        "plt.show()"
      ]
    },
    {
      "cell_type": "markdown",
      "metadata": {
        "id": "EME8jmvKwLeA"
      },
      "source": [
        "### EfficientNet"
      ]
    },
    {
      "cell_type": "code",
      "execution_count": null,
      "metadata": {
        "colab": {
          "base_uri": "https://localhost:8080/"
        },
        "id": "-SDm2Y6kfWm7",
        "outputId": "32a94a92-f69a-438a-8aec-8debba541a08"
      },
      "outputs": [
        {
          "name": "stdout",
          "output_type": "stream",
          "text": [
            "Requirement already satisfied: efficientnet in /usr/local/lib/python3.10/dist-packages (1.1.1)\n",
            "Requirement already satisfied: keras-applications<=1.0.8,>=1.0.7 in /usr/local/lib/python3.10/dist-packages (from efficientnet) (1.0.8)\n",
            "Requirement already satisfied: scikit-image in /usr/local/lib/python3.10/dist-packages (from efficientnet) (0.19.3)\n",
            "Requirement already satisfied: numpy>=1.9.1 in /usr/local/lib/python3.10/dist-packages (from keras-applications<=1.0.8,>=1.0.7->efficientnet) (1.23.5)\n",
            "Requirement already satisfied: h5py in /usr/local/lib/python3.10/dist-packages (from keras-applications<=1.0.8,>=1.0.7->efficientnet) (3.9.0)\n",
            "Requirement already satisfied: scipy>=1.4.1 in /usr/local/lib/python3.10/dist-packages (from scikit-image->efficientnet) (1.11.3)\n",
            "Requirement already satisfied: networkx>=2.2 in /usr/local/lib/python3.10/dist-packages (from scikit-image->efficientnet) (3.2.1)\n",
            "Requirement already satisfied: pillow!=7.1.0,!=7.1.1,!=8.3.0,>=6.1.0 in /usr/local/lib/python3.10/dist-packages (from scikit-image->efficientnet) (9.4.0)\n",
            "Requirement already satisfied: imageio>=2.4.1 in /usr/local/lib/python3.10/dist-packages (from scikit-image->efficientnet) (2.31.6)\n",
            "Requirement already satisfied: tifffile>=2019.7.26 in /usr/local/lib/python3.10/dist-packages (from scikit-image->efficientnet) (2023.9.26)\n",
            "Requirement already satisfied: PyWavelets>=1.1.1 in /usr/local/lib/python3.10/dist-packages (from scikit-image->efficientnet) (1.4.1)\n",
            "Requirement already satisfied: packaging>=20.0 in /usr/local/lib/python3.10/dist-packages (from scikit-image->efficientnet) (23.2)\n"
          ]
        }
      ],
      "source": [
        "pip install efficientnet"
      ]
    },
    {
      "cell_type": "code",
      "execution_count": null,
      "metadata": {
        "id": "FVx8qm9ho-Uf"
      },
      "outputs": [],
      "source": [
        "from tensorflow.keras.models import Sequential\n",
        "from tensorflow.keras import layers\n",
        "\n",
        "img_augmentation = Sequential(\n",
        "    [\n",
        "        layers.RandomRotation(factor=0.15),\n",
        "        layers.RandomTranslation(height_factor=0.1, width_factor=0.1),\n",
        "        layers.RandomFlip(\"vertical\"),\n",
        "        # layers.RandomContrast(factor=0.1),\n",
        "    ],\n",
        "    name=\"img_augmentation\",\n",
        ")"
      ]
    },
    {
      "cell_type": "code",
      "execution_count": null,
      "metadata": {
        "colab": {
          "base_uri": "https://localhost:8080/"
        },
        "id": "Vjq-Np8Ckehj",
        "outputId": "f19ff903-43bc-47ce-8de6-bba5c79c9bde"
      },
      "outputs": [
        {
          "name": "stdout",
          "output_type": "stream",
          "text": [
            "Model: \"EfficientNetB1\"\n",
            "__________________________________________________________________________________________________\n",
            " Layer (type)                Output Shape                 Param #   Connected to                  \n",
            "==================================================================================================\n",
            " input_3 (InputLayer)        [(None, 96, 96, 3)]          0         []                            \n",
            "                                                                                                  \n",
            " rescaling_4 (Rescaling)     (None, 96, 96, 3)            0         ['input_3[0][0]']             \n",
            "                                                                                                  \n",
            " normalization_2 (Normaliza  (None, 96, 96, 3)            7         ['rescaling_4[0][0]']         \n",
            " tion)                                                                                            \n",
            "                                                                                                  \n",
            " rescaling_5 (Rescaling)     (None, 96, 96, 3)            0         ['normalization_2[0][0]']     \n",
            "                                                                                                  \n",
            " stem_conv_pad (ZeroPadding  (None, 97, 97, 3)            0         ['rescaling_5[0][0]']         \n",
            " 2D)                                                                                              \n",
            "                                                                                                  \n",
            " stem_conv (Conv2D)          (None, 48, 48, 32)           864       ['stem_conv_pad[0][0]']       \n",
            "                                                                                                  \n",
            " stem_bn (BatchNormalizatio  (None, 48, 48, 32)           128       ['stem_conv[0][0]']           \n",
            " n)                                                                                               \n",
            "                                                                                                  \n",
            " stem_activation (Activatio  (None, 48, 48, 32)           0         ['stem_bn[0][0]']             \n",
            " n)                                                                                               \n",
            "                                                                                                  \n",
            " block1a_dwconv (DepthwiseC  (None, 48, 48, 32)           288       ['stem_activation[0][0]']     \n",
            " onv2D)                                                                                           \n",
            "                                                                                                  \n",
            " block1a_bn (BatchNormaliza  (None, 48, 48, 32)           128       ['block1a_dwconv[0][0]']      \n",
            " tion)                                                                                            \n",
            "                                                                                                  \n",
            " block1a_activation (Activa  (None, 48, 48, 32)           0         ['block1a_bn[0][0]']          \n",
            " tion)                                                                                            \n",
            "                                                                                                  \n",
            " block1a_se_squeeze (Global  (None, 32)                   0         ['block1a_activation[0][0]']  \n",
            " AveragePooling2D)                                                                                \n",
            "                                                                                                  \n",
            " block1a_se_reshape (Reshap  (None, 1, 1, 32)             0         ['block1a_se_squeeze[0][0]']  \n",
            " e)                                                                                               \n",
            "                                                                                                  \n",
            " block1a_se_reduce (Conv2D)  (None, 1, 1, 8)              264       ['block1a_se_reshape[0][0]']  \n",
            "                                                                                                  \n",
            " block1a_se_expand (Conv2D)  (None, 1, 1, 32)             288       ['block1a_se_reduce[0][0]']   \n",
            "                                                                                                  \n",
            " block1a_se_excite (Multipl  (None, 48, 48, 32)           0         ['block1a_activation[0][0]',  \n",
            " y)                                                                  'block1a_se_expand[0][0]']   \n",
            "                                                                                                  \n",
            " block1a_project_conv (Conv  (None, 48, 48, 16)           512       ['block1a_se_excite[0][0]']   \n",
            " 2D)                                                                                              \n",
            "                                                                                                  \n",
            " block1a_project_bn (BatchN  (None, 48, 48, 16)           64        ['block1a_project_conv[0][0]']\n",
            " ormalization)                                                                                    \n",
            "                                                                                                  \n",
            " block1b_dwconv (DepthwiseC  (None, 48, 48, 16)           144       ['block1a_project_bn[0][0]']  \n",
            " onv2D)                                                                                           \n",
            "                                                                                                  \n",
            " block1b_bn (BatchNormaliza  (None, 48, 48, 16)           64        ['block1b_dwconv[0][0]']      \n",
            " tion)                                                                                            \n",
            "                                                                                                  \n",
            " block1b_activation (Activa  (None, 48, 48, 16)           0         ['block1b_bn[0][0]']          \n",
            " tion)                                                                                            \n",
            "                                                                                                  \n",
            " block1b_se_squeeze (Global  (None, 16)                   0         ['block1b_activation[0][0]']  \n",
            " AveragePooling2D)                                                                                \n",
            "                                                                                                  \n",
            " block1b_se_reshape (Reshap  (None, 1, 1, 16)             0         ['block1b_se_squeeze[0][0]']  \n",
            " e)                                                                                               \n",
            "                                                                                                  \n",
            " block1b_se_reduce (Conv2D)  (None, 1, 1, 4)              68        ['block1b_se_reshape[0][0]']  \n",
            "                                                                                                  \n",
            " block1b_se_expand (Conv2D)  (None, 1, 1, 16)             80        ['block1b_se_reduce[0][0]']   \n",
            "                                                                                                  \n",
            " block1b_se_excite (Multipl  (None, 48, 48, 16)           0         ['block1b_activation[0][0]',  \n",
            " y)                                                                  'block1b_se_expand[0][0]']   \n",
            "                                                                                                  \n",
            " block1b_project_conv (Conv  (None, 48, 48, 16)           256       ['block1b_se_excite[0][0]']   \n",
            " 2D)                                                                                              \n",
            "                                                                                                  \n",
            " block1b_project_bn (BatchN  (None, 48, 48, 16)           64        ['block1b_project_conv[0][0]']\n",
            " ormalization)                                                                                    \n",
            "                                                                                                  \n",
            " block1b_drop (Dropout)      (None, 48, 48, 16)           0         ['block1b_project_bn[0][0]']  \n",
            "                                                                                                  \n",
            " block1b_add (Add)           (None, 48, 48, 16)           0         ['block1b_drop[0][0]',        \n",
            "                                                                     'block1a_project_bn[0][0]']  \n",
            "                                                                                                  \n",
            " block2a_expand_conv (Conv2  (None, 48, 48, 96)           1536      ['block1b_add[0][0]']         \n",
            " D)                                                                                               \n",
            "                                                                                                  \n",
            " block2a_expand_bn (BatchNo  (None, 48, 48, 96)           384       ['block2a_expand_conv[0][0]'] \n",
            " rmalization)                                                                                     \n",
            "                                                                                                  \n",
            " block2a_expand_activation   (None, 48, 48, 96)           0         ['block2a_expand_bn[0][0]']   \n",
            " (Activation)                                                                                     \n",
            "                                                                                                  \n",
            " block2a_dwconv_pad (ZeroPa  (None, 49, 49, 96)           0         ['block2a_expand_activation[0]\n",
            " dding2D)                                                           [0]']                         \n",
            "                                                                                                  \n",
            " block2a_dwconv (DepthwiseC  (None, 24, 24, 96)           864       ['block2a_dwconv_pad[0][0]']  \n",
            " onv2D)                                                                                           \n",
            "                                                                                                  \n",
            " block2a_bn (BatchNormaliza  (None, 24, 24, 96)           384       ['block2a_dwconv[0][0]']      \n",
            " tion)                                                                                            \n",
            "                                                                                                  \n",
            " block2a_activation (Activa  (None, 24, 24, 96)           0         ['block2a_bn[0][0]']          \n",
            " tion)                                                                                            \n",
            "                                                                                                  \n",
            " block2a_se_squeeze (Global  (None, 96)                   0         ['block2a_activation[0][0]']  \n",
            " AveragePooling2D)                                                                                \n",
            "                                                                                                  \n",
            " block2a_se_reshape (Reshap  (None, 1, 1, 96)             0         ['block2a_se_squeeze[0][0]']  \n",
            " e)                                                                                               \n",
            "                                                                                                  \n",
            " block2a_se_reduce (Conv2D)  (None, 1, 1, 4)              388       ['block2a_se_reshape[0][0]']  \n",
            "                                                                                                  \n",
            " block2a_se_expand (Conv2D)  (None, 1, 1, 96)             480       ['block2a_se_reduce[0][0]']   \n",
            "                                                                                                  \n",
            " block2a_se_excite (Multipl  (None, 24, 24, 96)           0         ['block2a_activation[0][0]',  \n",
            " y)                                                                  'block2a_se_expand[0][0]']   \n",
            "                                                                                                  \n",
            " block2a_project_conv (Conv  (None, 24, 24, 24)           2304      ['block2a_se_excite[0][0]']   \n",
            " 2D)                                                                                              \n",
            "                                                                                                  \n",
            " block2a_project_bn (BatchN  (None, 24, 24, 24)           96        ['block2a_project_conv[0][0]']\n",
            " ormalization)                                                                                    \n",
            "                                                                                                  \n",
            " block2b_expand_conv (Conv2  (None, 24, 24, 144)          3456      ['block2a_project_bn[0][0]']  \n",
            " D)                                                                                               \n",
            "                                                                                                  \n",
            " block2b_expand_bn (BatchNo  (None, 24, 24, 144)          576       ['block2b_expand_conv[0][0]'] \n",
            " rmalization)                                                                                     \n",
            "                                                                                                  \n",
            " block2b_expand_activation   (None, 24, 24, 144)          0         ['block2b_expand_bn[0][0]']   \n",
            " (Activation)                                                                                     \n",
            "                                                                                                  \n",
            " block2b_dwconv (DepthwiseC  (None, 24, 24, 144)          1296      ['block2b_expand_activation[0]\n",
            " onv2D)                                                             [0]']                         \n",
            "                                                                                                  \n",
            " block2b_bn (BatchNormaliza  (None, 24, 24, 144)          576       ['block2b_dwconv[0][0]']      \n",
            " tion)                                                                                            \n",
            "                                                                                                  \n",
            " block2b_activation (Activa  (None, 24, 24, 144)          0         ['block2b_bn[0][0]']          \n",
            " tion)                                                                                            \n",
            "                                                                                                  \n",
            " block2b_se_squeeze (Global  (None, 144)                  0         ['block2b_activation[0][0]']  \n",
            " AveragePooling2D)                                                                                \n",
            "                                                                                                  \n",
            " block2b_se_reshape (Reshap  (None, 1, 1, 144)            0         ['block2b_se_squeeze[0][0]']  \n",
            " e)                                                                                               \n",
            "                                                                                                  \n",
            " block2b_se_reduce (Conv2D)  (None, 1, 1, 6)              870       ['block2b_se_reshape[0][0]']  \n",
            "                                                                                                  \n",
            " block2b_se_expand (Conv2D)  (None, 1, 1, 144)            1008      ['block2b_se_reduce[0][0]']   \n",
            "                                                                                                  \n",
            " block2b_se_excite (Multipl  (None, 24, 24, 144)          0         ['block2b_activation[0][0]',  \n",
            " y)                                                                  'block2b_se_expand[0][0]']   \n",
            "                                                                                                  \n",
            " block2b_project_conv (Conv  (None, 24, 24, 24)           3456      ['block2b_se_excite[0][0]']   \n",
            " 2D)                                                                                              \n",
            "                                                                                                  \n",
            " block2b_project_bn (BatchN  (None, 24, 24, 24)           96        ['block2b_project_conv[0][0]']\n",
            " ormalization)                                                                                    \n",
            "                                                                                                  \n",
            " block2b_drop (Dropout)      (None, 24, 24, 24)           0         ['block2b_project_bn[0][0]']  \n",
            "                                                                                                  \n",
            " block2b_add (Add)           (None, 24, 24, 24)           0         ['block2b_drop[0][0]',        \n",
            "                                                                     'block2a_project_bn[0][0]']  \n",
            "                                                                                                  \n",
            " block2c_expand_conv (Conv2  (None, 24, 24, 144)          3456      ['block2b_add[0][0]']         \n",
            " D)                                                                                               \n",
            "                                                                                                  \n",
            " block2c_expand_bn (BatchNo  (None, 24, 24, 144)          576       ['block2c_expand_conv[0][0]'] \n",
            " rmalization)                                                                                     \n",
            "                                                                                                  \n",
            " block2c_expand_activation   (None, 24, 24, 144)          0         ['block2c_expand_bn[0][0]']   \n",
            " (Activation)                                                                                     \n",
            "                                                                                                  \n",
            " block2c_dwconv (DepthwiseC  (None, 24, 24, 144)          1296      ['block2c_expand_activation[0]\n",
            " onv2D)                                                             [0]']                         \n",
            "                                                                                                  \n",
            " block2c_bn (BatchNormaliza  (None, 24, 24, 144)          576       ['block2c_dwconv[0][0]']      \n",
            " tion)                                                                                            \n",
            "                                                                                                  \n",
            " block2c_activation (Activa  (None, 24, 24, 144)          0         ['block2c_bn[0][0]']          \n",
            " tion)                                                                                            \n",
            "                                                                                                  \n",
            " block2c_se_squeeze (Global  (None, 144)                  0         ['block2c_activation[0][0]']  \n",
            " AveragePooling2D)                                                                                \n",
            "                                                                                                  \n",
            " block2c_se_reshape (Reshap  (None, 1, 1, 144)            0         ['block2c_se_squeeze[0][0]']  \n",
            " e)                                                                                               \n",
            "                                                                                                  \n",
            " block2c_se_reduce (Conv2D)  (None, 1, 1, 6)              870       ['block2c_se_reshape[0][0]']  \n",
            "                                                                                                  \n",
            " block2c_se_expand (Conv2D)  (None, 1, 1, 144)            1008      ['block2c_se_reduce[0][0]']   \n",
            "                                                                                                  \n",
            " block2c_se_excite (Multipl  (None, 24, 24, 144)          0         ['block2c_activation[0][0]',  \n",
            " y)                                                                  'block2c_se_expand[0][0]']   \n",
            "                                                                                                  \n",
            " block2c_project_conv (Conv  (None, 24, 24, 24)           3456      ['block2c_se_excite[0][0]']   \n",
            " 2D)                                                                                              \n",
            "                                                                                                  \n",
            " block2c_project_bn (BatchN  (None, 24, 24, 24)           96        ['block2c_project_conv[0][0]']\n",
            " ormalization)                                                                                    \n",
            "                                                                                                  \n",
            " block2c_drop (Dropout)      (None, 24, 24, 24)           0         ['block2c_project_bn[0][0]']  \n",
            "                                                                                                  \n",
            " block2c_add (Add)           (None, 24, 24, 24)           0         ['block2c_drop[0][0]',        \n",
            "                                                                     'block2b_add[0][0]']         \n",
            "                                                                                                  \n",
            " block3a_expand_conv (Conv2  (None, 24, 24, 144)          3456      ['block2c_add[0][0]']         \n",
            " D)                                                                                               \n",
            "                                                                                                  \n",
            " block3a_expand_bn (BatchNo  (None, 24, 24, 144)          576       ['block3a_expand_conv[0][0]'] \n",
            " rmalization)                                                                                     \n",
            "                                                                                                  \n",
            " block3a_expand_activation   (None, 24, 24, 144)          0         ['block3a_expand_bn[0][0]']   \n",
            " (Activation)                                                                                     \n",
            "                                                                                                  \n",
            " block3a_dwconv_pad (ZeroPa  (None, 27, 27, 144)          0         ['block3a_expand_activation[0]\n",
            " dding2D)                                                           [0]']                         \n",
            "                                                                                                  \n",
            " block3a_dwconv (DepthwiseC  (None, 12, 12, 144)          3600      ['block3a_dwconv_pad[0][0]']  \n",
            " onv2D)                                                                                           \n",
            "                                                                                                  \n",
            " block3a_bn (BatchNormaliza  (None, 12, 12, 144)          576       ['block3a_dwconv[0][0]']      \n",
            " tion)                                                                                            \n",
            "                                                                                                  \n",
            " block3a_activation (Activa  (None, 12, 12, 144)          0         ['block3a_bn[0][0]']          \n",
            " tion)                                                                                            \n",
            "                                                                                                  \n",
            " block3a_se_squeeze (Global  (None, 144)                  0         ['block3a_activation[0][0]']  \n",
            " AveragePooling2D)                                                                                \n",
            "                                                                                                  \n",
            " block3a_se_reshape (Reshap  (None, 1, 1, 144)            0         ['block3a_se_squeeze[0][0]']  \n",
            " e)                                                                                               \n",
            "                                                                                                  \n",
            " block3a_se_reduce (Conv2D)  (None, 1, 1, 6)              870       ['block3a_se_reshape[0][0]']  \n",
            "                                                                                                  \n",
            " block3a_se_expand (Conv2D)  (None, 1, 1, 144)            1008      ['block3a_se_reduce[0][0]']   \n",
            "                                                                                                  \n",
            " block3a_se_excite (Multipl  (None, 12, 12, 144)          0         ['block3a_activation[0][0]',  \n",
            " y)                                                                  'block3a_se_expand[0][0]']   \n",
            "                                                                                                  \n",
            " block3a_project_conv (Conv  (None, 12, 12, 40)           5760      ['block3a_se_excite[0][0]']   \n",
            " 2D)                                                                                              \n",
            "                                                                                                  \n",
            " block3a_project_bn (BatchN  (None, 12, 12, 40)           160       ['block3a_project_conv[0][0]']\n",
            " ormalization)                                                                                    \n",
            "                                                                                                  \n",
            " block3b_expand_conv (Conv2  (None, 12, 12, 240)          9600      ['block3a_project_bn[0][0]']  \n",
            " D)                                                                                               \n",
            "                                                                                                  \n",
            " block3b_expand_bn (BatchNo  (None, 12, 12, 240)          960       ['block3b_expand_conv[0][0]'] \n",
            " rmalization)                                                                                     \n",
            "                                                                                                  \n",
            " block3b_expand_activation   (None, 12, 12, 240)          0         ['block3b_expand_bn[0][0]']   \n",
            " (Activation)                                                                                     \n",
            "                                                                                                  \n",
            " block3b_dwconv (DepthwiseC  (None, 12, 12, 240)          6000      ['block3b_expand_activation[0]\n",
            " onv2D)                                                             [0]']                         \n",
            "                                                                                                  \n",
            " block3b_bn (BatchNormaliza  (None, 12, 12, 240)          960       ['block3b_dwconv[0][0]']      \n",
            " tion)                                                                                            \n",
            "                                                                                                  \n",
            " block3b_activation (Activa  (None, 12, 12, 240)          0         ['block3b_bn[0][0]']          \n",
            " tion)                                                                                            \n",
            "                                                                                                  \n",
            " block3b_se_squeeze (Global  (None, 240)                  0         ['block3b_activation[0][0]']  \n",
            " AveragePooling2D)                                                                                \n",
            "                                                                                                  \n",
            " block3b_se_reshape (Reshap  (None, 1, 1, 240)            0         ['block3b_se_squeeze[0][0]']  \n",
            " e)                                                                                               \n",
            "                                                                                                  \n",
            " block3b_se_reduce (Conv2D)  (None, 1, 1, 10)             2410      ['block3b_se_reshape[0][0]']  \n",
            "                                                                                                  \n",
            " block3b_se_expand (Conv2D)  (None, 1, 1, 240)            2640      ['block3b_se_reduce[0][0]']   \n",
            "                                                                                                  \n",
            " block3b_se_excite (Multipl  (None, 12, 12, 240)          0         ['block3b_activation[0][0]',  \n",
            " y)                                                                  'block3b_se_expand[0][0]']   \n",
            "                                                                                                  \n",
            " block3b_project_conv (Conv  (None, 12, 12, 40)           9600      ['block3b_se_excite[0][0]']   \n",
            " 2D)                                                                                              \n",
            "                                                                                                  \n",
            " block3b_project_bn (BatchN  (None, 12, 12, 40)           160       ['block3b_project_conv[0][0]']\n",
            " ormalization)                                                                                    \n",
            "                                                                                                  \n",
            " block3b_drop (Dropout)      (None, 12, 12, 40)           0         ['block3b_project_bn[0][0]']  \n",
            "                                                                                                  \n",
            " block3b_add (Add)           (None, 12, 12, 40)           0         ['block3b_drop[0][0]',        \n",
            "                                                                     'block3a_project_bn[0][0]']  \n",
            "                                                                                                  \n",
            " block3c_expand_conv (Conv2  (None, 12, 12, 240)          9600      ['block3b_add[0][0]']         \n",
            " D)                                                                                               \n",
            "                                                                                                  \n",
            " block3c_expand_bn (BatchNo  (None, 12, 12, 240)          960       ['block3c_expand_conv[0][0]'] \n",
            " rmalization)                                                                                     \n",
            "                                                                                                  \n",
            " block3c_expand_activation   (None, 12, 12, 240)          0         ['block3c_expand_bn[0][0]']   \n",
            " (Activation)                                                                                     \n",
            "                                                                                                  \n",
            " block3c_dwconv (DepthwiseC  (None, 12, 12, 240)          6000      ['block3c_expand_activation[0]\n",
            " onv2D)                                                             [0]']                         \n",
            "                                                                                                  \n",
            " block3c_bn (BatchNormaliza  (None, 12, 12, 240)          960       ['block3c_dwconv[0][0]']      \n",
            " tion)                                                                                            \n",
            "                                                                                                  \n",
            " block3c_activation (Activa  (None, 12, 12, 240)          0         ['block3c_bn[0][0]']          \n",
            " tion)                                                                                            \n",
            "                                                                                                  \n",
            " block3c_se_squeeze (Global  (None, 240)                  0         ['block3c_activation[0][0]']  \n",
            " AveragePooling2D)                                                                                \n",
            "                                                                                                  \n",
            " block3c_se_reshape (Reshap  (None, 1, 1, 240)            0         ['block3c_se_squeeze[0][0]']  \n",
            " e)                                                                                               \n",
            "                                                                                                  \n",
            " block3c_se_reduce (Conv2D)  (None, 1, 1, 10)             2410      ['block3c_se_reshape[0][0]']  \n",
            "                                                                                                  \n",
            " block3c_se_expand (Conv2D)  (None, 1, 1, 240)            2640      ['block3c_se_reduce[0][0]']   \n",
            "                                                                                                  \n",
            " block3c_se_excite (Multipl  (None, 12, 12, 240)          0         ['block3c_activation[0][0]',  \n",
            " y)                                                                  'block3c_se_expand[0][0]']   \n",
            "                                                                                                  \n",
            " block3c_project_conv (Conv  (None, 12, 12, 40)           9600      ['block3c_se_excite[0][0]']   \n",
            " 2D)                                                                                              \n",
            "                                                                                                  \n",
            " block3c_project_bn (BatchN  (None, 12, 12, 40)           160       ['block3c_project_conv[0][0]']\n",
            " ormalization)                                                                                    \n",
            "                                                                                                  \n",
            " block3c_drop (Dropout)      (None, 12, 12, 40)           0         ['block3c_project_bn[0][0]']  \n",
            "                                                                                                  \n",
            " block3c_add (Add)           (None, 12, 12, 40)           0         ['block3c_drop[0][0]',        \n",
            "                                                                     'block3b_add[0][0]']         \n",
            "                                                                                                  \n",
            " block4a_expand_conv (Conv2  (None, 12, 12, 240)          9600      ['block3c_add[0][0]']         \n",
            " D)                                                                                               \n",
            "                                                                                                  \n",
            " block4a_expand_bn (BatchNo  (None, 12, 12, 240)          960       ['block4a_expand_conv[0][0]'] \n",
            " rmalization)                                                                                     \n",
            "                                                                                                  \n",
            " block4a_expand_activation   (None, 12, 12, 240)          0         ['block4a_expand_bn[0][0]']   \n",
            " (Activation)                                                                                     \n",
            "                                                                                                  \n",
            " block4a_dwconv_pad (ZeroPa  (None, 13, 13, 240)          0         ['block4a_expand_activation[0]\n",
            " dding2D)                                                           [0]']                         \n",
            "                                                                                                  \n",
            " block4a_dwconv (DepthwiseC  (None, 6, 6, 240)            2160      ['block4a_dwconv_pad[0][0]']  \n",
            " onv2D)                                                                                           \n",
            "                                                                                                  \n",
            " block4a_bn (BatchNormaliza  (None, 6, 6, 240)            960       ['block4a_dwconv[0][0]']      \n",
            " tion)                                                                                            \n",
            "                                                                                                  \n",
            " block4a_activation (Activa  (None, 6, 6, 240)            0         ['block4a_bn[0][0]']          \n",
            " tion)                                                                                            \n",
            "                                                                                                  \n",
            " block4a_se_squeeze (Global  (None, 240)                  0         ['block4a_activation[0][0]']  \n",
            " AveragePooling2D)                                                                                \n",
            "                                                                                                  \n",
            " block4a_se_reshape (Reshap  (None, 1, 1, 240)            0         ['block4a_se_squeeze[0][0]']  \n",
            " e)                                                                                               \n",
            "                                                                                                  \n",
            " block4a_se_reduce (Conv2D)  (None, 1, 1, 10)             2410      ['block4a_se_reshape[0][0]']  \n",
            "                                                                                                  \n",
            " block4a_se_expand (Conv2D)  (None, 1, 1, 240)            2640      ['block4a_se_reduce[0][0]']   \n",
            "                                                                                                  \n",
            " block4a_se_excite (Multipl  (None, 6, 6, 240)            0         ['block4a_activation[0][0]',  \n",
            " y)                                                                  'block4a_se_expand[0][0]']   \n",
            "                                                                                                  \n",
            " block4a_project_conv (Conv  (None, 6, 6, 80)             19200     ['block4a_se_excite[0][0]']   \n",
            " 2D)                                                                                              \n",
            "                                                                                                  \n",
            " block4a_project_bn (BatchN  (None, 6, 6, 80)             320       ['block4a_project_conv[0][0]']\n",
            " ormalization)                                                                                    \n",
            "                                                                                                  \n",
            " block4b_expand_conv (Conv2  (None, 6, 6, 480)            38400     ['block4a_project_bn[0][0]']  \n",
            " D)                                                                                               \n",
            "                                                                                                  \n",
            " block4b_expand_bn (BatchNo  (None, 6, 6, 480)            1920      ['block4b_expand_conv[0][0]'] \n",
            " rmalization)                                                                                     \n",
            "                                                                                                  \n",
            " block4b_expand_activation   (None, 6, 6, 480)            0         ['block4b_expand_bn[0][0]']   \n",
            " (Activation)                                                                                     \n",
            "                                                                                                  \n",
            " block4b_dwconv (DepthwiseC  (None, 6, 6, 480)            4320      ['block4b_expand_activation[0]\n",
            " onv2D)                                                             [0]']                         \n",
            "                                                                                                  \n",
            " block4b_bn (BatchNormaliza  (None, 6, 6, 480)            1920      ['block4b_dwconv[0][0]']      \n",
            " tion)                                                                                            \n",
            "                                                                                                  \n",
            " block4b_activation (Activa  (None, 6, 6, 480)            0         ['block4b_bn[0][0]']          \n",
            " tion)                                                                                            \n",
            "                                                                                                  \n",
            " block4b_se_squeeze (Global  (None, 480)                  0         ['block4b_activation[0][0]']  \n",
            " AveragePooling2D)                                                                                \n",
            "                                                                                                  \n",
            " block4b_se_reshape (Reshap  (None, 1, 1, 480)            0         ['block4b_se_squeeze[0][0]']  \n",
            " e)                                                                                               \n",
            "                                                                                                  \n",
            " block4b_se_reduce (Conv2D)  (None, 1, 1, 20)             9620      ['block4b_se_reshape[0][0]']  \n",
            "                                                                                                  \n",
            " block4b_se_expand (Conv2D)  (None, 1, 1, 480)            10080     ['block4b_se_reduce[0][0]']   \n",
            "                                                                                                  \n",
            " block4b_se_excite (Multipl  (None, 6, 6, 480)            0         ['block4b_activation[0][0]',  \n",
            " y)                                                                  'block4b_se_expand[0][0]']   \n",
            "                                                                                                  \n",
            " block4b_project_conv (Conv  (None, 6, 6, 80)             38400     ['block4b_se_excite[0][0]']   \n",
            " 2D)                                                                                              \n",
            "                                                                                                  \n",
            " block4b_project_bn (BatchN  (None, 6, 6, 80)             320       ['block4b_project_conv[0][0]']\n",
            " ormalization)                                                                                    \n",
            "                                                                                                  \n",
            " block4b_drop (Dropout)      (None, 6, 6, 80)             0         ['block4b_project_bn[0][0]']  \n",
            "                                                                                                  \n",
            " block4b_add (Add)           (None, 6, 6, 80)             0         ['block4b_drop[0][0]',        \n",
            "                                                                     'block4a_project_bn[0][0]']  \n",
            "                                                                                                  \n",
            " block4c_expand_conv (Conv2  (None, 6, 6, 480)            38400     ['block4b_add[0][0]']         \n",
            " D)                                                                                               \n",
            "                                                                                                  \n",
            " block4c_expand_bn (BatchNo  (None, 6, 6, 480)            1920      ['block4c_expand_conv[0][0]'] \n",
            " rmalization)                                                                                     \n",
            "                                                                                                  \n",
            " block4c_expand_activation   (None, 6, 6, 480)            0         ['block4c_expand_bn[0][0]']   \n",
            " (Activation)                                                                                     \n",
            "                                                                                                  \n",
            " block4c_dwconv (DepthwiseC  (None, 6, 6, 480)            4320      ['block4c_expand_activation[0]\n",
            " onv2D)                                                             [0]']                         \n",
            "                                                                                                  \n",
            " block4c_bn (BatchNormaliza  (None, 6, 6, 480)            1920      ['block4c_dwconv[0][0]']      \n",
            " tion)                                                                                            \n",
            "                                                                                                  \n",
            " block4c_activation (Activa  (None, 6, 6, 480)            0         ['block4c_bn[0][0]']          \n",
            " tion)                                                                                            \n",
            "                                                                                                  \n",
            " block4c_se_squeeze (Global  (None, 480)                  0         ['block4c_activation[0][0]']  \n",
            " AveragePooling2D)                                                                                \n",
            "                                                                                                  \n",
            " block4c_se_reshape (Reshap  (None, 1, 1, 480)            0         ['block4c_se_squeeze[0][0]']  \n",
            " e)                                                                                               \n",
            "                                                                                                  \n",
            " block4c_se_reduce (Conv2D)  (None, 1, 1, 20)             9620      ['block4c_se_reshape[0][0]']  \n",
            "                                                                                                  \n",
            " block4c_se_expand (Conv2D)  (None, 1, 1, 480)            10080     ['block4c_se_reduce[0][0]']   \n",
            "                                                                                                  \n",
            " block4c_se_excite (Multipl  (None, 6, 6, 480)            0         ['block4c_activation[0][0]',  \n",
            " y)                                                                  'block4c_se_expand[0][0]']   \n",
            "                                                                                                  \n",
            " block4c_project_conv (Conv  (None, 6, 6, 80)             38400     ['block4c_se_excite[0][0]']   \n",
            " 2D)                                                                                              \n",
            "                                                                                                  \n",
            " block4c_project_bn (BatchN  (None, 6, 6, 80)             320       ['block4c_project_conv[0][0]']\n",
            " ormalization)                                                                                    \n",
            "                                                                                                  \n",
            " block4c_drop (Dropout)      (None, 6, 6, 80)             0         ['block4c_project_bn[0][0]']  \n",
            "                                                                                                  \n",
            " block4c_add (Add)           (None, 6, 6, 80)             0         ['block4c_drop[0][0]',        \n",
            "                                                                     'block4b_add[0][0]']         \n",
            "                                                                                                  \n",
            " block4d_expand_conv (Conv2  (None, 6, 6, 480)            38400     ['block4c_add[0][0]']         \n",
            " D)                                                                                               \n",
            "                                                                                                  \n",
            " block4d_expand_bn (BatchNo  (None, 6, 6, 480)            1920      ['block4d_expand_conv[0][0]'] \n",
            " rmalization)                                                                                     \n",
            "                                                                                                  \n",
            " block4d_expand_activation   (None, 6, 6, 480)            0         ['block4d_expand_bn[0][0]']   \n",
            " (Activation)                                                                                     \n",
            "                                                                                                  \n",
            " block4d_dwconv (DepthwiseC  (None, 6, 6, 480)            4320      ['block4d_expand_activation[0]\n",
            " onv2D)                                                             [0]']                         \n",
            "                                                                                                  \n",
            " block4d_bn (BatchNormaliza  (None, 6, 6, 480)            1920      ['block4d_dwconv[0][0]']      \n",
            " tion)                                                                                            \n",
            "                                                                                                  \n",
            " block4d_activation (Activa  (None, 6, 6, 480)            0         ['block4d_bn[0][0]']          \n",
            " tion)                                                                                            \n",
            "                                                                                                  \n",
            " block4d_se_squeeze (Global  (None, 480)                  0         ['block4d_activation[0][0]']  \n",
            " AveragePooling2D)                                                                                \n",
            "                                                                                                  \n",
            " block4d_se_reshape (Reshap  (None, 1, 1, 480)            0         ['block4d_se_squeeze[0][0]']  \n",
            " e)                                                                                               \n",
            "                                                                                                  \n",
            " block4d_se_reduce (Conv2D)  (None, 1, 1, 20)             9620      ['block4d_se_reshape[0][0]']  \n",
            "                                                                                                  \n",
            " block4d_se_expand (Conv2D)  (None, 1, 1, 480)            10080     ['block4d_se_reduce[0][0]']   \n",
            "                                                                                                  \n",
            " block4d_se_excite (Multipl  (None, 6, 6, 480)            0         ['block4d_activation[0][0]',  \n",
            " y)                                                                  'block4d_se_expand[0][0]']   \n",
            "                                                                                                  \n",
            " block4d_project_conv (Conv  (None, 6, 6, 80)             38400     ['block4d_se_excite[0][0]']   \n",
            " 2D)                                                                                              \n",
            "                                                                                                  \n",
            " block4d_project_bn (BatchN  (None, 6, 6, 80)             320       ['block4d_project_conv[0][0]']\n",
            " ormalization)                                                                                    \n",
            "                                                                                                  \n",
            " block4d_drop (Dropout)      (None, 6, 6, 80)             0         ['block4d_project_bn[0][0]']  \n",
            "                                                                                                  \n",
            " block4d_add (Add)           (None, 6, 6, 80)             0         ['block4d_drop[0][0]',        \n",
            "                                                                     'block4c_add[0][0]']         \n",
            "                                                                                                  \n",
            " block5a_expand_conv (Conv2  (None, 6, 6, 480)            38400     ['block4d_add[0][0]']         \n",
            " D)                                                                                               \n",
            "                                                                                                  \n",
            " block5a_expand_bn (BatchNo  (None, 6, 6, 480)            1920      ['block5a_expand_conv[0][0]'] \n",
            " rmalization)                                                                                     \n",
            "                                                                                                  \n",
            " block5a_expand_activation   (None, 6, 6, 480)            0         ['block5a_expand_bn[0][0]']   \n",
            " (Activation)                                                                                     \n",
            "                                                                                                  \n",
            " block5a_dwconv (DepthwiseC  (None, 6, 6, 480)            12000     ['block5a_expand_activation[0]\n",
            " onv2D)                                                             [0]']                         \n",
            "                                                                                                  \n",
            " block5a_bn (BatchNormaliza  (None, 6, 6, 480)            1920      ['block5a_dwconv[0][0]']      \n",
            " tion)                                                                                            \n",
            "                                                                                                  \n",
            " block5a_activation (Activa  (None, 6, 6, 480)            0         ['block5a_bn[0][0]']          \n",
            " tion)                                                                                            \n",
            "                                                                                                  \n",
            " block5a_se_squeeze (Global  (None, 480)                  0         ['block5a_activation[0][0]']  \n",
            " AveragePooling2D)                                                                                \n",
            "                                                                                                  \n",
            " block5a_se_reshape (Reshap  (None, 1, 1, 480)            0         ['block5a_se_squeeze[0][0]']  \n",
            " e)                                                                                               \n",
            "                                                                                                  \n",
            " block5a_se_reduce (Conv2D)  (None, 1, 1, 20)             9620      ['block5a_se_reshape[0][0]']  \n",
            "                                                                                                  \n",
            " block5a_se_expand (Conv2D)  (None, 1, 1, 480)            10080     ['block5a_se_reduce[0][0]']   \n",
            "                                                                                                  \n",
            " block5a_se_excite (Multipl  (None, 6, 6, 480)            0         ['block5a_activation[0][0]',  \n",
            " y)                                                                  'block5a_se_expand[0][0]']   \n",
            "                                                                                                  \n",
            " block5a_project_conv (Conv  (None, 6, 6, 112)            53760     ['block5a_se_excite[0][0]']   \n",
            " 2D)                                                                                              \n",
            "                                                                                                  \n",
            " block5a_project_bn (BatchN  (None, 6, 6, 112)            448       ['block5a_project_conv[0][0]']\n",
            " ormalization)                                                                                    \n",
            "                                                                                                  \n",
            " block5b_expand_conv (Conv2  (None, 6, 6, 672)            75264     ['block5a_project_bn[0][0]']  \n",
            " D)                                                                                               \n",
            "                                                                                                  \n",
            " block5b_expand_bn (BatchNo  (None, 6, 6, 672)            2688      ['block5b_expand_conv[0][0]'] \n",
            " rmalization)                                                                                     \n",
            "                                                                                                  \n",
            " block5b_expand_activation   (None, 6, 6, 672)            0         ['block5b_expand_bn[0][0]']   \n",
            " (Activation)                                                                                     \n",
            "                                                                                                  \n",
            " block5b_dwconv (DepthwiseC  (None, 6, 6, 672)            16800     ['block5b_expand_activation[0]\n",
            " onv2D)                                                             [0]']                         \n",
            "                                                                                                  \n",
            " block5b_bn (BatchNormaliza  (None, 6, 6, 672)            2688      ['block5b_dwconv[0][0]']      \n",
            " tion)                                                                                            \n",
            "                                                                                                  \n",
            " block5b_activation (Activa  (None, 6, 6, 672)            0         ['block5b_bn[0][0]']          \n",
            " tion)                                                                                            \n",
            "                                                                                                  \n",
            " block5b_se_squeeze (Global  (None, 672)                  0         ['block5b_activation[0][0]']  \n",
            " AveragePooling2D)                                                                                \n",
            "                                                                                                  \n",
            " block5b_se_reshape (Reshap  (None, 1, 1, 672)            0         ['block5b_se_squeeze[0][0]']  \n",
            " e)                                                                                               \n",
            "                                                                                                  \n",
            " block5b_se_reduce (Conv2D)  (None, 1, 1, 28)             18844     ['block5b_se_reshape[0][0]']  \n",
            "                                                                                                  \n",
            " block5b_se_expand (Conv2D)  (None, 1, 1, 672)            19488     ['block5b_se_reduce[0][0]']   \n",
            "                                                                                                  \n",
            " block5b_se_excite (Multipl  (None, 6, 6, 672)            0         ['block5b_activation[0][0]',  \n",
            " y)                                                                  'block5b_se_expand[0][0]']   \n",
            "                                                                                                  \n",
            " block5b_project_conv (Conv  (None, 6, 6, 112)            75264     ['block5b_se_excite[0][0]']   \n",
            " 2D)                                                                                              \n",
            "                                                                                                  \n",
            " block5b_project_bn (BatchN  (None, 6, 6, 112)            448       ['block5b_project_conv[0][0]']\n",
            " ormalization)                                                                                    \n",
            "                                                                                                  \n",
            " block5b_drop (Dropout)      (None, 6, 6, 112)            0         ['block5b_project_bn[0][0]']  \n",
            "                                                                                                  \n",
            " block5b_add (Add)           (None, 6, 6, 112)            0         ['block5b_drop[0][0]',        \n",
            "                                                                     'block5a_project_bn[0][0]']  \n",
            "                                                                                                  \n",
            " block5c_expand_conv (Conv2  (None, 6, 6, 672)            75264     ['block5b_add[0][0]']         \n",
            " D)                                                                                               \n",
            "                                                                                                  \n",
            " block5c_expand_bn (BatchNo  (None, 6, 6, 672)            2688      ['block5c_expand_conv[0][0]'] \n",
            " rmalization)                                                                                     \n",
            "                                                                                                  \n",
            " block5c_expand_activation   (None, 6, 6, 672)            0         ['block5c_expand_bn[0][0]']   \n",
            " (Activation)                                                                                     \n",
            "                                                                                                  \n",
            " block5c_dwconv (DepthwiseC  (None, 6, 6, 672)            16800     ['block5c_expand_activation[0]\n",
            " onv2D)                                                             [0]']                         \n",
            "                                                                                                  \n",
            " block5c_bn (BatchNormaliza  (None, 6, 6, 672)            2688      ['block5c_dwconv[0][0]']      \n",
            " tion)                                                                                            \n",
            "                                                                                                  \n",
            " block5c_activation (Activa  (None, 6, 6, 672)            0         ['block5c_bn[0][0]']          \n",
            " tion)                                                                                            \n",
            "                                                                                                  \n",
            " block5c_se_squeeze (Global  (None, 672)                  0         ['block5c_activation[0][0]']  \n",
            " AveragePooling2D)                                                                                \n",
            "                                                                                                  \n",
            " block5c_se_reshape (Reshap  (None, 1, 1, 672)            0         ['block5c_se_squeeze[0][0]']  \n",
            " e)                                                                                               \n",
            "                                                                                                  \n",
            " block5c_se_reduce (Conv2D)  (None, 1, 1, 28)             18844     ['block5c_se_reshape[0][0]']  \n",
            "                                                                                                  \n",
            " block5c_se_expand (Conv2D)  (None, 1, 1, 672)            19488     ['block5c_se_reduce[0][0]']   \n",
            "                                                                                                  \n",
            " block5c_se_excite (Multipl  (None, 6, 6, 672)            0         ['block5c_activation[0][0]',  \n",
            " y)                                                                  'block5c_se_expand[0][0]']   \n",
            "                                                                                                  \n",
            " block5c_project_conv (Conv  (None, 6, 6, 112)            75264     ['block5c_se_excite[0][0]']   \n",
            " 2D)                                                                                              \n",
            "                                                                                                  \n",
            " block5c_project_bn (BatchN  (None, 6, 6, 112)            448       ['block5c_project_conv[0][0]']\n",
            " ormalization)                                                                                    \n",
            "                                                                                                  \n",
            " block5c_drop (Dropout)      (None, 6, 6, 112)            0         ['block5c_project_bn[0][0]']  \n",
            "                                                                                                  \n",
            " block5c_add (Add)           (None, 6, 6, 112)            0         ['block5c_drop[0][0]',        \n",
            "                                                                     'block5b_add[0][0]']         \n",
            "                                                                                                  \n",
            " block5d_expand_conv (Conv2  (None, 6, 6, 672)            75264     ['block5c_add[0][0]']         \n",
            " D)                                                                                               \n",
            "                                                                                                  \n",
            " block5d_expand_bn (BatchNo  (None, 6, 6, 672)            2688      ['block5d_expand_conv[0][0]'] \n",
            " rmalization)                                                                                     \n",
            "                                                                                                  \n",
            " block5d_expand_activation   (None, 6, 6, 672)            0         ['block5d_expand_bn[0][0]']   \n",
            " (Activation)                                                                                     \n",
            "                                                                                                  \n",
            " block5d_dwconv (DepthwiseC  (None, 6, 6, 672)            16800     ['block5d_expand_activation[0]\n",
            " onv2D)                                                             [0]']                         \n",
            "                                                                                                  \n",
            " block5d_bn (BatchNormaliza  (None, 6, 6, 672)            2688      ['block5d_dwconv[0][0]']      \n",
            " tion)                                                                                            \n",
            "                                                                                                  \n",
            " block5d_activation (Activa  (None, 6, 6, 672)            0         ['block5d_bn[0][0]']          \n",
            " tion)                                                                                            \n",
            "                                                                                                  \n",
            " block5d_se_squeeze (Global  (None, 672)                  0         ['block5d_activation[0][0]']  \n",
            " AveragePooling2D)                                                                                \n",
            "                                                                                                  \n",
            " block5d_se_reshape (Reshap  (None, 1, 1, 672)            0         ['block5d_se_squeeze[0][0]']  \n",
            " e)                                                                                               \n",
            "                                                                                                  \n",
            " block5d_se_reduce (Conv2D)  (None, 1, 1, 28)             18844     ['block5d_se_reshape[0][0]']  \n",
            "                                                                                                  \n",
            " block5d_se_expand (Conv2D)  (None, 1, 1, 672)            19488     ['block5d_se_reduce[0][0]']   \n",
            "                                                                                                  \n",
            " block5d_se_excite (Multipl  (None, 6, 6, 672)            0         ['block5d_activation[0][0]',  \n",
            " y)                                                                  'block5d_se_expand[0][0]']   \n",
            "                                                                                                  \n",
            " block5d_project_conv (Conv  (None, 6, 6, 112)            75264     ['block5d_se_excite[0][0]']   \n",
            " 2D)                                                                                              \n",
            "                                                                                                  \n",
            " block5d_project_bn (BatchN  (None, 6, 6, 112)            448       ['block5d_project_conv[0][0]']\n",
            " ormalization)                                                                                    \n",
            "                                                                                                  \n",
            " block5d_drop (Dropout)      (None, 6, 6, 112)            0         ['block5d_project_bn[0][0]']  \n",
            "                                                                                                  \n",
            " block5d_add (Add)           (None, 6, 6, 112)            0         ['block5d_drop[0][0]',        \n",
            "                                                                     'block5c_add[0][0]']         \n",
            "                                                                                                  \n",
            " block6a_expand_conv (Conv2  (None, 6, 6, 672)            75264     ['block5d_add[0][0]']         \n",
            " D)                                                                                               \n",
            "                                                                                                  \n",
            " block6a_expand_bn (BatchNo  (None, 6, 6, 672)            2688      ['block6a_expand_conv[0][0]'] \n",
            " rmalization)                                                                                     \n",
            "                                                                                                  \n",
            " block6a_expand_activation   (None, 6, 6, 672)            0         ['block6a_expand_bn[0][0]']   \n",
            " (Activation)                                                                                     \n",
            "                                                                                                  \n",
            " block6a_dwconv_pad (ZeroPa  (None, 9, 9, 672)            0         ['block6a_expand_activation[0]\n",
            " dding2D)                                                           [0]']                         \n",
            "                                                                                                  \n",
            " block6a_dwconv (DepthwiseC  (None, 3, 3, 672)            16800     ['block6a_dwconv_pad[0][0]']  \n",
            " onv2D)                                                                                           \n",
            "                                                                                                  \n",
            " block6a_bn (BatchNormaliza  (None, 3, 3, 672)            2688      ['block6a_dwconv[0][0]']      \n",
            " tion)                                                                                            \n",
            "                                                                                                  \n",
            " block6a_activation (Activa  (None, 3, 3, 672)            0         ['block6a_bn[0][0]']          \n",
            " tion)                                                                                            \n",
            "                                                                                                  \n",
            " block6a_se_squeeze (Global  (None, 672)                  0         ['block6a_activation[0][0]']  \n",
            " AveragePooling2D)                                                                                \n",
            "                                                                                                  \n",
            " block6a_se_reshape (Reshap  (None, 1, 1, 672)            0         ['block6a_se_squeeze[0][0]']  \n",
            " e)                                                                                               \n",
            "                                                                                                  \n",
            " block6a_se_reduce (Conv2D)  (None, 1, 1, 28)             18844     ['block6a_se_reshape[0][0]']  \n",
            "                                                                                                  \n",
            " block6a_se_expand (Conv2D)  (None, 1, 1, 672)            19488     ['block6a_se_reduce[0][0]']   \n",
            "                                                                                                  \n",
            " block6a_se_excite (Multipl  (None, 3, 3, 672)            0         ['block6a_activation[0][0]',  \n",
            " y)                                                                  'block6a_se_expand[0][0]']   \n",
            "                                                                                                  \n",
            " block6a_project_conv (Conv  (None, 3, 3, 192)            129024    ['block6a_se_excite[0][0]']   \n",
            " 2D)                                                                                              \n",
            "                                                                                                  \n",
            " block6a_project_bn (BatchN  (None, 3, 3, 192)            768       ['block6a_project_conv[0][0]']\n",
            " ormalization)                                                                                    \n",
            "                                                                                                  \n",
            " block6b_expand_conv (Conv2  (None, 3, 3, 1152)           221184    ['block6a_project_bn[0][0]']  \n",
            " D)                                                                                               \n",
            "                                                                                                  \n",
            " block6b_expand_bn (BatchNo  (None, 3, 3, 1152)           4608      ['block6b_expand_conv[0][0]'] \n",
            " rmalization)                                                                                     \n",
            "                                                                                                  \n",
            " block6b_expand_activation   (None, 3, 3, 1152)           0         ['block6b_expand_bn[0][0]']   \n",
            " (Activation)                                                                                     \n",
            "                                                                                                  \n",
            " block6b_dwconv (DepthwiseC  (None, 3, 3, 1152)           28800     ['block6b_expand_activation[0]\n",
            " onv2D)                                                             [0]']                         \n",
            "                                                                                                  \n",
            " block6b_bn (BatchNormaliza  (None, 3, 3, 1152)           4608      ['block6b_dwconv[0][0]']      \n",
            " tion)                                                                                            \n",
            "                                                                                                  \n",
            " block6b_activation (Activa  (None, 3, 3, 1152)           0         ['block6b_bn[0][0]']          \n",
            " tion)                                                                                            \n",
            "                                                                                                  \n",
            " block6b_se_squeeze (Global  (None, 1152)                 0         ['block6b_activation[0][0]']  \n",
            " AveragePooling2D)                                                                                \n",
            "                                                                                                  \n",
            " block6b_se_reshape (Reshap  (None, 1, 1, 1152)           0         ['block6b_se_squeeze[0][0]']  \n",
            " e)                                                                                               \n",
            "                                                                                                  \n",
            " block6b_se_reduce (Conv2D)  (None, 1, 1, 48)             55344     ['block6b_se_reshape[0][0]']  \n",
            "                                                                                                  \n",
            " block6b_se_expand (Conv2D)  (None, 1, 1, 1152)           56448     ['block6b_se_reduce[0][0]']   \n",
            "                                                                                                  \n",
            " block6b_se_excite (Multipl  (None, 3, 3, 1152)           0         ['block6b_activation[0][0]',  \n",
            " y)                                                                  'block6b_se_expand[0][0]']   \n",
            "                                                                                                  \n",
            " block6b_project_conv (Conv  (None, 3, 3, 192)            221184    ['block6b_se_excite[0][0]']   \n",
            " 2D)                                                                                              \n",
            "                                                                                                  \n",
            " block6b_project_bn (BatchN  (None, 3, 3, 192)            768       ['block6b_project_conv[0][0]']\n",
            " ormalization)                                                                                    \n",
            "                                                                                                  \n",
            " block6b_drop (Dropout)      (None, 3, 3, 192)            0         ['block6b_project_bn[0][0]']  \n",
            "                                                                                                  \n",
            " block6b_add (Add)           (None, 3, 3, 192)            0         ['block6b_drop[0][0]',        \n",
            "                                                                     'block6a_project_bn[0][0]']  \n",
            "                                                                                                  \n",
            " block6c_expand_conv (Conv2  (None, 3, 3, 1152)           221184    ['block6b_add[0][0]']         \n",
            " D)                                                                                               \n",
            "                                                                                                  \n",
            " block6c_expand_bn (BatchNo  (None, 3, 3, 1152)           4608      ['block6c_expand_conv[0][0]'] \n",
            " rmalization)                                                                                     \n",
            "                                                                                                  \n",
            " block6c_expand_activation   (None, 3, 3, 1152)           0         ['block6c_expand_bn[0][0]']   \n",
            " (Activation)                                                                                     \n",
            "                                                                                                  \n",
            " block6c_dwconv (DepthwiseC  (None, 3, 3, 1152)           28800     ['block6c_expand_activation[0]\n",
            " onv2D)                                                             [0]']                         \n",
            "                                                                                                  \n",
            " block6c_bn (BatchNormaliza  (None, 3, 3, 1152)           4608      ['block6c_dwconv[0][0]']      \n",
            " tion)                                                                                            \n",
            "                                                                                                  \n",
            " block6c_activation (Activa  (None, 3, 3, 1152)           0         ['block6c_bn[0][0]']          \n",
            " tion)                                                                                            \n",
            "                                                                                                  \n",
            " block6c_se_squeeze (Global  (None, 1152)                 0         ['block6c_activation[0][0]']  \n",
            " AveragePooling2D)                                                                                \n",
            "                                                                                                  \n",
            " block6c_se_reshape (Reshap  (None, 1, 1, 1152)           0         ['block6c_se_squeeze[0][0]']  \n",
            " e)                                                                                               \n",
            "                                                                                                  \n",
            " block6c_se_reduce (Conv2D)  (None, 1, 1, 48)             55344     ['block6c_se_reshape[0][0]']  \n",
            "                                                                                                  \n",
            " block6c_se_expand (Conv2D)  (None, 1, 1, 1152)           56448     ['block6c_se_reduce[0][0]']   \n",
            "                                                                                                  \n",
            " block6c_se_excite (Multipl  (None, 3, 3, 1152)           0         ['block6c_activation[0][0]',  \n",
            " y)                                                                  'block6c_se_expand[0][0]']   \n",
            "                                                                                                  \n",
            " block6c_project_conv (Conv  (None, 3, 3, 192)            221184    ['block6c_se_excite[0][0]']   \n",
            " 2D)                                                                                              \n",
            "                                                                                                  \n",
            " block6c_project_bn (BatchN  (None, 3, 3, 192)            768       ['block6c_project_conv[0][0]']\n",
            " ormalization)                                                                                    \n",
            "                                                                                                  \n",
            " block6c_drop (Dropout)      (None, 3, 3, 192)            0         ['block6c_project_bn[0][0]']  \n",
            "                                                                                                  \n",
            " block6c_add (Add)           (None, 3, 3, 192)            0         ['block6c_drop[0][0]',        \n",
            "                                                                     'block6b_add[0][0]']         \n",
            "                                                                                                  \n",
            " block6d_expand_conv (Conv2  (None, 3, 3, 1152)           221184    ['block6c_add[0][0]']         \n",
            " D)                                                                                               \n",
            "                                                                                                  \n",
            " block6d_expand_bn (BatchNo  (None, 3, 3, 1152)           4608      ['block6d_expand_conv[0][0]'] \n",
            " rmalization)                                                                                     \n",
            "                                                                                                  \n",
            " block6d_expand_activation   (None, 3, 3, 1152)           0         ['block6d_expand_bn[0][0]']   \n",
            " (Activation)                                                                                     \n",
            "                                                                                                  \n",
            " block6d_dwconv (DepthwiseC  (None, 3, 3, 1152)           28800     ['block6d_expand_activation[0]\n",
            " onv2D)                                                             [0]']                         \n",
            "                                                                                                  \n",
            " block6d_bn (BatchNormaliza  (None, 3, 3, 1152)           4608      ['block6d_dwconv[0][0]']      \n",
            " tion)                                                                                            \n",
            "                                                                                                  \n",
            " block6d_activation (Activa  (None, 3, 3, 1152)           0         ['block6d_bn[0][0]']          \n",
            " tion)                                                                                            \n",
            "                                                                                                  \n",
            " block6d_se_squeeze (Global  (None, 1152)                 0         ['block6d_activation[0][0]']  \n",
            " AveragePooling2D)                                                                                \n",
            "                                                                                                  \n",
            " block6d_se_reshape (Reshap  (None, 1, 1, 1152)           0         ['block6d_se_squeeze[0][0]']  \n",
            " e)                                                                                               \n",
            "                                                                                                  \n",
            " block6d_se_reduce (Conv2D)  (None, 1, 1, 48)             55344     ['block6d_se_reshape[0][0]']  \n",
            "                                                                                                  \n",
            " block6d_se_expand (Conv2D)  (None, 1, 1, 1152)           56448     ['block6d_se_reduce[0][0]']   \n",
            "                                                                                                  \n",
            " block6d_se_excite (Multipl  (None, 3, 3, 1152)           0         ['block6d_activation[0][0]',  \n",
            " y)                                                                  'block6d_se_expand[0][0]']   \n",
            "                                                                                                  \n",
            " block6d_project_conv (Conv  (None, 3, 3, 192)            221184    ['block6d_se_excite[0][0]']   \n",
            " 2D)                                                                                              \n",
            "                                                                                                  \n",
            " block6d_project_bn (BatchN  (None, 3, 3, 192)            768       ['block6d_project_conv[0][0]']\n",
            " ormalization)                                                                                    \n",
            "                                                                                                  \n",
            " block6d_drop (Dropout)      (None, 3, 3, 192)            0         ['block6d_project_bn[0][0]']  \n",
            "                                                                                                  \n",
            " block6d_add (Add)           (None, 3, 3, 192)            0         ['block6d_drop[0][0]',        \n",
            "                                                                     'block6c_add[0][0]']         \n",
            "                                                                                                  \n",
            " block6e_expand_conv (Conv2  (None, 3, 3, 1152)           221184    ['block6d_add[0][0]']         \n",
            " D)                                                                                               \n",
            "                                                                                                  \n",
            " block6e_expand_bn (BatchNo  (None, 3, 3, 1152)           4608      ['block6e_expand_conv[0][0]'] \n",
            " rmalization)                                                                                     \n",
            "                                                                                                  \n",
            " block6e_expand_activation   (None, 3, 3, 1152)           0         ['block6e_expand_bn[0][0]']   \n",
            " (Activation)                                                                                     \n",
            "                                                                                                  \n",
            " block6e_dwconv (DepthwiseC  (None, 3, 3, 1152)           28800     ['block6e_expand_activation[0]\n",
            " onv2D)                                                             [0]']                         \n",
            "                                                                                                  \n",
            " block6e_bn (BatchNormaliza  (None, 3, 3, 1152)           4608      ['block6e_dwconv[0][0]']      \n",
            " tion)                                                                                            \n",
            "                                                                                                  \n",
            " block6e_activation (Activa  (None, 3, 3, 1152)           0         ['block6e_bn[0][0]']          \n",
            " tion)                                                                                            \n",
            "                                                                                                  \n",
            " block6e_se_squeeze (Global  (None, 1152)                 0         ['block6e_activation[0][0]']  \n",
            " AveragePooling2D)                                                                                \n",
            "                                                                                                  \n",
            " block6e_se_reshape (Reshap  (None, 1, 1, 1152)           0         ['block6e_se_squeeze[0][0]']  \n",
            " e)                                                                                               \n",
            "                                                                                                  \n",
            " block6e_se_reduce (Conv2D)  (None, 1, 1, 48)             55344     ['block6e_se_reshape[0][0]']  \n",
            "                                                                                                  \n",
            " block6e_se_expand (Conv2D)  (None, 1, 1, 1152)           56448     ['block6e_se_reduce[0][0]']   \n",
            "                                                                                                  \n",
            " block6e_se_excite (Multipl  (None, 3, 3, 1152)           0         ['block6e_activation[0][0]',  \n",
            " y)                                                                  'block6e_se_expand[0][0]']   \n",
            "                                                                                                  \n",
            " block6e_project_conv (Conv  (None, 3, 3, 192)            221184    ['block6e_se_excite[0][0]']   \n",
            " 2D)                                                                                              \n",
            "                                                                                                  \n",
            " block6e_project_bn (BatchN  (None, 3, 3, 192)            768       ['block6e_project_conv[0][0]']\n",
            " ormalization)                                                                                    \n",
            "                                                                                                  \n",
            " block6e_drop (Dropout)      (None, 3, 3, 192)            0         ['block6e_project_bn[0][0]']  \n",
            "                                                                                                  \n",
            " block6e_add (Add)           (None, 3, 3, 192)            0         ['block6e_drop[0][0]',        \n",
            "                                                                     'block6d_add[0][0]']         \n",
            "                                                                                                  \n",
            " block7a_expand_conv (Conv2  (None, 3, 3, 1152)           221184    ['block6e_add[0][0]']         \n",
            " D)                                                                                               \n",
            "                                                                                                  \n",
            " block7a_expand_bn (BatchNo  (None, 3, 3, 1152)           4608      ['block7a_expand_conv[0][0]'] \n",
            " rmalization)                                                                                     \n",
            "                                                                                                  \n",
            " block7a_expand_activation   (None, 3, 3, 1152)           0         ['block7a_expand_bn[0][0]']   \n",
            " (Activation)                                                                                     \n",
            "                                                                                                  \n",
            " block7a_dwconv (DepthwiseC  (None, 3, 3, 1152)           10368     ['block7a_expand_activation[0]\n",
            " onv2D)                                                             [0]']                         \n",
            "                                                                                                  \n",
            " block7a_bn (BatchNormaliza  (None, 3, 3, 1152)           4608      ['block7a_dwconv[0][0]']      \n",
            " tion)                                                                                            \n",
            "                                                                                                  \n",
            " block7a_activation (Activa  (None, 3, 3, 1152)           0         ['block7a_bn[0][0]']          \n",
            " tion)                                                                                            \n",
            "                                                                                                  \n",
            " block7a_se_squeeze (Global  (None, 1152)                 0         ['block7a_activation[0][0]']  \n",
            " AveragePooling2D)                                                                                \n",
            "                                                                                                  \n",
            " block7a_se_reshape (Reshap  (None, 1, 1, 1152)           0         ['block7a_se_squeeze[0][0]']  \n",
            " e)                                                                                               \n",
            "                                                                                                  \n",
            " block7a_se_reduce (Conv2D)  (None, 1, 1, 48)             55344     ['block7a_se_reshape[0][0]']  \n",
            "                                                                                                  \n",
            " block7a_se_expand (Conv2D)  (None, 1, 1, 1152)           56448     ['block7a_se_reduce[0][0]']   \n",
            "                                                                                                  \n",
            " block7a_se_excite (Multipl  (None, 3, 3, 1152)           0         ['block7a_activation[0][0]',  \n",
            " y)                                                                  'block7a_se_expand[0][0]']   \n",
            "                                                                                                  \n",
            " block7a_project_conv (Conv  (None, 3, 3, 320)            368640    ['block7a_se_excite[0][0]']   \n",
            " 2D)                                                                                              \n",
            "                                                                                                  \n",
            " block7a_project_bn (BatchN  (None, 3, 3, 320)            1280      ['block7a_project_conv[0][0]']\n",
            " ormalization)                                                                                    \n",
            "                                                                                                  \n",
            " block7b_expand_conv (Conv2  (None, 3, 3, 1920)           614400    ['block7a_project_bn[0][0]']  \n",
            " D)                                                                                               \n",
            "                                                                                                  \n",
            " block7b_expand_bn (BatchNo  (None, 3, 3, 1920)           7680      ['block7b_expand_conv[0][0]'] \n",
            " rmalization)                                                                                     \n",
            "                                                                                                  \n",
            " block7b_expand_activation   (None, 3, 3, 1920)           0         ['block7b_expand_bn[0][0]']   \n",
            " (Activation)                                                                                     \n",
            "                                                                                                  \n",
            " block7b_dwconv (DepthwiseC  (None, 3, 3, 1920)           17280     ['block7b_expand_activation[0]\n",
            " onv2D)                                                             [0]']                         \n",
            "                                                                                                  \n",
            " block7b_bn (BatchNormaliza  (None, 3, 3, 1920)           7680      ['block7b_dwconv[0][0]']      \n",
            " tion)                                                                                            \n",
            "                                                                                                  \n",
            " block7b_activation (Activa  (None, 3, 3, 1920)           0         ['block7b_bn[0][0]']          \n",
            " tion)                                                                                            \n",
            "                                                                                                  \n",
            " block7b_se_squeeze (Global  (None, 1920)                 0         ['block7b_activation[0][0]']  \n",
            " AveragePooling2D)                                                                                \n",
            "                                                                                                  \n",
            " block7b_se_reshape (Reshap  (None, 1, 1, 1920)           0         ['block7b_se_squeeze[0][0]']  \n",
            " e)                                                                                               \n",
            "                                                                                                  \n",
            " block7b_se_reduce (Conv2D)  (None, 1, 1, 80)             153680    ['block7b_se_reshape[0][0]']  \n",
            "                                                                                                  \n",
            " block7b_se_expand (Conv2D)  (None, 1, 1, 1920)           155520    ['block7b_se_reduce[0][0]']   \n",
            "                                                                                                  \n",
            " block7b_se_excite (Multipl  (None, 3, 3, 1920)           0         ['block7b_activation[0][0]',  \n",
            " y)                                                                  'block7b_se_expand[0][0]']   \n",
            "                                                                                                  \n",
            " block7b_project_conv (Conv  (None, 3, 3, 320)            614400    ['block7b_se_excite[0][0]']   \n",
            " 2D)                                                                                              \n",
            "                                                                                                  \n",
            " block7b_project_bn (BatchN  (None, 3, 3, 320)            1280      ['block7b_project_conv[0][0]']\n",
            " ormalization)                                                                                    \n",
            "                                                                                                  \n",
            " block7b_drop (Dropout)      (None, 3, 3, 320)            0         ['block7b_project_bn[0][0]']  \n",
            "                                                                                                  \n",
            " block7b_add (Add)           (None, 3, 3, 320)            0         ['block7b_drop[0][0]',        \n",
            "                                                                     'block7a_project_bn[0][0]']  \n",
            "                                                                                                  \n",
            " top_conv (Conv2D)           (None, 3, 3, 1280)           409600    ['block7b_add[0][0]']         \n",
            "                                                                                                  \n",
            " top_bn (BatchNormalization  (None, 3, 3, 1280)           5120      ['top_conv[0][0]']            \n",
            " )                                                                                                \n",
            "                                                                                                  \n",
            " top_activation (Activation  (None, 3, 3, 1280)           0         ['top_bn[0][0]']              \n",
            " )                                                                                                \n",
            "                                                                                                  \n",
            " avg_pool (GlobalAveragePoo  (None, 1280)                 0         ['top_activation[0][0]']      \n",
            " ling2D)                                                                                          \n",
            "                                                                                                  \n",
            " batch_normalization_2 (Bat  (None, 1280)                 5120      ['avg_pool[0][0]']            \n",
            " chNormalization)                                                                                 \n",
            "                                                                                                  \n",
            " top_dropout (Dropout)       (None, 1280)                 0         ['batch_normalization_2[0][0]'\n",
            "                                                                    ]                             \n",
            "                                                                                                  \n",
            " pred (Dense)                (None, 1)                    1281      ['top_dropout[0][0]']         \n",
            "                                                                                                  \n",
            "==================================================================================================\n",
            "Total params: 6581640 (25.11 MB)\n",
            "Trainable params: 3841 (15.00 KB)\n",
            "Non-trainable params: 6577799 (25.09 MB)\n",
            "__________________________________________________________________________________________________\n"
          ]
        }
      ],
      "source": [
        "from tensorflow.keras.applications import EfficientNetB0,EfficientNetB1, EfficientNetB2\n",
        "from tensorflow.keras import layers, models\n",
        "\n",
        "def build_model(num_classes):\n",
        "    # Assuming img_augmentation is a function or layer for data augmentation\n",
        "    inputs = layers.Input(shape=(96, 96, 3))\n",
        "    x = img_augmentation(inputs)\n",
        "\n",
        "\n",
        "    # Create EfficientNetB0 base model\n",
        "    base_model = EfficientNetB1(include_top=False, input_tensor=inputs, weights=\"imagenet\")\n",
        "\n",
        "    # Freeze the pretrained weights\n",
        "    base_model.trainable = False\n",
        "\n",
        "    # Build top layers\n",
        "    x = layers.GlobalAveragePooling2D(name=\"avg_pool\")(base_model.output)\n",
        "    x = layers.BatchNormalization()(x)\n",
        "\n",
        "    top_dropout_rate = 0.2\n",
        "    x = layers.Dropout(top_dropout_rate, name=\"top_dropout\")(x)\n",
        "\n",
        "    # Use \"sigmoid\" activation for binary classification\n",
        "    outputs = layers.Dense(num_classes, activation=\"sigmoid\", name=\"pred\", kernel_regularizer=tfk.regularizers.l2(0.01))(x)\n",
        "\n",
        "    # Compile the model\n",
        "    model = models.Model(inputs, outputs, name=\"EfficientNetB1\")\n",
        "\n",
        "    # Use \"binary_crossentropy\" for binary classification\n",
        "    optimizer = tf.keras.optimizers.Adam(learning_rate=1e-2)\n",
        "    model.compile(\n",
        "        optimizer=optimizer,\n",
        "        loss=\"binary_crossentropy\",  # Change to \"categorical_crossentropy\" for multi-class\n",
        "        metrics=[\"accuracy\"]\n",
        "    )\n",
        "\n",
        "    return model\n",
        "\n",
        "# Build the model\n",
        "num_classes = 1  # Binary classification\n",
        "model = build_model(num_classes)\n",
        "\n",
        "# Display the model summary\n",
        "model.summary()\n"
      ]
    },
    {
      "cell_type": "code",
      "execution_count": null,
      "metadata": {
        "id": "9A4A3kNKYdxT"
      },
      "outputs": [],
      "source": [
        "for i, layer in enumerate(model.layers):\n",
        "   print(i, layer.name, layer.trainable)"
      ]
    },
    {
      "cell_type": "code",
      "execution_count": null,
      "metadata": {
        "colab": {
          "base_uri": "https://localhost:8080/"
        },
        "id": "yqb7EiUpi5J0",
        "outputId": "3aebf83f-9518-4b96-8996-09dacef97a11"
      },
      "outputs": [
        {
          "name": "stdout",
          "output_type": "stream",
          "text": [
            "Epoch 1/100\n",
            "24/24 [==============================] - 29s 324ms/step - loss: 0.6350 - accuracy: 0.7482 - val_loss: 0.5482 - val_accuracy: 0.7123 - lr: 0.0100\n",
            "Epoch 2/100\n",
            "24/24 [==============================] - 3s 108ms/step - loss: 0.4943 - accuracy: 0.8015 - val_loss: 0.5224 - val_accuracy: 0.7642 - lr: 0.0100\n",
            "Epoch 3/100\n",
            "24/24 [==============================] - 2s 104ms/step - loss: 0.4189 - accuracy: 0.8348 - val_loss: 0.5309 - val_accuracy: 0.7423 - lr: 0.0100\n",
            "Epoch 4/100\n",
            "24/24 [==============================] - 3s 141ms/step - loss: 0.4125 - accuracy: 0.8331 - val_loss: 0.5746 - val_accuracy: 0.7043 - lr: 0.0100\n",
            "Epoch 5/100\n",
            "24/24 [==============================] - 3s 119ms/step - loss: 0.4257 - accuracy: 0.8311 - val_loss: 0.5062 - val_accuracy: 0.7672 - lr: 0.0100\n",
            "Epoch 6/100\n",
            "24/24 [==============================] - 3s 110ms/step - loss: 0.4100 - accuracy: 0.8371 - val_loss: 0.4856 - val_accuracy: 0.7962 - lr: 0.0100\n",
            "Epoch 7/100\n",
            "24/24 [==============================] - 3s 109ms/step - loss: 0.4109 - accuracy: 0.8328 - val_loss: 0.4692 - val_accuracy: 0.8092 - lr: 0.0100\n",
            "Epoch 8/100\n",
            "24/24 [==============================] - 2s 104ms/step - loss: 0.4207 - accuracy: 0.8331 - val_loss: 0.4742 - val_accuracy: 0.8082 - lr: 0.0100\n",
            "Epoch 9/100\n",
            "24/24 [==============================] - 3s 133ms/step - loss: 0.4070 - accuracy: 0.8351 - val_loss: 0.4793 - val_accuracy: 0.7872 - lr: 0.0100\n",
            "Epoch 10/100\n",
            "24/24 [==============================] - ETA: 0s - loss: 0.4302 - accuracy: 0.8294\n",
            "Epoch 10: ReduceLROnPlateau reducing learning rate to 0.0019999999552965165.\n",
            "24/24 [==============================] - 3s 115ms/step - loss: 0.4302 - accuracy: 0.8294 - val_loss: 0.4519 - val_accuracy: 0.8022 - lr: 0.0100\n",
            "Epoch 11/100\n",
            "24/24 [==============================] - 3s 118ms/step - loss: 0.3804 - accuracy: 0.8468 - val_loss: 0.4412 - val_accuracy: 0.8182 - lr: 0.0020\n",
            "Epoch 12/100\n",
            "24/24 [==============================] - 2s 105ms/step - loss: 0.3708 - accuracy: 0.8551 - val_loss: 0.4366 - val_accuracy: 0.8142 - lr: 0.0020\n",
            "Epoch 13/100\n",
            "24/24 [==============================] - 3s 110ms/step - loss: 0.3616 - accuracy: 0.8531 - val_loss: 0.4372 - val_accuracy: 0.8192 - lr: 0.0020\n",
            "Epoch 14/100\n",
            "24/24 [==============================] - 3s 109ms/step - loss: 0.3463 - accuracy: 0.8568 - val_loss: 0.4250 - val_accuracy: 0.8282 - lr: 0.0020\n",
            "Epoch 15/100\n",
            "24/24 [==============================] - 3s 106ms/step - loss: 0.3631 - accuracy: 0.8508 - val_loss: 0.4203 - val_accuracy: 0.8282 - lr: 0.0020\n",
            "Epoch 16/100\n",
            "24/24 [==============================] - 3s 114ms/step - loss: 0.3434 - accuracy: 0.8674 - val_loss: 0.4187 - val_accuracy: 0.8212 - lr: 0.0020\n",
            "Epoch 17/100\n",
            "24/24 [==============================] - ETA: 0s - loss: 0.3496 - accuracy: 0.8638\n",
            "Epoch 17: ReduceLROnPlateau reducing learning rate to 0.0003999999724328518.\n",
            "24/24 [==============================] - 3s 117ms/step - loss: 0.3496 - accuracy: 0.8638 - val_loss: 0.4124 - val_accuracy: 0.8282 - lr: 0.0020\n",
            "Epoch 18/100\n",
            "24/24 [==============================] - 2s 104ms/step - loss: 0.3356 - accuracy: 0.8711 - val_loss: 0.4115 - val_accuracy: 0.8252 - lr: 4.0000e-04\n",
            "Epoch 19/100\n",
            "24/24 [==============================] - 2s 104ms/step - loss: 0.3551 - accuracy: 0.8638 - val_loss: 0.4112 - val_accuracy: 0.8282 - lr: 4.0000e-04\n",
            "Epoch 20/100\n",
            "23/24 [===========================>..] - ETA: 0s - loss: 0.3290 - accuracy: 0.8747\n",
            "Epoch 20: ReduceLROnPlateau reducing learning rate to 7.999999215826393e-05.\n",
            "24/24 [==============================] - 2s 104ms/step - loss: 0.3315 - accuracy: 0.8734 - val_loss: 0.4112 - val_accuracy: 0.8262 - lr: 4.0000e-04\n",
            "Epoch 21/100\n",
            "24/24 [==============================] - 3s 110ms/step - loss: 0.3369 - accuracy: 0.8611 - val_loss: 0.4108 - val_accuracy: 0.8292 - lr: 8.0000e-05\n",
            "Epoch 22/100\n",
            "24/24 [==============================] - 3s 141ms/step - loss: 0.3461 - accuracy: 0.8554 - val_loss: 0.4108 - val_accuracy: 0.8282 - lr: 8.0000e-05\n",
            "Epoch 23/100\n",
            "24/24 [==============================] - 3s 112ms/step - loss: 0.3471 - accuracy: 0.8594 - val_loss: 0.4110 - val_accuracy: 0.8292 - lr: 8.0000e-05\n",
            "Epoch 24/100\n",
            "24/24 [==============================] - 3s 110ms/step - loss: 0.3272 - accuracy: 0.8744 - val_loss: 0.4106 - val_accuracy: 0.8322 - lr: 8.0000e-05\n",
            "Epoch 25/100\n",
            "24/24 [==============================] - 2s 102ms/step - loss: 0.3583 - accuracy: 0.8538 - val_loss: 0.4112 - val_accuracy: 0.8322 - lr: 8.0000e-05\n",
            "Epoch 26/100\n",
            "24/24 [==============================] - 2s 104ms/step - loss: 0.3400 - accuracy: 0.8691 - val_loss: 0.4115 - val_accuracy: 0.8322 - lr: 8.0000e-05\n",
            "Epoch 27/100\n",
            "23/24 [===========================>..] - ETA: 0s - loss: 0.3440 - accuracy: 0.8655\n",
            "Epoch 27: ReduceLROnPlateau reducing learning rate to 1.599999814061448e-05.\n",
            "24/24 [==============================] - 3s 133ms/step - loss: 0.3439 - accuracy: 0.8654 - val_loss: 0.4121 - val_accuracy: 0.8312 - lr: 8.0000e-05\n",
            "Epoch 28/100\n",
            "24/24 [==============================] - 3s 113ms/step - loss: 0.3286 - accuracy: 0.8724 - val_loss: 0.4123 - val_accuracy: 0.8322 - lr: 1.6000e-05\n",
            "Epoch 29/100\n",
            "24/24 [==============================] - 3s 111ms/step - loss: 0.3432 - accuracy: 0.8648 - val_loss: 0.4127 - val_accuracy: 0.8322 - lr: 1.6000e-05\n",
            "Epoch 30/100\n",
            "23/24 [===========================>..] - ETA: 0s - loss: 0.3413 - accuracy: 0.8631\n",
            "Epoch 30: ReduceLROnPlateau reducing learning rate to 3.199999628122896e-06.\n",
            "24/24 [==============================] - 2s 104ms/step - loss: 0.3423 - accuracy: 0.8624 - val_loss: 0.4131 - val_accuracy: 0.8322 - lr: 1.6000e-05\n",
            "Epoch 31/100\n",
            "24/24 [==============================] - 2s 104ms/step - loss: 0.3317 - accuracy: 0.8644 - val_loss: 0.4133 - val_accuracy: 0.8322 - lr: 3.2000e-06\n",
            "Epoch 32/100\n",
            "24/24 [==============================] - 2s 104ms/step - loss: 0.3551 - accuracy: 0.8474 - val_loss: 0.4136 - val_accuracy: 0.8322 - lr: 3.2000e-06\n",
            "Epoch 33/100\n",
            "24/24 [==============================] - 3s 139ms/step - loss: 0.3324 - accuracy: 0.8678 - val_loss: 0.4138 - val_accuracy: 0.8332 - lr: 3.2000e-06\n",
            "Epoch 34/100\n",
            "24/24 [==============================] - 3s 139ms/step - loss: 0.3447 - accuracy: 0.8638 - val_loss: 0.4140 - val_accuracy: 0.8322 - lr: 3.2000e-06\n",
            "Epoch 35/100\n",
            "24/24 [==============================] - 2s 104ms/step - loss: 0.3427 - accuracy: 0.8614 - val_loss: 0.4141 - val_accuracy: 0.8302 - lr: 3.2000e-06\n",
            "Epoch 36/100\n",
            "23/24 [===========================>..] - ETA: 0s - loss: 0.3436 - accuracy: 0.8618\n",
            "Epoch 36: ReduceLROnPlateau reducing learning rate to 1e-06.\n",
            "24/24 [==============================] - 2s 103ms/step - loss: 0.3420 - accuracy: 0.8628 - val_loss: 0.4143 - val_accuracy: 0.8322 - lr: 3.2000e-06\n",
            "Epoch 37/100\n",
            "24/24 [==============================] - 2s 104ms/step - loss: 0.3352 - accuracy: 0.8681 - val_loss: 0.4144 - val_accuracy: 0.8312 - lr: 1.0000e-06\n",
            "Epoch 38/100\n",
            "24/24 [==============================] - 2s 103ms/step - loss: 0.3419 - accuracy: 0.8634 - val_loss: 0.4146 - val_accuracy: 0.8302 - lr: 1.0000e-06\n",
            "Epoch 39/100\n",
            "24/24 [==============================] - 3s 140ms/step - loss: 0.3506 - accuracy: 0.8561 - val_loss: 0.4146 - val_accuracy: 0.8302 - lr: 1.0000e-06\n",
            "Epoch 40/100\n",
            "24/24 [==============================] - 3s 114ms/step - loss: 0.3461 - accuracy: 0.8618 - val_loss: 0.4147 - val_accuracy: 0.8302 - lr: 1.0000e-06\n",
            "Epoch 41/100\n",
            "24/24 [==============================] - 2s 103ms/step - loss: 0.3354 - accuracy: 0.8661 - val_loss: 0.4146 - val_accuracy: 0.8302 - lr: 1.0000e-06\n",
            "Epoch 42/100\n",
            "24/24 [==============================] - 2s 103ms/step - loss: 0.3337 - accuracy: 0.8744 - val_loss: 0.4147 - val_accuracy: 0.8312 - lr: 1.0000e-06\n",
            "Epoch 43/100\n",
            "24/24 [==============================] - 3s 113ms/step - loss: 0.3326 - accuracy: 0.8711 - val_loss: 0.4147 - val_accuracy: 0.8312 - lr: 1.0000e-06\n"
          ]
        }
      ],
      "source": [
        "# Train the model\n",
        "history = model.fit(\n",
        "    x = (X_train),\n",
        "    y = y_train,\n",
        "    batch_size = 128,\n",
        "    epochs = 100,\n",
        "    validation_data = ((X_val), y_val),\n",
        "    callbacks = callbacks\n",
        ").history\n"
      ]
    },
    {
      "cell_type": "code",
      "execution_count": null,
      "metadata": {
        "colab": {
          "base_uri": "https://localhost:8080/",
          "height": 468
        },
        "id": "lF_lkqDbYz4R",
        "outputId": "ec580201-436a-4d70-f574-4af2f30c9798"
      },
      "outputs": [
        {
          "data": {
            "image/png": "[encoded data removed]",
            "text/plain": [
              "<Figure size 1500x500 with 1 Axes>"
            ]
          },
          "metadata": {},
          "output_type": "display_data"
        }
      ],
      "source": [
        "# Plot the training\n",
        "\n",
        "plt.figure(figsize=(15,5))\n",
        "plt.plot(history['accuracy'], alpha=.3, color='#ff7f0e', linestyle='--')\n",
        "plt.plot(history['val_accuracy'], label='EfficientNet', alpha=.8, color='#ff7f0e')\n",
        "plt.legend(loc='upper left')\n",
        "plt.title('Accuracy')\n",
        "plt.grid(alpha=.3)\n",
        "\n",
        "plt.show()"
      ]
    },
    {
      "cell_type": "code",
      "execution_count": null,
      "metadata": {
        "id": "ar44SABbbE2W"
      },
      "outputs": [],
      "source": [
        "def unfreeze_model(model):\n",
        "    # We unfreeze the last 20 layers leaving BatchNorm layers frozen\n",
        "    for layer in model.layers[-20:]:\n",
        "        if not isinstance(layer, layers.BatchNormalization):\n",
        "            layer.trainable = True\n",
        "\n",
        "    optimizer = tf.keras.optimizers.Adam(learning_rate=1e-4)\n",
        "    model.compile(\n",
        "        optimizer=optimizer, loss=\"binary_crossentropy\", metrics=[\"accuracy\"]\n",
        "    )\n",
        "\n",
        "# Assuming you already have a model created using build_model function and you want to unfreeze it\n",
        "unfreeze_model(model)\n",
        "\n"
      ]
    },
    {
      "cell_type": "code",
      "execution_count": null,
      "metadata": {
        "colab": {
          "base_uri": "https://localhost:8080/"
        },
        "id": "POjj-qpVd07S",
        "outputId": "b6c999b7-27bb-4a5c-b38f-39bd4a4a900d"
      },
      "outputs": [
        {
          "name": "stdout",
          "output_type": "stream",
          "text": [
            "Epoch 1/100\n",
            "12/12 [==============================] - 20s 788ms/step - loss: 0.3391 - accuracy: 0.8631 - val_loss: 0.4148 - val_accuracy: 0.8302 - lr: 1.0000e-04\n",
            "Epoch 2/100\n",
            "12/12 [==============================] - 2s 205ms/step - loss: 0.3138 - accuracy: 0.8784 - val_loss: 0.4108 - val_accuracy: 0.8302 - lr: 1.0000e-04\n",
            "Epoch 3/100\n",
            "12/12 [==============================] - 2s 208ms/step - loss: 0.2996 - accuracy: 0.8831 - val_loss: 0.4113 - val_accuracy: 0.8292 - lr: 1.0000e-04\n",
            "Epoch 4/100\n",
            "12/12 [==============================] - ETA: 0s - loss: 0.2949 - accuracy: 0.8871\n",
            "Epoch 4: ReduceLROnPlateau reducing learning rate to 1.9999999494757503e-05.\n",
            "12/12 [==============================] - 2s 208ms/step - loss: 0.2949 - accuracy: 0.8871 - val_loss: 0.4127 - val_accuracy: 0.8302 - lr: 1.0000e-04\n",
            "Epoch 5/100\n",
            "12/12 [==============================] - 3s 225ms/step - loss: 0.2801 - accuracy: 0.8951 - val_loss: 0.4091 - val_accuracy: 0.8332 - lr: 2.0000e-05\n",
            "Epoch 6/100\n",
            "12/12 [==============================] - 3s 283ms/step - loss: 0.2793 - accuracy: 0.8937 - val_loss: 0.4074 - val_accuracy: 0.8312 - lr: 2.0000e-05\n",
            "Epoch 7/100\n",
            "12/12 [==============================] - 3s 220ms/step - loss: 0.2805 - accuracy: 0.8951 - val_loss: 0.4074 - val_accuracy: 0.8332 - lr: 2.0000e-05\n",
            "Epoch 8/100\n",
            "12/12 [==============================] - 3s 220ms/step - loss: 0.2750 - accuracy: 0.8957 - val_loss: 0.4065 - val_accuracy: 0.8382 - lr: 2.0000e-05\n",
            "Epoch 9/100\n",
            "12/12 [==============================] - 2s 207ms/step - loss: 0.2744 - accuracy: 0.8987 - val_loss: 0.4052 - val_accuracy: 0.8342 - lr: 2.0000e-05\n",
            "Epoch 10/100\n",
            "12/12 [==============================] - 2s 209ms/step - loss: 0.2791 - accuracy: 0.8921 - val_loss: 0.4067 - val_accuracy: 0.8332 - lr: 2.0000e-05\n",
            "Epoch 11/100\n",
            "12/12 [==============================] - ETA: 0s - loss: 0.2798 - accuracy: 0.8937\n",
            "Epoch 11: ReduceLROnPlateau reducing learning rate to 3.999999898951501e-06.\n",
            "12/12 [==============================] - 3s 274ms/step - loss: 0.2798 - accuracy: 0.8937 - val_loss: 0.4065 - val_accuracy: 0.8352 - lr: 2.0000e-05\n",
            "Epoch 12/100\n",
            "12/12 [==============================] - 3s 280ms/step - loss: 0.2783 - accuracy: 0.9014 - val_loss: 0.4064 - val_accuracy: 0.8332 - lr: 4.0000e-06\n",
            "Epoch 13/100\n",
            "12/12 [==============================] - 2s 207ms/step - loss: 0.2775 - accuracy: 0.9021 - val_loss: 0.4057 - val_accuracy: 0.8312 - lr: 4.0000e-06\n",
            "Epoch 14/100\n",
            "12/12 [==============================] - ETA: 0s - loss: 0.2749 - accuracy: 0.8954\n",
            "Epoch 14: ReduceLROnPlateau reducing learning rate to 1e-06.\n",
            "12/12 [==============================] - 2s 206ms/step - loss: 0.2749 - accuracy: 0.8954 - val_loss: 0.4057 - val_accuracy: 0.8322 - lr: 4.0000e-06\n",
            "Epoch 15/100\n",
            "12/12 [==============================] - 2s 204ms/step - loss: 0.2762 - accuracy: 0.8951 - val_loss: 0.4056 - val_accuracy: 0.8292 - lr: 1.0000e-06\n",
            "Epoch 16/100\n",
            "12/12 [==============================] - 3s 215ms/step - loss: 0.2641 - accuracy: 0.9054 - val_loss: 0.4054 - val_accuracy: 0.8292 - lr: 1.0000e-06\n",
            "Epoch 17/100\n",
            "12/12 [==============================] - 3s 244ms/step - loss: 0.2682 - accuracy: 0.9051 - val_loss: 0.4054 - val_accuracy: 0.8282 - lr: 1.0000e-06\n",
            "Epoch 18/100\n",
            "12/12 [==============================] - 3s 256ms/step - loss: 0.2746 - accuracy: 0.8964 - val_loss: 0.4052 - val_accuracy: 0.8292 - lr: 1.0000e-06\n"
          ]
        }
      ],
      "source": [
        "# Train the model\n",
        "history = model.fit(\n",
        "    x = (X_train),\n",
        "    y = y_train,\n",
        "    batch_size = 256,\n",
        "    shuffle=True,\n",
        "    epochs = 100,\n",
        "    validation_data = ((X_val), y_val),\n",
        "    callbacks = callbacks\n",
        ").history"
      ]
    },
    {
      "cell_type": "code",
      "execution_count": null,
      "metadata": {
        "colab": {
          "base_uri": "https://localhost:8080/",
          "height": 468
        },
        "id": "o-0zJGW5Xb6s",
        "outputId": "a077d188-4d32-441e-9296-0726c2e1fbb6"
      },
      "outputs": [
        {
          "data": {
            "image/png": "[encoded data removed]",
            "text/plain": [
              "<Figure size 1500x500 with 1 Axes>"
            ]
          },
          "metadata": {},
          "output_type": "display_data"
        }
      ],
      "source": [
        "# Plot the training\n",
        "\n",
        "plt.figure(figsize=(15,5))\n",
        "plt.plot(history['accuracy'], alpha=.3, color='#ff7f0e', linestyle='--')\n",
        "plt.plot(history['val_accuracy'], label='EfficientNet', alpha=.8, color='#ff7f0e')\n",
        "plt.legend(loc='upper left')\n",
        "plt.title('Accuracy')\n",
        "plt.grid(alpha=.3)\n",
        "\n",
        "plt.show()"
      ]
    },
    {
      "cell_type": "code",
      "execution_count": null,
      "metadata": {
        "id": "qpeqkDr1NxVh"
      },
      "outputs": [],
      "source": [
        "# model.load_weights('CustomModel.weights.hdf5')"
      ]
    },
    {
      "cell_type": "code",
      "execution_count": null,
      "metadata": {
        "colab": {
          "base_uri": "https://localhost:8080/"
        },
        "id": "ZxhCqLgibrde",
        "outputId": "d8344e7e-edc6-4c80-d8d1-9512425ddb5d"
      },
      "outputs": [
        {
          "name": "stdout",
          "output_type": "stream",
          "text": [
            "Test set accuracy 0.8681\n"
          ]
        }
      ],
      "source": [
        "# Evaluate the model on the test set\n",
        "# test_accuracy = ft_model.evaluate(preprocess_input(X_test),y_test,verbose=0)[-1]\n",
        "test_accuracy = model.evaluate(X_test,y_test,verbose=0)[-1]\n",
        "print('Test set accuracy %.4f' % test_accuracy)"
      ]
    },
    {
      "cell_type": "code",
      "execution_count": null,
      "metadata": {
        "id": "SV9_vz8gbsJs"
      },
      "outputs": [],
      "source": [
        "model.save('EfficientNetB1_v2')"
      ]
    },
    {
      "cell_type": "markdown",
      "metadata": {
        "id": "7cr9FskFzYuq"
      },
      "source": [
        "## Additional methods to improve accuracy"
      ]
    },
    {
      "cell_type": "code",
      "execution_count": null,
      "metadata": {
        "id": "mhjAHLB2toNv"
      },
      "outputs": [],
      "source": [
        "from tensorflow.keras.preprocessing.image import ImageDataGenerator\n",
        "\n",
        " datagen = ImageDataGenerator(\n",
        "                                    rescale=1./255,\n",
        "                                    rotation_range=20,\n",
        "                                    shear_range=0.2,\n",
        "                                    zoom_range=0.2,\n",
        "                                    width_shift_range = 0.2,\n",
        "                                    height_shift_range = 0.2,\n",
        "                                    vertical_flip = True,\n",
        "                                    horizontal_flip=True,\n",
        "                                    fill_mode='nearest',\n",
        "                                    validation_split=0.25\n",
        ")\n",
        "\n",
        "# Apply data augmentation only to the training set\n",
        "datagen.fit(X_train_val)"
      ]
    },
    {
      "cell_type": "markdown",
      "metadata": {
        "id": "yLNK4zTitmYX"
      },
      "source": [
        "### Ensambling models"
      ]
    },
    {
      "cell_type": "code",
      "execution_count": null,
      "metadata": {
        "id": "D8jl1mMb3YqM"
      },
      "outputs": [],
      "source": [
        "# custom_model = tfk.models.load_model('FineTunedMobilevnet_v3_withCallbacks_andShuffle')\n",
        "efficientNet_model1 = tfk.models.load_model('EfficientNetB1_v2')\n",
        "efficientNet_model = tfk.models.load_model('EfficientNet')\n",
        "efficientNet_model2 = tfk.models.load_model('KFoldCrossVal_EfficientNetB2')"
      ]
    },
    {
      "cell_type": "code",
      "execution_count": null,
      "metadata": {
        "id": "VuEJo0jG3VQn"
      },
      "outputs": [],
      "source": [
        "# concatenate the models\n",
        "\n",
        "# import  layers\n",
        "from tensorflow.keras.layers import Concatenate, Average, Dropout, Dense\n",
        "\n",
        "\n",
        "# get list of models\n",
        "models = [efficientNet_model2, efficientNet_model1, efficientNet_model]\n",
        "\n",
        "input = tfk.Input(shape=(96, 96, 3), name='input') # input layer\n",
        "\n",
        "# get output for each model input\n",
        "outputs = [model(input) for model in models]\n",
        "\n",
        "# take average of the outputs\n",
        "x = Average()(outputs)\n",
        "\n",
        "# add further layers\n",
        "x = Dropout(0.3)(x)\n",
        "output = Dense(1, activation='sigmoid', name='output')(x) # output layer\n",
        "\n",
        "# create concatenated model\n",
        "avg_model = tfk.Model(input, output, name= 'Concatenated_Model')"
      ]
    },
    {
      "cell_type": "code",
      "execution_count": null,
      "metadata": {
        "colab": {
          "base_uri": "https://localhost:8080/",
          "height": 466
        },
        "id": "pEsgt7RE9DB1",
        "outputId": "fa440507-7a59-4898-9a9a-ac5f42c23905"
      },
      "outputs": [
        {
          "data": {
            "image/png": "[encoded data removed]",
            "text/plain": [
              "<IPython.core.display.Image object>"
            ]
          },
          "execution_count": 31,
          "metadata": {},
          "output_type": "execute_result"
        }
      ],
      "source": [
        "# show model structure\n",
        "from tensorflow.keras.utils import plot_model\n",
        "\n",
        "plot_model(avg_model)"
      ]
    },
    {
      "cell_type": "code",
      "execution_count": null,
      "metadata": {
        "colab": {
          "base_uri": "https://localhost:8080/"
        },
        "id": "QG9cscGl7vo0",
        "outputId": "349724fb-bd25-4faa-d2b6-1a60f473cd89"
      },
      "outputs": [
        {
          "name": "stdout",
          "output_type": "stream",
          "text": [
            "0 input False\n",
            "1 model False\n",
            "2 EfficientNetB1 False\n",
            "3 EfficientNet False\n",
            "4 average True\n",
            "5 dropout True\n",
            "6 output True\n"
          ]
        }
      ],
      "source": [
        "#finetuning\n",
        "for i, layer in enumerate(avg_model.layers):\n",
        "  avg_model.get_layer(layer.name).trainable = False\n",
        "\n",
        "avg_model.get_layer(\"output\").trainable = True\n",
        "avg_model.get_layer(\"dropout\").trainable = True\n",
        "avg_model.get_layer(\"average\").trainable = True\n",
        "\n",
        "for i, layer in enumerate(avg_model.layers):\n",
        "  print(i, layer.name, layer.trainable)"
      ]
    },
    {
      "cell_type": "code",
      "execution_count": null,
      "metadata": {
        "id": "Ia69NbnIzWNJ"
      },
      "outputs": [],
      "source": [
        "avg_model.compile(\n",
        "    optimizer=tf.keras.optimizers.Adam(learning_rate=1e-2),\n",
        "    loss=\"binary_crossentropy\",  # Change to \"categorical_crossentropy\" for multi-class\n",
        "    metrics=[\"accuracy\"]\n",
        ")"
      ]
    },
    {
      "cell_type": "code",
      "execution_count": null,
      "metadata": {
        "colab": {
          "base_uri": "https://localhost:8080/"
        },
        "id": "s-BdiQeZ9SvL",
        "outputId": "c962e725-ea52-4c05-87c4-d7290b5f9e41"
      },
      "outputs": [
        {
          "name": "stdout",
          "output_type": "stream",
          "text": [
            "Epoch 1/100\n",
            "24/24 [==============================] - 44s 686ms/step - loss: 0.6491 - accuracy: 0.6079 - val_loss: 0.6061 - val_accuracy: 0.8142 - lr: 0.0100\n",
            "Epoch 2/100\n",
            "24/24 [==============================] - 6s 274ms/step - loss: 0.6092 - accuracy: 0.7458 - val_loss: 0.5648 - val_accuracy: 0.8941 - lr: 0.0100\n",
            "Epoch 3/100\n",
            "24/24 [==============================] - 8s 331ms/step - loss: 0.5675 - accuracy: 0.8005 - val_loss: 0.5286 - val_accuracy: 0.9091 - lr: 0.0100\n",
            "Epoch 4/100\n",
            "24/24 [==============================] - 8s 319ms/step - loss: 0.5456 - accuracy: 0.8148 - val_loss: 0.5006 - val_accuracy: 0.9111 - lr: 0.0100\n",
            "Epoch 5/100\n",
            "24/24 [==============================] - 8s 333ms/step - loss: 0.5297 - accuracy: 0.8281 - val_loss: 0.4781 - val_accuracy: 0.9171 - lr: 0.0100\n",
            "Epoch 6/100\n",
            "24/24 [==============================] - 6s 257ms/step - loss: 0.5101 - accuracy: 0.8311 - val_loss: 0.4588 - val_accuracy: 0.9151 - lr: 0.0100\n",
            "Epoch 7/100\n",
            "24/24 [==============================] - 7s 282ms/step - loss: 0.5046 - accuracy: 0.8434 - val_loss: 0.4435 - val_accuracy: 0.9141 - lr: 0.0100\n",
            "Epoch 8/100\n",
            "24/24 [==============================] - ETA: 0s - loss: 0.5009 - accuracy: 0.8374\n",
            "Epoch 8: ReduceLROnPlateau reducing learning rate to 0.0019999999552965165.\n",
            "24/24 [==============================] - 6s 255ms/step - loss: 0.5009 - accuracy: 0.8374 - val_loss: 0.4334 - val_accuracy: 0.9121 - lr: 0.0100\n",
            "Epoch 9/100\n",
            "24/24 [==============================] - 7s 303ms/step - loss: 0.4970 - accuracy: 0.8428 - val_loss: 0.4312 - val_accuracy: 0.9121 - lr: 0.0020\n",
            "Epoch 10/100\n",
            "24/24 [==============================] - 6s 260ms/step - loss: 0.4881 - accuracy: 0.8468 - val_loss: 0.4291 - val_accuracy: 0.9111 - lr: 0.0020\n",
            "Epoch 11/100\n",
            "24/24 [==============================] - ETA: 0s - loss: 0.4955 - accuracy: 0.8388\n",
            "Epoch 11: ReduceLROnPlateau reducing learning rate to 0.0003999999724328518.\n",
            "24/24 [==============================] - 7s 301ms/step - loss: 0.4955 - accuracy: 0.8388 - val_loss: 0.4270 - val_accuracy: 0.9111 - lr: 0.0020\n",
            "Epoch 12/100\n",
            "24/24 [==============================] - 6s 270ms/step - loss: 0.4896 - accuracy: 0.8451 - val_loss: 0.4266 - val_accuracy: 0.9111 - lr: 4.0000e-04\n",
            "Epoch 13/100\n",
            "24/24 [==============================] - 7s 303ms/step - loss: 0.4965 - accuracy: 0.8401 - val_loss: 0.4262 - val_accuracy: 0.9111 - lr: 4.0000e-04\n",
            "Epoch 14/100\n",
            "24/24 [==============================] - ETA: 0s - loss: 0.5002 - accuracy: 0.8368\n",
            "Epoch 14: ReduceLROnPlateau reducing learning rate to 7.999999215826393e-05.\n",
            "24/24 [==============================] - 7s 315ms/step - loss: 0.5002 - accuracy: 0.8368 - val_loss: 0.4259 - val_accuracy: 0.9111 - lr: 4.0000e-04\n",
            "Epoch 15/100\n",
            "24/24 [==============================] - 7s 280ms/step - loss: 0.5026 - accuracy: 0.8348 - val_loss: 0.4258 - val_accuracy: 0.9111 - lr: 8.0000e-05\n"
          ]
        }
      ],
      "source": [
        "# Train the model on the  WHOLE dataset\n",
        "history = avg_model.fit(\n",
        "    x = X_train,\n",
        "    # x = X_train_val,\n",
        "    y = y_train,\n",
        "    # y = y_train_val,\n",
        "    batch_size = 128,\n",
        "    shuffle=True,\n",
        "    epochs = 100,\n",
        "    validation_data = (X_val, y_val),\n",
        "    # validation_data = (X_test, y_test),\n",
        "    callbacks = callbacks\n",
        ").history"
      ]
    },
    {
      "cell_type": "code",
      "execution_count": null,
      "metadata": {
        "colab": {
          "base_uri": "https://localhost:8080/"
        },
        "id": "mMF-vLwnJcMo",
        "outputId": "8025d0a0-ed26-43c1-9ea5-e3c982005d70"
      },
      "outputs": [
        {
          "name": "stdout",
          "output_type": "stream",
          "text": [
            "Test set accuracy 0.8931\n"
          ]
        }
      ],
      "source": [
        "# Evaluate the model on the test set\n",
        "# test_accuracy_custom = custom_model.evaluate((X_test),y_test,verbose=0)[-1]\n",
        "test_accuracy = avg_model.evaluate((X_test),y_test,verbose=0)[-1]\n",
        "\n",
        "print('Test set accuracy %.4f' % test_accuracy)\n"
      ]
    },
    {
      "cell_type": "code",
      "execution_count": null,
      "metadata": {
        "id": "orNxrVsjtx83"
      },
      "outputs": [],
      "source": [
        "avg_model.save('Avg_b0_b2_b1_crossVal_alldata')"
      ]
    },
    {
      "cell_type": "markdown",
      "metadata": {
        "id": "AboY0b0o_SyP"
      },
      "source": [
        "### K-fold cross validation"
      ]
    },
    {
      "cell_type": "code",
      "execution_count": null,
      "metadata": {
        "id": "Rq8jeKOli4e5"
      },
      "outputs": [],
      "source": [
        "from tensorflow.keras.applications import EfficientNetB0,EfficientNetB1, EfficientNetB2\n",
        "from tensorflow.keras import layers, models"
      ]
    },
    {
      "cell_type": "code",
      "execution_count": null,
      "metadata": {
        "id": "HBLZVcKdugPf"
      },
      "outputs": [],
      "source": [
        "def unfreeze_model(model):\n",
        "    # We unfreeze the last 20 layers leaving BatchNorm layers frozen\n",
        "    for layer in model.layers[-30:]:\n",
        "        if not isinstance(layer, layers.BatchNormalization):\n",
        "            layer.trainable = True\n",
        "\n",
        "    optimizer = tf.keras.optimizers.Adam(learning_rate=1e-4)\n",
        "    model.compile(\n",
        "        optimizer=optimizer, loss=\"binary_crossentropy\", metrics=[\"accuracy\"]\n",
        "    )\n",
        "\n"
      ]
    },
    {
      "cell_type": "code",
      "execution_count": null,
      "metadata": {
        "id": "9j99pkHyAVzl"
      },
      "outputs": [],
      "source": [
        "X=X_train_val\n",
        "y=y_train_val"
      ]
    },
    {
      "cell_type": "code",
      "execution_count": null,
      "metadata": {
        "id": "aRHs7Ghou9i7"
      },
      "outputs": [],
      "source": [
        "model = tfk.models.load_model('EfficientNetB2_v2')\n",
        "\n",
        "unfreeze_model(model)"
      ]
    },
    {
      "cell_type": "code",
      "execution_count": null,
      "metadata": {
        "colab": {
          "base_uri": "https://localhost:8080/"
        },
        "id": "o2vucyF1EarR",
        "outputId": "f283f6d5-0316-4e65-82cd-9670b3d6eb81"
      },
      "outputs": [
        {
          "name": "stdout",
          "output_type": "stream",
          "text": [
            "0 input_1 True\n",
            "1 rescaling False\n",
            "2 normalization False\n",
            "3 rescaling_1 False\n",
            "4 stem_conv_pad False\n",
            "5 stem_conv False\n",
            "6 stem_bn False\n",
            "7 stem_activation False\n",
            "8 block1a_dwconv False\n",
            "9 block1a_bn False\n",
            "10 block1a_activation False\n",
            "11 block1a_se_squeeze False\n",
            "12 block1a_se_reshape False\n",
            "13 block1a_se_reduce False\n",
            "14 block1a_se_expand False\n",
            "15 block1a_se_excite False\n",
            "16 block1a_project_conv False\n",
            "17 block1a_project_bn False\n",
            "18 block1b_dwconv False\n",
            "19 block1b_bn False\n",
            "20 block1b_activation False\n",
            "21 block1b_se_squeeze False\n",
            "22 block1b_se_reshape False\n",
            "23 block1b_se_reduce False\n",
            "24 block1b_se_expand False\n",
            "25 block1b_se_excite False\n",
            "26 block1b_project_conv False\n",
            "27 block1b_project_bn False\n",
            "28 block1b_drop False\n",
            "29 block1b_add False\n",
            "30 block2a_expand_conv False\n",
            "31 block2a_expand_bn False\n",
            "32 block2a_expand_activation False\n",
            "33 block2a_dwconv_pad False\n",
            "34 block2a_dwconv False\n",
            "35 block2a_bn False\n",
            "36 block2a_activation False\n",
            "37 block2a_se_squeeze False\n",
            "38 block2a_se_reshape False\n",
            "39 block2a_se_reduce False\n",
            "40 block2a_se_expand False\n",
            "41 block2a_se_excite False\n",
            "42 block2a_project_conv False\n",
            "43 block2a_project_bn False\n",
            "44 block2b_expand_conv False\n",
            "45 block2b_expand_bn False\n",
            "46 block2b_expand_activation False\n",
            "47 block2b_dwconv False\n",
            "48 block2b_bn False\n",
            "49 block2b_activation False\n",
            "50 block2b_se_squeeze False\n",
            "51 block2b_se_reshape False\n",
            "52 block2b_se_reduce False\n",
            "53 block2b_se_expand False\n",
            "54 block2b_se_excite False\n",
            "55 block2b_project_conv False\n",
            "56 block2b_project_bn False\n",
            "57 block2b_drop False\n",
            "58 block2b_add False\n",
            "59 block2c_expand_conv False\n",
            "60 block2c_expand_bn False\n",
            "61 block2c_expand_activation False\n",
            "62 block2c_dwconv False\n",
            "63 block2c_bn False\n",
            "64 block2c_activation False\n",
            "65 block2c_se_squeeze False\n",
            "66 block2c_se_reshape False\n",
            "67 block2c_se_reduce False\n",
            "68 block2c_se_expand False\n",
            "69 block2c_se_excite False\n",
            "70 block2c_project_conv False\n",
            "71 block2c_project_bn False\n",
            "72 block2c_drop False\n",
            "73 block2c_add False\n",
            "74 block3a_expand_conv False\n",
            "75 block3a_expand_bn False\n",
            "76 block3a_expand_activation False\n",
            "77 block3a_dwconv_pad False\n",
            "78 block3a_dwconv False\n",
            "79 block3a_bn False\n",
            "80 block3a_activation False\n",
            "81 block3a_se_squeeze False\n",
            "82 block3a_se_reshape False\n",
            "83 block3a_se_reduce False\n",
            "84 block3a_se_expand False\n",
            "85 block3a_se_excite False\n",
            "86 block3a_project_conv False\n",
            "87 block3a_project_bn False\n",
            "88 block3b_expand_conv False\n",
            "89 block3b_expand_bn False\n",
            "90 block3b_expand_activation False\n",
            "91 block3b_dwconv False\n",
            "92 block3b_bn False\n",
            "93 block3b_activation False\n",
            "94 block3b_se_squeeze False\n",
            "95 block3b_se_reshape False\n",
            "96 block3b_se_reduce False\n",
            "97 block3b_se_expand False\n",
            "98 block3b_se_excite False\n",
            "99 block3b_project_conv False\n",
            "100 block3b_project_bn False\n",
            "101 block3b_drop False\n",
            "102 block3b_add False\n",
            "103 block3c_expand_conv False\n",
            "104 block3c_expand_bn False\n",
            "105 block3c_expand_activation False\n",
            "106 block3c_dwconv False\n",
            "107 block3c_bn False\n",
            "108 block3c_activation False\n",
            "109 block3c_se_squeeze False\n",
            "110 block3c_se_reshape False\n",
            "111 block3c_se_reduce False\n",
            "112 block3c_se_expand False\n",
            "113 block3c_se_excite False\n",
            "114 block3c_project_conv False\n",
            "115 block3c_project_bn False\n",
            "116 block3c_drop False\n",
            "117 block3c_add False\n",
            "118 block4a_expand_conv False\n",
            "119 block4a_expand_bn False\n",
            "120 block4a_expand_activation False\n",
            "121 block4a_dwconv_pad False\n",
            "122 block4a_dwconv False\n",
            "123 block4a_bn False\n",
            "124 block4a_activation False\n",
            "125 block4a_se_squeeze False\n",
            "126 block4a_se_reshape False\n",
            "127 block4a_se_reduce False\n",
            "128 block4a_se_expand False\n",
            "129 block4a_se_excite False\n",
            "130 block4a_project_conv False\n",
            "131 block4a_project_bn False\n",
            "132 block4b_expand_conv False\n",
            "133 block4b_expand_bn False\n",
            "134 block4b_expand_activation False\n",
            "135 block4b_dwconv False\n",
            "136 block4b_bn False\n",
            "137 block4b_activation False\n",
            "138 block4b_se_squeeze False\n",
            "139 block4b_se_reshape False\n",
            "140 block4b_se_reduce False\n",
            "141 block4b_se_expand False\n",
            "142 block4b_se_excite False\n",
            "143 block4b_project_conv False\n",
            "144 block4b_project_bn False\n",
            "145 block4b_drop False\n",
            "146 block4b_add False\n",
            "147 block4c_expand_conv False\n",
            "148 block4c_expand_bn False\n",
            "149 block4c_expand_activation False\n",
            "150 block4c_dwconv False\n",
            "151 block4c_bn False\n",
            "152 block4c_activation False\n",
            "153 block4c_se_squeeze False\n",
            "154 block4c_se_reshape False\n",
            "155 block4c_se_reduce False\n",
            "156 block4c_se_expand False\n",
            "157 block4c_se_excite False\n",
            "158 block4c_project_conv False\n",
            "159 block4c_project_bn False\n",
            "160 block4c_drop False\n",
            "161 block4c_add False\n",
            "162 block4d_expand_conv False\n",
            "163 block4d_expand_bn False\n",
            "164 block4d_expand_activation False\n",
            "165 block4d_dwconv False\n",
            "166 block4d_bn False\n",
            "167 block4d_activation False\n",
            "168 block4d_se_squeeze False\n",
            "169 block4d_se_reshape False\n",
            "170 block4d_se_reduce False\n",
            "171 block4d_se_expand False\n",
            "172 block4d_se_excite False\n",
            "173 block4d_project_conv False\n",
            "174 block4d_project_bn False\n",
            "175 block4d_drop False\n",
            "176 block4d_add False\n",
            "177 block5a_expand_conv False\n",
            "178 block5a_expand_bn False\n",
            "179 block5a_expand_activation False\n",
            "180 block5a_dwconv False\n",
            "181 block5a_bn False\n",
            "182 block5a_activation False\n",
            "183 block5a_se_squeeze False\n",
            "184 block5a_se_reshape False\n",
            "185 block5a_se_reduce False\n",
            "186 block5a_se_expand False\n",
            "187 block5a_se_excite False\n",
            "188 block5a_project_conv False\n",
            "189 block5a_project_bn False\n",
            "190 block5b_expand_conv False\n",
            "191 block5b_expand_bn False\n",
            "192 block5b_expand_activation False\n",
            "193 block5b_dwconv False\n",
            "194 block5b_bn False\n",
            "195 block5b_activation False\n",
            "196 block5b_se_squeeze False\n",
            "197 block5b_se_reshape False\n",
            "198 block5b_se_reduce False\n",
            "199 block5b_se_expand False\n",
            "200 block5b_se_excite False\n",
            "201 block5b_project_conv False\n",
            "202 block5b_project_bn False\n",
            "203 block5b_drop False\n",
            "204 block5b_add False\n",
            "205 block5c_expand_conv False\n",
            "206 block5c_expand_bn False\n",
            "207 block5c_expand_activation False\n",
            "208 block5c_dwconv False\n",
            "209 block5c_bn False\n",
            "210 block5c_activation False\n",
            "211 block5c_se_squeeze False\n",
            "212 block5c_se_reshape False\n",
            "213 block5c_se_reduce False\n",
            "214 block5c_se_expand False\n",
            "215 block5c_se_excite False\n",
            "216 block5c_project_conv False\n",
            "217 block5c_project_bn False\n",
            "218 block5c_drop False\n",
            "219 block5c_add False\n",
            "220 block5d_expand_conv False\n",
            "221 block5d_expand_bn False\n",
            "222 block5d_expand_activation False\n",
            "223 block5d_dwconv False\n",
            "224 block5d_bn False\n",
            "225 block5d_activation False\n",
            "226 block5d_se_squeeze False\n",
            "227 block5d_se_reshape False\n",
            "228 block5d_se_reduce False\n",
            "229 block5d_se_expand False\n",
            "230 block5d_se_excite False\n",
            "231 block5d_project_conv False\n",
            "232 block5d_project_bn False\n",
            "233 block5d_drop False\n",
            "234 block5d_add False\n",
            "235 block6a_expand_conv False\n",
            "236 block6a_expand_bn False\n",
            "237 block6a_expand_activation False\n",
            "238 block6a_dwconv_pad False\n",
            "239 block6a_dwconv False\n",
            "240 block6a_bn False\n",
            "241 block6a_activation False\n",
            "242 block6a_se_squeeze False\n",
            "243 block6a_se_reshape False\n",
            "244 block6a_se_reduce False\n",
            "245 block6a_se_expand False\n",
            "246 block6a_se_excite False\n",
            "247 block6a_project_conv False\n",
            "248 block6a_project_bn False\n",
            "249 block6b_expand_conv False\n",
            "250 block6b_expand_bn False\n",
            "251 block6b_expand_activation False\n",
            "252 block6b_dwconv False\n",
            "253 block6b_bn False\n",
            "254 block6b_activation False\n",
            "255 block6b_se_squeeze False\n",
            "256 block6b_se_reshape False\n",
            "257 block6b_se_reduce False\n",
            "258 block6b_se_expand False\n",
            "259 block6b_se_excite False\n",
            "260 block6b_project_conv False\n",
            "261 block6b_project_bn False\n",
            "262 block6b_drop False\n",
            "263 block6b_add False\n",
            "264 block6c_expand_conv False\n",
            "265 block6c_expand_bn False\n",
            "266 block6c_expand_activation False\n",
            "267 block6c_dwconv False\n",
            "268 block6c_bn False\n",
            "269 block6c_activation False\n",
            "270 block6c_se_squeeze False\n",
            "271 block6c_se_reshape False\n",
            "272 block6c_se_reduce False\n",
            "273 block6c_se_expand False\n",
            "274 block6c_se_excite False\n",
            "275 block6c_project_conv False\n",
            "276 block6c_project_bn False\n",
            "277 block6c_drop False\n",
            "278 block6c_add False\n",
            "279 block6d_expand_conv False\n",
            "280 block6d_expand_bn False\n",
            "281 block6d_expand_activation False\n",
            "282 block6d_dwconv False\n",
            "283 block6d_bn False\n",
            "284 block6d_activation False\n",
            "285 block6d_se_squeeze False\n",
            "286 block6d_se_reshape False\n",
            "287 block6d_se_reduce False\n",
            "288 block6d_se_expand False\n",
            "289 block6d_se_excite False\n",
            "290 block6d_project_conv False\n",
            "291 block6d_project_bn False\n",
            "292 block6d_drop False\n",
            "293 block6d_add False\n",
            "294 block6e_expand_conv False\n",
            "295 block6e_expand_bn False\n",
            "296 block6e_expand_activation False\n",
            "297 block6e_dwconv False\n",
            "298 block6e_bn False\n",
            "299 block6e_activation False\n",
            "300 block6e_se_squeeze False\n",
            "301 block6e_se_reshape False\n",
            "302 block6e_se_reduce False\n",
            "303 block6e_se_expand False\n",
            "304 block6e_se_excite False\n",
            "305 block6e_project_conv False\n",
            "306 block6e_project_bn False\n",
            "307 block6e_drop False\n",
            "308 block6e_add False\n",
            "309 block7a_expand_conv False\n",
            "310 block7a_expand_bn False\n",
            "311 block7a_expand_activation False\n",
            "312 block7a_dwconv False\n",
            "313 block7a_bn False\n",
            "314 block7a_activation True\n",
            "315 block7a_se_squeeze True\n",
            "316 block7a_se_reshape True\n",
            "317 block7a_se_reduce True\n",
            "318 block7a_se_expand True\n",
            "319 block7a_se_excite True\n",
            "320 block7a_project_conv True\n",
            "321 block7a_project_bn False\n",
            "322 block7b_expand_conv True\n",
            "323 block7b_expand_bn False\n",
            "324 block7b_expand_activation True\n",
            "325 block7b_dwconv True\n",
            "326 block7b_bn False\n",
            "327 block7b_activation True\n",
            "328 block7b_se_squeeze True\n",
            "329 block7b_se_reshape True\n",
            "330 block7b_se_reduce True\n",
            "331 block7b_se_expand True\n",
            "332 block7b_se_excite True\n",
            "333 block7b_project_conv True\n",
            "334 block7b_project_bn False\n",
            "335 block7b_drop True\n",
            "336 block7b_add True\n",
            "337 top_conv True\n",
            "338 top_bn False\n",
            "339 top_activation True\n",
            "340 avg_pool True\n",
            "341 batch_normalization True\n",
            "342 top_dropout True\n",
            "343 pred True\n"
          ]
        }
      ],
      "source": [
        "for i, layer in enumerate(model.layers):\n",
        "   print(i, layer.name, layer.trainable)\n",
        "# model.summary()"
      ]
    },
    {
      "cell_type": "code",
      "execution_count": null,
      "metadata": {
        "colab": {
          "base_uri": "https://localhost:8080/"
        },
        "id": "AEjvOcow_bP1",
        "outputId": "94154bc0-7821-4d87-9fab-16b654946b7a"
      },
      "outputs": [
        {
          "name": "stdout",
          "output_type": "stream",
          "text": [
            "Epoch 1/200\n",
            "13/13 [==============================] - 27s 452ms/step - loss: 0.5295 - accuracy: 0.9041 - val_loss: 0.2402 - val_accuracy: 0.9176 - lr: 1.0000e-04\n",
            "Epoch 2/200\n",
            "13/13 [==============================] - 1s 93ms/step - loss: 0.4594 - accuracy: 0.9163 - val_loss: 0.2519 - val_accuracy: 0.9101 - lr: 1.0000e-04\n",
            "Epoch 3/200\n",
            "13/13 [==============================] - 1s 94ms/step - loss: 0.4542 - accuracy: 0.9194 - val_loss: 0.2722 - val_accuracy: 0.8951 - lr: 1.0000e-04\n",
            "Epoch 4/200\n",
            "12/13 [==========================>...] - ETA: 0s - loss: 0.4353 - accuracy: 0.9186\n",
            "Epoch 4: ReduceLROnPlateau reducing learning rate to 1.9999999494757503e-05.\n",
            "13/13 [==============================] - 1s 93ms/step - loss: 0.4343 - accuracy: 0.9185 - val_loss: 0.2567 - val_accuracy: 0.9001 - lr: 1.0000e-04\n",
            "Epoch 5/200\n",
            "13/13 [==============================] - 1s 94ms/step - loss: 0.3740 - accuracy: 0.9354 - val_loss: 0.2414 - val_accuracy: 0.9126 - lr: 2.0000e-05\n",
            "Epoch 6/200\n",
            "13/13 [==============================] - 1s 102ms/step - loss: 0.3867 - accuracy: 0.9354 - val_loss: 0.2350 - val_accuracy: 0.9226 - lr: 2.0000e-05\n",
            "Epoch 7/200\n",
            "13/13 [==============================] - 1s 92ms/step - loss: 0.3449 - accuracy: 0.9416 - val_loss: 0.2351 - val_accuracy: 0.9164 - lr: 2.0000e-05\n",
            "Epoch 8/200\n",
            "13/13 [==============================] - 1s 92ms/step - loss: 0.3555 - accuracy: 0.9400 - val_loss: 0.2360 - val_accuracy: 0.9101 - lr: 2.0000e-05\n",
            "Epoch 9/200\n",
            "12/13 [==========================>...] - ETA: 0s - loss: 0.3608 - accuracy: 0.9382\n",
            "Epoch 9: ReduceLROnPlateau reducing learning rate to 3.999999898951501e-06.\n",
            "13/13 [==============================] - 1s 92ms/step - loss: 0.3587 - accuracy: 0.9379 - val_loss: 0.2355 - val_accuracy: 0.9176 - lr: 2.0000e-05\n",
            "Epoch 10/200\n",
            "13/13 [==============================] - 1s 93ms/step - loss: 0.3281 - accuracy: 0.9444 - val_loss: 0.2350 - val_accuracy: 0.9139 - lr: 4.0000e-06\n",
            "Epoch 11/200\n",
            "13/13 [==============================] - 1s 92ms/step - loss: 0.3411 - accuracy: 0.9391 - val_loss: 0.2346 - val_accuracy: 0.9164 - lr: 4.0000e-06\n",
            "Epoch 12/200\n",
            "12/13 [==========================>...] - ETA: 0s - loss: 0.3306 - accuracy: 0.9424\n",
            "Epoch 12: ReduceLROnPlateau reducing learning rate to 1e-06.\n",
            "13/13 [==============================] - 1s 92ms/step - loss: 0.3352 - accuracy: 0.9422 - val_loss: 0.2345 - val_accuracy: 0.9151 - lr: 4.0000e-06\n",
            "Epoch 13/200\n",
            "13/13 [==============================] - 1s 93ms/step - loss: 0.3314 - accuracy: 0.9447 - val_loss: 0.2344 - val_accuracy: 0.9151 - lr: 1.0000e-06\n",
            "Epoch 14/200\n",
            "13/13 [==============================] - 1s 93ms/step - loss: 0.3300 - accuracy: 0.9457 - val_loss: 0.2346 - val_accuracy: 0.9139 - lr: 1.0000e-06\n",
            "Epoch 15/200\n",
            "13/13 [==============================] - 1s 94ms/step - loss: 0.3217 - accuracy: 0.9500 - val_loss: 0.2346 - val_accuracy: 0.9139 - lr: 1.0000e-06\n",
            "Epoch 16/200\n",
            "13/13 [==============================] - 2s 140ms/step - loss: 0.3318 - accuracy: 0.9469 - val_loss: 0.2345 - val_accuracy: 0.9164 - lr: 1.0000e-06\n",
            "Epoch 1/200\n",
            "13/13 [==============================] - 2s 144ms/step - loss: 0.4194 - accuracy: 0.9304 - val_loss: 0.1202 - val_accuracy: 0.9788 - lr: 1.0000e-06\n",
            "Epoch 2/200\n",
            "13/13 [==============================] - 1s 92ms/step - loss: 0.4231 - accuracy: 0.9260 - val_loss: 0.1206 - val_accuracy: 0.9788 - lr: 1.0000e-06\n",
            "Epoch 3/200\n",
            "13/13 [==============================] - 1s 92ms/step - loss: 0.4375 - accuracy: 0.9210 - val_loss: 0.1214 - val_accuracy: 0.9788 - lr: 1.0000e-06\n",
            "Epoch 4/200\n",
            "13/13 [==============================] - 1s 92ms/step - loss: 0.4075 - accuracy: 0.9272 - val_loss: 0.1220 - val_accuracy: 0.9788 - lr: 1.0000e-06\n",
            "Epoch 5/200\n",
            "13/13 [==============================] - 1s 93ms/step - loss: 0.4076 - accuracy: 0.9294 - val_loss: 0.1224 - val_accuracy: 0.9788 - lr: 1.0000e-06\n",
            "Epoch 6/200\n",
            "13/13 [==============================] - 1s 94ms/step - loss: 0.4182 - accuracy: 0.9241 - val_loss: 0.1226 - val_accuracy: 0.9788 - lr: 1.0000e-06\n",
            "Epoch 7/200\n",
            "13/13 [==============================] - 1s 94ms/step - loss: 0.4071 - accuracy: 0.9307 - val_loss: 0.1231 - val_accuracy: 0.9788 - lr: 1.0000e-06\n",
            "Epoch 8/200\n",
            "13/13 [==============================] - 1s 93ms/step - loss: 0.4330 - accuracy: 0.9210 - val_loss: 0.1235 - val_accuracy: 0.9775 - lr: 1.0000e-06\n",
            "Epoch 9/200\n",
            "13/13 [==============================] - 1s 95ms/step - loss: 0.3918 - accuracy: 0.9322 - val_loss: 0.1237 - val_accuracy: 0.9763 - lr: 1.0000e-06\n",
            "Epoch 10/200\n",
            "13/13 [==============================] - 1s 92ms/step - loss: 0.4159 - accuracy: 0.9319 - val_loss: 0.1240 - val_accuracy: 0.9763 - lr: 1.0000e-06\n",
            "Epoch 11/200\n",
            "13/13 [==============================] - 1s 107ms/step - loss: 0.4088 - accuracy: 0.9257 - val_loss: 0.1242 - val_accuracy: 0.9763 - lr: 1.0000e-06\n",
            "Epoch 1/200\n",
            "13/13 [==============================] - 2s 142ms/step - loss: 0.4135 - accuracy: 0.9291 - val_loss: 0.1416 - val_accuracy: 0.9675 - lr: 1.0000e-06\n",
            "Epoch 2/200\n",
            "13/13 [==============================] - 1s 93ms/step - loss: 0.4228 - accuracy: 0.9238 - val_loss: 0.1419 - val_accuracy: 0.9663 - lr: 1.0000e-06\n",
            "Epoch 3/200\n",
            "13/13 [==============================] - 1s 92ms/step - loss: 0.4138 - accuracy: 0.9260 - val_loss: 0.1423 - val_accuracy: 0.9650 - lr: 1.0000e-06\n",
            "Epoch 4/200\n",
            "13/13 [==============================] - 1s 93ms/step - loss: 0.3973 - accuracy: 0.9279 - val_loss: 0.1428 - val_accuracy: 0.9663 - lr: 1.0000e-06\n",
            "Epoch 5/200\n",
            "13/13 [==============================] - 1s 94ms/step - loss: 0.4019 - accuracy: 0.9285 - val_loss: 0.1432 - val_accuracy: 0.9663 - lr: 1.0000e-06\n",
            "Epoch 6/200\n",
            "13/13 [==============================] - 1s 94ms/step - loss: 0.4420 - accuracy: 0.9250 - val_loss: 0.1434 - val_accuracy: 0.9663 - lr: 1.0000e-06\n",
            "Epoch 7/200\n",
            "13/13 [==============================] - 1s 95ms/step - loss: 0.3956 - accuracy: 0.9354 - val_loss: 0.1436 - val_accuracy: 0.9663 - lr: 1.0000e-06\n",
            "Epoch 8/200\n",
            "13/13 [==============================] - 1s 94ms/step - loss: 0.4276 - accuracy: 0.9225 - val_loss: 0.1437 - val_accuracy: 0.9663 - lr: 1.0000e-06\n",
            "Epoch 9/200\n",
            "13/13 [==============================] - 1s 94ms/step - loss: 0.4072 - accuracy: 0.9260 - val_loss: 0.1439 - val_accuracy: 0.9650 - lr: 1.0000e-06\n",
            "Epoch 10/200\n",
            "13/13 [==============================] - 1s 93ms/step - loss: 0.4165 - accuracy: 0.9263 - val_loss: 0.1440 - val_accuracy: 0.9650 - lr: 1.0000e-06\n",
            "Epoch 11/200\n",
            "13/13 [==============================] - 1s 108ms/step - loss: 0.3881 - accuracy: 0.9313 - val_loss: 0.1440 - val_accuracy: 0.9650 - lr: 1.0000e-06\n",
            "Epoch 1/200\n",
            "13/13 [==============================] - 2s 175ms/step - loss: 0.4164 - accuracy: 0.9254 - val_loss: 0.1440 - val_accuracy: 0.9712 - lr: 1.0000e-06\n",
            "Epoch 2/200\n",
            "13/13 [==============================] - 1s 94ms/step - loss: 0.4111 - accuracy: 0.9204 - val_loss: 0.1441 - val_accuracy: 0.9712 - lr: 1.0000e-06\n",
            "Epoch 3/200\n",
            "13/13 [==============================] - 1s 93ms/step - loss: 0.4194 - accuracy: 0.9269 - val_loss: 0.1453 - val_accuracy: 0.9712 - lr: 1.0000e-06\n",
            "Epoch 4/200\n",
            "13/13 [==============================] - 1s 94ms/step - loss: 0.4157 - accuracy: 0.9241 - val_loss: 0.1462 - val_accuracy: 0.9712 - lr: 1.0000e-06\n",
            "Epoch 5/200\n",
            "13/13 [==============================] - 1s 91ms/step - loss: 0.4261 - accuracy: 0.9216 - val_loss: 0.1460 - val_accuracy: 0.9712 - lr: 1.0000e-06\n",
            "Epoch 6/200\n",
            "13/13 [==============================] - 1s 93ms/step - loss: 0.4280 - accuracy: 0.9219 - val_loss: 0.1457 - val_accuracy: 0.9712 - lr: 1.0000e-06\n",
            "Epoch 7/200\n",
            "13/13 [==============================] - 1s 94ms/step - loss: 0.4089 - accuracy: 0.9260 - val_loss: 0.1457 - val_accuracy: 0.9712 - lr: 1.0000e-06\n",
            "Epoch 8/200\n",
            "13/13 [==============================] - 1s 95ms/step - loss: 0.4086 - accuracy: 0.9251 - val_loss: 0.1458 - val_accuracy: 0.9712 - lr: 1.0000e-06\n",
            "Epoch 9/200\n",
            "13/13 [==============================] - 1s 94ms/step - loss: 0.4054 - accuracy: 0.9257 - val_loss: 0.1466 - val_accuracy: 0.9712 - lr: 1.0000e-06\n",
            "Epoch 10/200\n",
            "13/13 [==============================] - 1s 93ms/step - loss: 0.4163 - accuracy: 0.9282 - val_loss: 0.1473 - val_accuracy: 0.9712 - lr: 1.0000e-06\n",
            "Epoch 11/200\n",
            "13/13 [==============================] - 1s 106ms/step - loss: 0.4188 - accuracy: 0.9235 - val_loss: 0.1477 - val_accuracy: 0.9712 - lr: 1.0000e-06\n",
            "Epoch 1/200\n",
            "13/13 [==============================] - 2s 141ms/step - loss: 0.4043 - accuracy: 0.9313 - val_loss: 0.1533 - val_accuracy: 0.9638 - lr: 1.0000e-06\n",
            "Epoch 2/200\n",
            "13/13 [==============================] - 1s 94ms/step - loss: 0.4358 - accuracy: 0.9223 - val_loss: 0.1541 - val_accuracy: 0.9625 - lr: 1.0000e-06\n",
            "Epoch 3/200\n",
            "13/13 [==============================] - 1s 93ms/step - loss: 0.4080 - accuracy: 0.9323 - val_loss: 0.1551 - val_accuracy: 0.9613 - lr: 1.0000e-06\n",
            "Epoch 4/200\n",
            "13/13 [==============================] - 1s 94ms/step - loss: 0.4129 - accuracy: 0.9279 - val_loss: 0.1565 - val_accuracy: 0.9613 - lr: 1.0000e-06\n",
            "Epoch 5/200\n",
            "13/13 [==============================] - 1s 94ms/step - loss: 0.3955 - accuracy: 0.9335 - val_loss: 0.1568 - val_accuracy: 0.9600 - lr: 1.0000e-06\n",
            "Epoch 6/200\n",
            "13/13 [==============================] - 1s 92ms/step - loss: 0.4121 - accuracy: 0.9226 - val_loss: 0.1573 - val_accuracy: 0.9600 - lr: 1.0000e-06\n",
            "Epoch 7/200\n",
            "13/13 [==============================] - 1s 92ms/step - loss: 0.3879 - accuracy: 0.9357 - val_loss: 0.1569 - val_accuracy: 0.9600 - lr: 1.0000e-06\n",
            "Epoch 8/200\n",
            "13/13 [==============================] - 1s 92ms/step - loss: 0.4138 - accuracy: 0.9260 - val_loss: 0.1566 - val_accuracy: 0.9600 - lr: 1.0000e-06\n",
            "Epoch 9/200\n",
            "13/13 [==============================] - 1s 93ms/step - loss: 0.4022 - accuracy: 0.9288 - val_loss: 0.1565 - val_accuracy: 0.9600 - lr: 1.0000e-06\n",
            "Epoch 10/200\n",
            "13/13 [==============================] - 1s 91ms/step - loss: 0.4296 - accuracy: 0.9185 - val_loss: 0.1565 - val_accuracy: 0.9600 - lr: 1.0000e-06\n",
            "Epoch 11/200\n",
            "13/13 [==============================] - 1s 109ms/step - loss: 0.4167 - accuracy: 0.9226 - val_loss: 0.1568 - val_accuracy: 0.9600 - lr: 1.0000e-06\n"
          ]
        }
      ],
      "source": [
        "#Importing the KFold module from sklearn for evaluation\n",
        "from sklearn.model_selection import KFold\n",
        "\n",
        "k =5\n",
        "\n",
        "kf = KFold(n_splits=k, random_state=True, shuffle=True)\n",
        "\n",
        "n_classes=2\n",
        "\n",
        "for train_index, val_index in kf.split(X) :\n",
        "    X_train, X_val = X[train_index], X[val_index]\n",
        "    y_train, y_val = y[train_index], y[val_index]\n",
        "\n",
        "    history = model.fit(\n",
        "    # x = preprocess_input(X_train*255), # We need to apply the preprocessing thought for the MobileNetV2 network\n",
        "    x = (X_train),\n",
        "    y = y_train,\n",
        "    batch_size = 256,\n",
        "    epochs = 200,\n",
        "    # validation_data = (preprocess_input(X_val*255), y_val), # We need to apply the preprocessing thought for the MobileNetV2 network\n",
        "    validation_data = ((X_val), y_val), # We need to apply the preprocessing thought for the MobileNetV2 network\n",
        "    shuffle=True,\n",
        "    callbacks = callbacks,\n",
        "    class_weight={0: class_weights[0], 1: class_weights[1]} # can comment this line if don't want to have weighted classes\n",
        "    ).history\n"
      ]
    },
    {
      "cell_type": "code",
      "execution_count": null,
      "metadata": {
        "colab": {
          "base_uri": "https://localhost:8080/"
        },
        "id": "gJicEjx6x1hB",
        "outputId": "c398d8d1-318e-4149-f101-6b888fa9c6e7"
      },
      "outputs": [
        {
          "name": "stdout",
          "output_type": "stream",
          "text": [
            "Test set accuracy 0.8601\n"
          ]
        }
      ],
      "source": [
        "# Evaluate the model on the test set\n",
        "# test_accuracy = ft_model.evaluate(preprocess_input(X_test),y_test,verbose=0)[-1]\n",
        "test_accuracy = model.evaluate(X_test,y_test,verbose=0)[-1]\n",
        "print('Test set accuracy %.4f' % test_accuracy)"
      ]
    },
    {
      "cell_type": "code",
      "execution_count": null,
      "metadata": {
        "id": "VFAQdQXeKPGR"
      },
      "outputs": [],
      "source": [
        "model.save('KFoldCrossVal_EfficientNetB2')"
      ]
    },
    {
      "cell_type": "markdown",
      "metadata": {
        "id": "GmW6fpaa1yEk"
      },
      "source": [
        "## Loading and testing the model"
      ]
    },
    {
      "cell_type": "code",
      "execution_count": null,
      "metadata": {
        "id": "NPTIUCaEApXh"
      },
      "outputs": [],
      "source": [
        "submission_model=tf.keras.models.load_model('FineTuningMobilevnet_v2_vne')"
      ]
    },
    {
      "cell_type": "code",
      "execution_count": null,
      "metadata": {
        "id": "gJHAsEmy53Lx"
      },
      "outputs": [],
      "source": [
        "# Predict labels for the entire test set\n",
        "predictions = submission_model.predict((preprocess_input(X_test)), verbose=0)\n",
        "y_pred=np.round(predictions)\n",
        "\n",
        "# Display the shape of the predictions\n",
        "print(\"Predictions Shape:\", y_pred.shape)\n",
        "\n",
        "accuracy = accuracy_score(y_test, y_pred)\n",
        "accuracy"
      ]
    },
    {
      "cell_type": "code",
      "execution_count": null,
      "metadata": {
        "id": "vr4sEFLz6Kju"
      },
      "outputs": [],
      "source": [
        "# Compute the confusion matrix\n",
        "\n",
        "cm = confusion_matrix(y_test, y_pred)\n",
        "\n",
        "# Compute classification metrics\n",
        "accuracy = accuracy_score(y_test, y_pred)\n",
        "precision = precision_score(y_test, y_pred, average='macro')\n",
        "recall = recall_score(y_test, y_pred, average='macro')\n",
        "f1 = f1_score(y_test, y_pred, average='macro')\n",
        "\n",
        "# Display the computed metrics\n",
        "print('Accuracy:', accuracy.round(4))\n",
        "print('Precision:', precision.round(4))\n",
        "print('Recall:', recall.round(4))\n",
        "print('F1:', f1.round(4))\n",
        "\n",
        "# Plot the confusion matrix\n",
        "plt.figure(figsize=(10, 8))\n",
        "sns.heatmap(cm.T, xticklabels=list(results_labels.values()), yticklabels=list(results_labels.values()))\n",
        "plt.xlabel('True labels')\n",
        "plt.ylabel('Predicted labels')\n",
        "plt.show()"
      ]
    },
    {
      "cell_type": "markdown",
      "metadata": {
        "id": "RlaEuLD53-ip"
      },
      "source": [
        "### Submission - test"
      ]
    },
    {
      "cell_type": "code",
      "execution_count": null,
      "metadata": {
        "id": "6AKJlMZR_xcQ"
      },
      "outputs": [],
      "source": [
        "import os\n",
        "import tensorflow as tf\n",
        "import numpy as np\n",
        "from tensorflow.keras.applications.mobilenet import preprocess_input\n",
        "\n",
        "class model:\n",
        "    def __init__(self, path):\n",
        "        self.model = tf.keras.models.load_model(os.path.join(path, 'TransferLearningModel_v2'))\n",
        "\n",
        "    def predict(self, X):\n",
        "\n",
        "        # Note: this is just an example.\n",
        "        # Here the model.predict is called, followed by the argmax\n",
        "        out = self.model.predict(preprocess_input(X_test), verbose=0)\n",
        "        out = np.round(out)  # Shape [BS] #for sigmoid\n",
        "        out=out.reshape((out.shape[0],))\n",
        "        out = tf.convert_to_tensor(out)\n",
        "\n",
        "        return out"
      ]
    },
    {
      "cell_type": "code",
      "execution_count": null,
      "metadata": {
        "id": "QveNtrbdBvYY"
      },
      "outputs": [],
      "source": [
        "model = model('/gdrive/My Drive/Colab Notebooks/ANN challenge')\n",
        "predictions=model.predict(X_test)\n",
        "accuracy = accuracy_score(y_test,predictions)\n",
        "accuracy"
      ]
    },
    {
      "cell_type": "code",
      "execution_count": null,
      "metadata": {
        "id": "cIjzLlxXB8H-"
      },
      "outputs": [],
      "source": [
        "# # out = np.round(])\n",
        "# print(out.shape)\n",
        "\n",
        "# out.reshape((out.shape[0],))"
      ]
    },
    {
      "cell_type": "code",
      "execution_count": null,
      "metadata": {
        "id": "F9LtB1NfCV1Z"
      },
      "outputs": [],
      "source": [
        "del model"
      ]
    }
  ],
  "metadata": {
    "accelerator": "GPU",
    "colab": {
      "collapsed_sections": [
        "omSLbdLvhDRx",
        "MdD_8Vyswkwf",
        "deve442EsZsH",
        "uCwKzYe_e1hx",
        "9D7IqmYIfMPE",
        "ezzs0rJlgg9K"
      ],
      "provenance": []
    },
    "kernelspec": {
      "display_name": "Python 3",
      "name": "python3"
    },
    "language_info": {
      "codemirror_mode": {
        "name": "ipython",
        "version": 3
      },
      "file_extension": ".py",
      "mimetype": "text/x-python",
      "name": "python",
      "nbconvert_exporter": "python",
      "pygments_lexer": "ipython3",
      "version": "3.8.8"
    }
  },
  "nbformat": 4,
  "nbformat_minor": 0
}